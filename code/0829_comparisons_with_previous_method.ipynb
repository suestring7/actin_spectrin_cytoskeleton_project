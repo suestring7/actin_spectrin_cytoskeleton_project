{
 "cells": [
  {
   "cell_type": "code",
   "execution_count": null,
   "metadata": {},
   "outputs": [],
   "source": [
    "from utils import *"
   ]
  },
  {
   "cell_type": "code",
   "execution_count": null,
   "metadata": {},
   "outputs": [],
   "source": [
    "# check if AB, AC in clockwise order or colinear\n",
    "def ccw(A,B,C):\n",
    "    if (C[1]-A[1]) * (B[0]-A[0]) > (B[1]-A[1]) * (C[0]-A[0]):\n",
    "        return 1\n",
    "    if (C[1]-A[1]) * (B[0]-A[0]) == (B[1]-A[1]) * (C[0]-A[0]):\n",
    "        return 0\n",
    "    return -1\n",
    "\n",
    "# check if C is between A and B\n",
    "def betwn(A,B,C):\n",
    "    return C[0] > min(A[0],B[0]) and C[0] < max(A[0],B[0])\n",
    "\n",
    "# Return true if line segments AB and CD intersect\n",
    "def intersect(A,B,C,D):\n",
    "    #print(ccw(A,C,D),ccw(B,C,D), ccw(A,B,C), ccw(A,B,D))\n",
    "    if ccw(A,C,D) != ccw(B,C,D) and ccw(A,B,C) != ccw(A,B,D):\n",
    "        return True\n",
    "    if ccw(A,B,C)==0 and betwn(A,B,C):\n",
    "        return True\n",
    "    if ccw(A,B,D)==0 and betwn(A,B,D):\n",
    "        return True\n",
    "    if ccw(A,C,D)==0 and betwn(C,D,A):\n",
    "        return True\n",
    "    if ccw(B,C,D)==0 and betwn(C,D,B):\n",
    "        return True\n",
    "    return False\n"
   ]
  },
  {
   "cell_type": "code",
   "execution_count": null,
   "metadata": {},
   "outputs": [],
   "source": [
    "def convertList2Matrix(link_list, n_vx):\n",
    "    links = np.zeros([n_vx, n_vx])\n",
    "    for link in link_list:\n",
    "        links[link[0]][link[1]] = links[link[1]][link[0]] = 1\n",
    "    return links"
   ]
  },
  {
   "cell_type": "code",
   "execution_count": null,
   "metadata": {},
   "outputs": [],
   "source": [
    "def generateLinksBoran(vxs, thre=[140,240], mode=0):\n",
    "    # mode: \n",
    "    #   0: delete both edges if cross, \n",
    "    #   1: delete the second edge if cross\n",
    "    #   2: plot all edges once in range\n",
    "    n_vx = len(vxs)\n",
    "    links = np.zeros([n_vx, n_vx])\n",
    "    dist_matrix = distance_matrix(vxs, vxs)\n",
    "    for i in range(n_vx):\n",
    "        for j in range(i+1, n_vx):\n",
    "            if thre[0] <= dist_matrix[i][j] <= thre[1]:\n",
    "                links[i][j]=links[j][i]=1\n",
    "    link_list = convertMatrix2List(links)\n",
    "    n_links = len(link_list)\n",
    "    del_idx=[]\n",
    "    if mode == 0:\n",
    "        for i in range(n_links):\n",
    "            for j in range(i+1, n_links):\n",
    "                if link_list[i][0] not in [link_list[j][0],link_list[j][1]] and link_list[i][1] not in [link_list[j][0],link_list[j][1]]:\n",
    "                    if intersect(vxs[link_list[i][0]],vxs[link_list[i][1]],vxs[link_list[j][0]],vxs[link_list[j][1]]):\n",
    "                        del_idx.extend([i,j])\n",
    "    elif mode == 1:\n",
    "        for i in range(n_links):\n",
    "            if i not in del_idx:\n",
    "                for j in range(i+1, n_links):\n",
    "                    if j not in del_idx:\n",
    "                        if link_list[i][0] not in [link_list[j][0],link_list[j][1]] and link_list[i][1] not in [link_list[j][0],link_list[j][1]]:\n",
    "                            if intersect(vxs[link_list[i][0]],vxs[link_list[i][1]],vxs[link_list[j][0]],vxs[link_list[j][1]]):\n",
    "                                del_idx.extend([j])\n",
    "    link_list = [ link_list[x] for x in range(n_links) if x not in del_idx ]\n",
    "    return convertList2Matrix(link_list, n_vx)\n",
    "\n",
    "    "
   ]
  },
  {
   "cell_type": "code",
   "execution_count": null,
   "metadata": {},
   "outputs": [],
   "source": [
    "def simRandD(size=100, d=5, n=20):\n",
    "    points = []\n",
    "    i = 0\n",
    "    c = 0\n",
    "    while i < n and c < 20:\n",
    "        t_vx = np.random.rand(2) * size\n",
    "        t_flag = 1\n",
    "        for vx in points:\n",
    "            if np.linalg.norm(t_vx - vx) < d:\n",
    "                t_flag = 0\n",
    "                c += 1\n",
    "                break\n",
    "        if t_flag == 1:\n",
    "            points.append(t_vx)\n",
    "            i += 1\n",
    "            c = 0\n",
    "    return np.array(points)"
   ]
  },
  {
   "cell_type": "code",
   "execution_count": null,
   "metadata": {},
   "outputs": [],
   "source": [
    "def generateLinks(vxs, img=None, thre=[100, 200], plot=1, mode=0):\n",
    "    # first step\n",
    "    n_vx = len(vxs)\n",
    "    links = np.zeros([n_vx, n_vx])\n",
    "    if n_vx <= 4:\n",
    "        return links\n",
    "    tri = Delaunay(vxs)\n",
    "    if mode ==0:\n",
    "        small_tri = [\n",
    "            x\n",
    "            for x in tri.simplices\n",
    "            if thre[0] <= np.linalg.norm(vxs[x[0]] - vxs[x[1]]) <= thre[1]\n",
    "            and thre[0] <= np.linalg.norm(vxs[x[2]] - vxs[x[1]]) <= thre[1]\n",
    "            and thre[0] <= np.linalg.norm(vxs[x[0]] - vxs[x[2]]) <= thre[1]\n",
    "        ]\n",
    "        for x in small_tri:\n",
    "            links[x[0]][x[1]] = links[x[1]][x[0]] = links[x[0]][x[2]] = links[x[2]][x[0]] = links[x[1]][x[2]] = links[x[2]][x[1]] = 1\n",
    "    elif mode ==1:\n",
    "        for x in tri.simplices:\n",
    "            if thre[0] <= np.linalg.norm(vxs[x[0]] - vxs[x[1]]) <= thre[1]:\n",
    "                links[x[0]][x[1]] = links[x[1]][x[0]]=1\n",
    "            if thre[0] <= np.linalg.norm(vxs[x[2]] - vxs[x[1]]) <= thre[1]:\n",
    "                links[x[2]][x[1]] = links[x[1]][x[2]]=1\n",
    "            if thre[0] <= np.linalg.norm(vxs[x[0]] - vxs[x[2]]) <= thre[1]:\n",
    "                links[x[0]][x[2]] = links[x[2]][x[0]]=1\n",
    "    if plot:\n",
    "        plt.figure(figsize=[10, 10])\n",
    "        if img:\n",
    "            plt.imshow(img)\n",
    "        if small_tri:\n",
    "            plt.triplot(vxs[:, 0], vxs[:, 1], small_tri, c=\"g\")\n",
    "        plt.plot(\n",
    "            vxs[:, 0],\n",
    "            vxs[:, 1],\n",
    "            \".\",\n",
    "            markerfacecolor=\"purple\",\n",
    "            markersize=10,\n",
    "        )\n",
    "        ax = plt.gca()\n",
    "        ax.set_aspect(\"equal\", adjustable=\"box\")\n",
    "    return links"
   ]
  },
  {
   "cell_type": "code",
   "execution_count": null,
   "metadata": {},
   "outputs": [],
   "source": [
    "thre = [140, 240]\n",
    "np.random.seed(1027)\n",
    "vxs = simRandD(64*16,d=100,n=60)\n",
    "links = generateLinks(vxs, thre=thre, plot=0, mode=1)\n",
    "links1 = generateLinksBoran(vxs, mode=0)\n",
    "links2 = generateLinksBoran(vxs, mode=1)\n",
    "links0 = generateLinksBoran(vxs, mode=2)\n",
    "plt.subplots(2,2,figsize=[10,10])\n",
    "titles = [\"all links\", \"Boran original\", \"Boran delete 1\", \"Mine\"]\n",
    "for idx, lks in enumerate([links0, links1, links2, links]):\n",
    "    plt.subplot(2,2, idx+1)\n",
    "    visualize(vxs,lks,p_size=1, thre=thre)\n",
    "    plt.title(titles[idx])"
   ]
  },
  {
   "cell_type": "code",
   "execution_count": null,
   "metadata": {},
   "outputs": [],
   "source": [
    "def performance(test, gt):\n",
    "    correct = test[test==gt]\n",
    "    wrong = test[test!=gt]\n",
    "    FP = sum(wrong)/2\n",
    "    TP = sum(correct)/2\n",
    "    TN = len(correct)/2-TP\n",
    "    FN = len(wrong)/2-FP\n",
    "    precision = TP/(TP+FP)\n",
    "    recall = TP/(TP+FN)\n",
    "    accuracy = (TP+TN)/(TP+TN+FP+FN)\n",
    "    return(accuracy, precision, recall)"
   ]
  },
  {
   "cell_type": "code",
   "execution_count": null,
   "metadata": {},
   "outputs": [],
   "source": [
    "def visualize_gt(vxs, links, links_gt, **plot_args):\n",
    "    fig = plt.gcf()  # setup the plot\n",
    "    vxs = np.array(vxs)\n",
    "    n_vx = len(vxs)\n",
    "    plt.plot(\n",
    "        vxs[:, 0],\n",
    "        vxs[:, 1],\n",
    "        \".\",\n",
    "        markerfacecolor=\"purple\",\n",
    "        markersize=10,\n",
    "    )\n",
    "   \n",
    "    for i in range(n_vx):\n",
    "        for j in range(i + 1, n_vx):\n",
    "            if links[i][j] == 1 and links_gt[i][j]==0:\n",
    "                plt.plot(\n",
    "                    [vxs[i][0], vxs[j][0]],\n",
    "                    [vxs[i][1], vxs[j][1]],\n",
    "                    color=\"r\",\n",
    "                    **plot_args,\n",
    "                )\n",
    "            elif links[i][j] == 0 and links_gt[i][j]==1:\n",
    "                    plt.plot(\n",
    "                    [vxs[i][0], vxs[j][0]],\n",
    "                    [vxs[i][1], vxs[j][1]],\n",
    "                    '--',\n",
    "                    color=\"r\",\n",
    "                    **plot_args,\n",
    "                )\n",
    "            elif links[i][j] == 1:\n",
    "                plt.plot(\n",
    "                    [vxs[i][0], vxs[j][0]],\n",
    "                    [vxs[i][1], vxs[j][1]],\n",
    "                    color=\"g\",\n",
    "                    **plot_args,\n",
    "                )\n",
    "    plt.gca().set_aspect(\"equal\", adjustable=\"datalim\")\n",
    "    return 1"
   ]
  },
  {
   "cell_type": "markdown",
   "metadata": {},
   "source": [
    "## Test perfect 2D and 1Ds with different parameters"
   ]
  },
  {
   "cell_type": "markdown",
   "metadata": {},
   "source": [
    "### Perfect\n"
   ]
  },
  {
   "cell_type": "code",
   "execution_count": null,
   "metadata": {},
   "outputs": [],
   "source": [
    "def sim2Df(size=128, space=6, yoff=5):\n",
    "    # \"float version\"\n",
    "    nx = ny = int(size / space / 2) + 3\n",
    "    sim = [\n",
    "        [((x * 2 - y % 2) * space) + 10, (y * np.sqrt(3) * space) + yoff]\n",
    "        for x in range(nx)\n",
    "        for y in range(ny)\n",
    "    ]\n",
    "    sim2D = [\n",
    "        x for x in sim if x[0] >= 0 and x[0] <= size and x[1] >= 0 and x[1] <= size\n",
    "    ]\n",
    "    return np.array(sim2D)\n",
    "\n",
    "sim2D = sim2Df(64*16, 190/2)\n",
    "links_gt = generateLinks(sim2D, thre=[180,200])"
   ]
  },
  {
   "cell_type": "markdown",
   "metadata": {},
   "source": [
    "### Noise"
   ]
  },
  {
   "cell_type": "code",
   "execution_count": null,
   "metadata": {},
   "outputs": [],
   "source": [
    "perfs=[[] for i in range(4)]\n",
    "thre=[180,200]\n",
    "\n",
    "for noise in range(0,100,10):\n",
    "    perf_tmp=[[] for i in range(4)]\n",
    "    for ri in range(10):\n",
    "        vxs = jitter(sim2D, noise=noise)\n",
    "        links_d = generateLinks(vxs, thre=thre, plot=0, mode=1)\n",
    "        links0 = generateLinksBoran(vxs, thre=thre, mode=2)\n",
    "        links1 = generateLinksBoran(vxs, thre=thre, mode=0)\n",
    "        links2 = generateLinksBoran(vxs, thre=thre, mode=1)\n",
    "\n",
    "        for idx, lks in enumerate([links0, links1, links2, links_d]):\n",
    "            perf_tmp[idx].append(performance(lks,np.pad(links_gt, [(0, noise), (0, noise)], mode='constant')))\n",
    "\n",
    "    for li in range(4):\n",
    "        perfs[li].append(np.mean(perf_tmp[li], 0))\n",
    "        "
   ]
  },
  {
   "cell_type": "code",
   "execution_count": null,
   "metadata": {},
   "outputs": [],
   "source": [
    "stats=[\"accuracy\", \"precision\", \"recall\"]\n",
    "for j in range(3):\n",
    "    plt.figure()\n",
    "    plt.plot(np.array(perfs)[:,:,j].T)\n",
    "    plt.legend(titles)\n",
    "    plt.xticks(ticks=[x for x in range(10)],labels=[str(x) for x in range(0,100,10)])\n",
    "    plt.xlabel(\"Noise\")\n",
    "    plt.ylabel(stats[j] )\n",
    "    plt.title(stats[j] + \": \")\n"
   ]
  },
  {
   "cell_type": "markdown",
   "metadata": {},
   "source": [
    "### Randomness"
   ]
  },
  {
   "cell_type": "code",
   "execution_count": null,
   "metadata": {},
   "outputs": [],
   "source": [
    "np.mean(perfs[0],0)"
   ]
  },
  {
   "cell_type": "code",
   "execution_count": null,
   "metadata": {},
   "outputs": [],
   "source": [
    "perfs=[[] for i in range(4)]\n",
    "thre0=[50,280]\n",
    "thre1=[180,200]\n",
    "for rand in range(0,300,30):\n",
    "    perf_tmp=[[] for i in range(4)]\n",
    "    for ri in range(10):\n",
    "        vxs = jitter(sim2D, rand=rand)\n",
    "        links_d = generateLinks(vxs, thre=thre, plot=0, mode=1)\n",
    "        links0 = generateLinksBoran(vxs, thre=thre0, mode=2)\n",
    "        links1 = generateLinksBoran(vxs, thre=thre0, mode=0)\n",
    "        links2 = generateLinksBoran(vxs, thre=thre0, mode=1)\n",
    "\n",
    "        for idx, lks in enumerate([links0, links1, links2, links_d]):\n",
    "            perf_tmp[idx].append(performance(lks,links_gt))\n",
    "    for li in range(4):\n",
    "        perfs[li].append(np.mean(perf_tmp[li], 0))\n",
    "\n",
    "stats=[\"accuracy\", \"precision\", \"recall\"]\n",
    "for j in range(3):\n",
    "    plt.figure()\n",
    "    plt.plot(np.array(perfs)[:,:,j].T)\n",
    "    plt.legend(titles)\n",
    "    plt.xticks(ticks=[x for x in range(10)],labels=[str(x) for x in range(0,300,30)])\n",
    "    plt.xlabel(\"Randomness(nm)\")\n",
    "    plt.ylabel(stats[j] )\n",
    "    plt.title(stats[j] + \": \")"
   ]
  },
  {
   "cell_type": "markdown",
   "metadata": {},
   "source": [
    "### Loss"
   ]
  },
  {
   "cell_type": "code",
   "execution_count": null,
   "metadata": {},
   "outputs": [],
   "source": [
    "perfs=[[] for i in range(4)]\n",
    "thre0=[50,280]\n",
    "thre1=[180,200]\n",
    "for loss in range(0,30,30):\n",
    "    perf_tmp=[[] for i in range(4)]\n",
    "    for ri in range(10):\n",
    "        vxs = jitter(sim2D, loss=loss)\n",
    "        links_d = generateLinks(vxs, thre=thre, plot=0, mode=1)\n",
    "        links0 = generateLinksBoran(vxs, thre=thre0, mode=2)\n",
    "        links1 = generateLinksBoran(vxs, thre=thre0, mode=0)\n",
    "        links2 = generateLinksBoran(vxs, thre=thre0, mode=1)\n",
    "\n",
    "        for idx, lks in enumerate([links0, links1, links2, links_d]):\n",
    "            perf_tmp[idx].append(performance(lks,links_gt))\n",
    "    for li in range(4):\n",
    "        perfs[li].append(np.mean(perf_tmp[li], 0))\n",
    "\n",
    "stats=[\"accuracy\", \"precision\", \"recall\"]\n",
    "for j in range(3):\n",
    "    plt.figure()\n",
    "    plt.plot(np.array(perfs)[:,:,j].T)\n",
    "    plt.legend(titles)\n",
    "    plt.xticks(ticks=[x for x in range(10)],labels=[str(x) for x in range(0,300,30)])\n",
    "    plt.xlabel(\"Randomness(nm)\")\n",
    "    plt.ylabel(stats[j] )\n",
    "    plt.title(stats[j] + \": \")"
   ]
  },
  {
   "cell_type": "markdown",
   "metadata": {},
   "source": [
    "### Complex situation"
   ]
  },
  {
   "cell_type": "code",
   "execution_count": null,
   "metadata": {},
   "outputs": [],
   "source": []
  },
  {
   "cell_type": "markdown",
   "metadata": {},
   "source": [
    "## Test EM results"
   ]
  },
  {
   "cell_type": "code",
   "execution_count": null,
   "metadata": {},
   "outputs": [],
   "source": [
    "em = cv2.imread(\"../data/em/2.png\", -1)\n",
    "gt = cv2.imread(\"../data/em/2_marked.png\", -1)\n",
    "plt.imshow(gt[:,:,2]-gt[:,:,1])\n",
    "marker = gt[:,:,2]-gt[:,:,1]\n",
    "contours = cv2.findContours(marker.astype(np.uint8),cv2.RETR_EXTERNAL, cv2.CHAIN_APPROX_NONE)[0]\n",
    "contour_centers = np.zeros([len(contours)-1,2])\n",
    "for i in range(len(contours)-1):\n",
    "    contour_centers[i] = contours[i+1].reshape([-1,2]).mean(axis=0)\n",
    "\n",
    "vxs=contour_centers\n",
    "n_vx = len(vxs)\n",
    "gt_sp = cv2.imread(\"../data/em/2_marked_final.png\", -1)\n",
    "plt.figure(figsize=[10,10])\n",
    "plt.imshow(em)\n",
    "marker_sp=gt_sp[:,:,1]-gt_sp[:,:,0]\n",
    "links = np.zeros([n_vx, n_vx])\n",
    "close_mid=np.zeros(marker_sp.T.shape)\n",
    "for i in range(n_vx):\n",
    "    close_mid[vxs[i][0].astype(int),vxs[i][1].astype(int)] = 1\n",
    "\n",
    "close_mid = fftconvolve(close_mid, np.ones([10,10]), mode='same')\n",
    "\n",
    "dist = distance_matrix(vxs, vxs)\n",
    "for i in range(n_vx):\n",
    "    for j in range(i+1,n_vx):\n",
    "        if dist[i][j] < 110:\n",
    "            if sum_line_cnct(marker_sp.T, vxs[i].astype(int),vxs[j].astype(int))>=dist[i][j]*0.7:\n",
    "                if sum_line_cnt(close_mid, vxs[i].astype(int),vxs[j].astype(int))[0] <3:\n",
    "                    links[i,j]=links[j][i]=1\n",
    "                    plt.plot([vxs[i][0],vxs[j][0]],[vxs[i][1],vxs[j][1]], color=\"r\")\n",
    "                #else:\n",
    "                #    plt.plot([vxs[i][0],vxs[j+1][0]],[vxs[i][1],vxs[j+1][1]], color=\"b\")\n",
    "\n",
    "plt.plot(\n",
    "    contour_centers[:, 0],\n",
    "    contour_centers[:, 1],\n",
    "    \".\",\n",
    "    markerfacecolor=\"purple\",\n",
    "    markersize=10,\n",
    "    )"
   ]
  },
  {
   "cell_type": "code",
   "execution_count": null,
   "metadata": {},
   "outputs": [],
   "source": [
    "visualize(vxs, links, p_size=1, thre=thre)"
   ]
  },
  {
   "cell_type": "code",
   "execution_count": null,
   "metadata": {},
   "outputs": [],
   "source": [
    "dist = distance_matrix(vxs, vxs)\n",
    "dists =[ dist[x[0]][x[1]] for x in convertMatrix2List(links) ]\n",
    "\n"
   ]
  },
  {
   "cell_type": "code",
   "execution_count": null,
   "metadata": {},
   "outputs": [],
   "source": [
    "plt.hist(dists)"
   ]
  },
  {
   "cell_type": "code",
   "execution_count": null,
   "metadata": {},
   "outputs": [],
   "source": [
    "import time\n",
    "thre = [40, 60]\n",
    "\n",
    "start = time.time()\n",
    "links_d = generateLinks(vxs, thre=thre, plot=0, mode=1)\n",
    "end = time.time()\n",
    "print(end - start)\n",
    "start = time.time()\n",
    "links1 = generateLinksBoran(vxs, thre=thre, mode=0)\n",
    "end = time.time()\n",
    "print(end - start)\n",
    "start = time.time()\n",
    "links2 = generateLinksBoran(vxs, thre=thre, mode=1)\n",
    "end = time.time()\n",
    "print(end - start)\n",
    "\n",
    "start = time.time()\n",
    "links0 = generateLinksBoran(vxs, thre=thre, mode=2)\n",
    "end = time.time()\n",
    "print(end - start)\n",
    "\n",
    "plt.subplots(2,2,figsize=[10,10])\n",
    "titles = [\"all links\", \"Boran original\", \"Boran delete 1\", \"Mine\"]\n",
    "for idx, lks in enumerate([links0, links1, links2, links_d]):\n",
    "    plt.subplot(2,2, idx+1)\n",
    "    #visualize(vxs,lks,p_size=1, thre=thre)\n",
    "    visualize_gt(vxs, lks, links)\n",
    "    plt.title(titles[idx])"
   ]
  },
  {
   "cell_type": "code",
   "execution_count": null,
   "metadata": {},
   "outputs": [],
   "source": [
    "thre = [40, 60]\n",
    "\n",
    "times = []\n",
    "perfs = [[] for i in range(4)]\n",
    "for thre in [[15,110],[20,80],[30,70],[40,60]]:\n",
    "    start = time.time()\n",
    "    links_d = generateLinks(vxs, thre=thre, plot=0, mode=1)\n",
    "    end = time.time()\n",
    "    time0 = end - start\n",
    "    start = time.time()\n",
    "    links1 = generateLinksBoran(vxs, thre=thre, mode=0)\n",
    "    end = time.time()\n",
    "    time1 = end - start\n",
    "    start = time.time()\n",
    "    links2 = generateLinksBoran(vxs, thre=thre, mode=1)\n",
    "    end = time.time()\n",
    "    time2 = end - start\n",
    "\n",
    "    start = time.time()\n",
    "    links0 = generateLinksBoran(vxs, thre=thre, mode=2)\n",
    "    end = time.time()\n",
    "    time3 = end - start\n",
    "\n",
    "    #plt.subplots(2,2,figsize=[10,10])\n",
    "    titles = [\"All links\", \"Boran original\", \"Boran delete 1\", \"Mine\"]\n",
    "    times.append([time3, time1, time2, time0])\n",
    "    for idx, lks in enumerate([links0, links1, links2, links_d]):\n",
    "        #plt.subplot(2,2, idx+1)\n",
    "        #visualize(vxs,lks,p_size=1, thre=thre)\n",
    "        #visualize_gt(vxs, lks, links)\n",
    "        #plt.title(titles[idx])\n",
    "        perfs[idx].append(performance(lks,links))\n",
    "    print(performance(links0,links))"
   ]
  },
  {
   "cell_type": "code",
   "execution_count": null,
   "metadata": {},
   "outputs": [],
   "source": [
    "titles = [\"All links\", \"Boran original\", \"Boran delete 1\", \"Mine\"]\n"
   ]
  },
  {
   "cell_type": "code",
   "execution_count": null,
   "metadata": {},
   "outputs": [],
   "source": [
    "thres = [[15,110],[20,80],[30,70],[40,60]]"
   ]
  },
  {
   "cell_type": "code",
   "execution_count": null,
   "metadata": {},
   "outputs": [],
   "source": [
    "stats=[\"accuracy\", \"precision\", \"recall\"]\n",
    "for j in range(3):\n",
    "    plt.figure()\n",
    "    plt.plot(np.array(perfs)[:,:,j].T)\n",
    "    plt.legend(titles)\n",
    "    plt.xticks(ticks=[0,1,2,3],labels=[str(x) for x in thres])\n",
    "    plt.xlabel(\"Threshold(pixel)\")\n",
    "    plt.ylabel(stats[j] )\n",
    "    plt.title(stats[j] + \": \")\n",
    "\n"
   ]
  },
  {
   "cell_type": "code",
   "execution_count": null,
   "metadata": {},
   "outputs": [],
   "source": [
    "plt.figure()\n",
    "plt.plot(np.array(times))\n",
    "plt.legend(titles)\n",
    "plt.xticks(ticks=[0,1,2,3],labels=[str(x) for x in thres])\n",
    "plt.xlabel(\"Threshold(pixel)\")\n",
    "plt.ylabel(\"Time(s)\")\n",
    "plt.title(\"Time spent\")"
   ]
  }
 ],
 "metadata": {
  "kernelspec": {
   "display_name": "jupyter",
   "language": "python",
   "name": "python3"
  },
  "language_info": {
   "codemirror_mode": {
    "name": "ipython",
    "version": 3
   },
   "file_extension": ".py",
   "mimetype": "text/x-python",
   "name": "python",
   "nbconvert_exporter": "python",
   "pygments_lexer": "ipython3",
   "version": "3.12.3"
  }
 },
 "nbformat": 4,
 "nbformat_minor": 2
}
