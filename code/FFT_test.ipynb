{
 "cells": [
  {
   "cell_type": "code",
   "execution_count": null,
   "metadata": {},
   "outputs": [],
   "source": [
    "import os, sys, re, cv2\n",
    "import matplotlib.pyplot as plt\n",
    "import numpy as np\n",
    "import seaborn as sns\n",
    "import pandas as pd\n",
    "import glob\n",
    "import scipy\n",
    "from PIL import Image\n",
    "import matplotlib.backends.backend_pdf\n",
    "\n",
    "\n",
    "from scipy.signal import correlate2d, fftconvolve\n",
    "from numpy import flip, arange, reshape\n",
    "from matplotlib.patches import Rectangle\n",
    "from scipy import ndimage\n",
    "from sklearn.manifold import TSNE\n",
    "from sklearn import metrics\n",
    "from sklearn.cluster import DBSCAN, HDBSCAN\n",
    "plt.rcParams['image.cmap'] = 'gray'\n"
   ]
  },
  {
   "cell_type": "markdown",
   "metadata": {},
   "source": [
    "# Functions"
   ]
  },
  {
   "cell_type": "markdown",
   "metadata": {},
   "source": [
    "## FFT utils"
   ]
  },
  {
   "cell_type": "code",
   "execution_count": null,
   "metadata": {},
   "outputs": [],
   "source": [
    "def iFFT(ft):\n",
    "    ft = np.fft.ifftshift(ft)\n",
    "    ift = np.fft.ifft2(ft)\n",
    "    ift = np.fft.fftshift(ift)\n",
    "    return(ift.real)   # take only the real part since computational error leads to noise in imaginary part\n",
    "\n",
    "def FFT(img):\n",
    "    if len(img.shape)==3:\n",
    "        img = cv2.cvtColor(img, cv2.COLOR_BGR2GRAY)\n",
    "    ft = np.fft.ifftshift(img)\n",
    "    ft = np.fft.fft2(ft)\n",
    "    return(np.fft.fftshift(ft))\n",
    "\n",
    "def FFTplot(img, size=10, plot=1, **plot_args):\n",
    "    if len(img.shape)==3:\n",
    "        img = cv2.cvtColor(img, cv2.COLOR_BGR2GRAY)\n",
    "\n",
    "    ft = FFT(img)\n",
    "\n",
    "    if plot == 1:\n",
    "        plt.subplot(121)\n",
    "        plt.imshow(img)\n",
    "        plt.subplot(122)\n",
    "        plt.imshow(np.real(ft), cmap='PuOr', **plot_args)\n",
    "    return ft\n",
    "\n",
    "def iFFTplot(ft, xylen=10, plot=1, angle=\"h\", **plot_args):\n",
    "    ift = iFFT(ft)\n",
    "    a, _ =ft.shape\n",
    "    xyrange = [a//2-xylen, a//2+xylen]\n",
    "    if plot == 1:\n",
    "        if angle == \"h\":\n",
    "            plt.figure()\n",
    "            ax=plt.subplot(121)\n",
    "            ax.set_xlim(xyrange)\n",
    "            ax.set_ylim(xyrange)\n",
    "            plt.imshow(abs(ft), **plot_args)\n",
    "            plt.subplot(122)\n",
    "            plt.imshow(ift)\n",
    "        elif angle == \"v\":\n",
    "            plt.figure()\n",
    "            ax=plt.subplot(211)\n",
    "            ax.set_xlim(xyrange)\n",
    "            ax.set_ylim(xyrange)\n",
    "            plt.imshow(abs(ft), **plot_args)\n",
    "            plt.subplot(212)\n",
    "            plt.imshow(ift)\n",
    "    return(ift)\n",
    "\n",
    "# also used for clustering?\n",
    "def local_maximum(mx, r):\n",
    "    tmp=ndimage.maximum_filter(mx, size=r)\n",
    "    return(np.where(mx == tmp, mx, 0))\n",
    "\n",
    "def mainFFT(ft, n=5, isSep=1, xylen=10, **plot_args):\n",
    "    \"\"\"Plot the top N FT frequencies separately and their corresponding waves, return the complex values as a list \n",
    "\n",
    "    \"\"\"\n",
    "    ft_sort=np.unravel_index(np.argsort(-abs(ft), axis=None),ft.shape)\n",
    "    a, _ =ft.shape\n",
    "    xyrange = [a//2-xylen, a//2+xylen]\n",
    "    if isSep == 1:\n",
    "        plt.figure(figsize=[5*(n+2),10])\n",
    "        plt.subplot(2,2+n,1)\n",
    "        plt.imshow(iFFT(ft))\n",
    "        ax=plt.subplot(2,2+n,3+n)\n",
    "        ax.set_xlim(xyrange)\n",
    "        ax.set_ylim(xyrange)\n",
    "        nft=np.zeros([64,64],dtype=complex)\n",
    "        nft[ft_sort[0][1:2*n+1],ft_sort[1][1:2*n+1]]=ft[ft_sort[0][1:2*n+1],ft_sort[1][1:2*n+1]]\n",
    "        plt.imshow(np.abs(nft), **plot_args)\n",
    "        ax=plt.subplot(2,2+n,4+n)\n",
    "        ax.set_xlim(xyrange)\n",
    "        ax.set_ylim(xyrange)\n",
    "        plt.imshow(local_maximum(np.abs(nft),3), cmap = 'PuOr', **plot_args)    \n",
    "        for i in range(n):\n",
    "            nft=np.zeros([64,64],dtype=complex)\n",
    "            nft[ft_sort[0][2*i+1:2*(i+1)+1],ft_sort[1][2*i+1:2*(i+1)+1]]=ft[ft_sort[0][2*i+1:2*(i+1)+1],ft_sort[1][2*i+1:2*(i+1)+1]]\n",
    "            #nft[ft_sort[0][i+1],ft_sort[1][i+1]]=ft[ft_sort[0][i+1],ft_sort[1][i+1]]\n",
    "            #nft[ft_sort[0][i],ft_sort[1][i]]=ft[ft_sort[0][i],ft_sort[1][i]]\n",
    "            ax=plt.subplot(2,2+n,n+i+5)\n",
    "            ax.set_xlim(xyrange)\n",
    "            ax.set_ylim(xyrange)\n",
    "            plt.imshow(np.abs(nft), **plot_args)\n",
    "            plt.subplot(2,2+n,i+2+1)\n",
    "            plt.imshow(iFFT(nft), **plot_args)\n",
    "    else:\n",
    "        nft=np.zeros([64,64],dtype=complex)\n",
    "        nft[ft_sort[0][1:n*2+1],ft_sort[1][1:n*2+1]]=ft[ft_sort[0][1:n*2+1],ft_sort[1][1:n*2+1]]\n",
    "        plt.figure(figsize=[9,3])\n",
    "        plt.subplot(1,3,1)\n",
    "        plt.imshow(iFFT(ft), **plot_args)\n",
    "        ax=plt.subplot(1,3,2)\n",
    "        ax.set_xlim(xyrange)\n",
    "        ax.set_ylim(xyrange)\n",
    "        plt.imshow(np.abs(nft), cmap=\"PuOr\", **plot_args)\n",
    "        plt.subplot(1,3,3)\n",
    "        plt.imshow(iFFT(nft), **plot_args)\n",
    "\n",
    "    return([ft_sort[0][1:2*(n+1)+1],ft_sort[1][1:2*(n+1)+1]], ft[ft_sort[0][1:2*(n+1)+1],ft_sort[1][1:2*(n+1)+1]])\n",
    "\n",
    "\n",
    "def unit_circle(n, rrange):\n",
    "    A = np.arange(-n+0.5,n+0.5)**2\n",
    "    dists = np.sqrt(A[:,None] + A)\n",
    "    return ((dists-rrange[0]>0.5) & (rrange[1]-dists >= -0.5)).astype(int)\n",
    "\n",
    "\n",
    "# The functions for testing differences among the 4 scenarios\n",
    "def plot_sum_r(ft, r):\n",
    "    freqs=[ np.sum(np.real(ft)*unit_circle(32,x)) for x in range(r)]\n",
    "    plt.plot(freqs)\n",
    "\n",
    "def plot_max_r(ft, r):\n",
    "    freqs=[ np.max((np.real(ft)*unit_circle(32,x)).flatten()) for x in range(r)]\n",
    "    plt.plot(freqs/freqs[1])\n",
    "\n",
    "\n",
    "def plot_ratio_r(ft, r):\n",
    "    ratios=[ np.max((np.real(ft)*unit_circle(32,x)).flatten())/(np.min((np.real(ft)*unit_circle(32,x)).flatten())+1) for x in range(r)]\n",
    "    plt.plot(ratios/ratios[1])\n",
    "\n",
    "def plot_max3_r(ft, r):\n",
    "    freqs=[ np.sort((np.real(ft)*unit_circle(32,x)).flatten())[-3]/np.max((np.real(ft)*unit_circle(32,1)).flatten()) for x in range(r)]\n",
    "    plt.plot(freqs/freqs[1])\n",
    "\n",
    "# def plot_max3_r(ft, r):\n",
    "#     ratios=[ np.max((np.real(ft)*unit_circle(32,x)).flatten())/(np.sort((np.real(ft)*unit_circle(32,x)).flatten())[-3]+1) for x in range(r)]\n",
    "#     ratios[1]=0\n",
    "#     plt.plot(ratios)\n",
    "\n",
    "def plot_avg6_r(ft, r):\n",
    "    ratios = [ np.mean(np.sort((np.real(ft)*unit_circle(32,x)).flatten())[-6:])/np.max((np.real(ft)*unit_circle(32,1)).flatten()) for x in range(r) ]\n",
    "    plt.plot(ratios)\n",
    "    return [np.sort((np.real(ft)*unit_circle(32,x)).flatten())[-6:] for x in range(r)]"
   ]
  },
  {
   "cell_type": "markdown",
   "metadata": {},
   "source": [
    "## Simulation Utils"
   ]
  },
  {
   "cell_type": "markdown",
   "metadata": {},
   "source": [
    "### PSF"
   ]
  },
  {
   "cell_type": "code",
   "execution_count": null,
   "metadata": {},
   "outputs": [],
   "source": [
    "PSF=[[] for x in range(20)]\n",
    "for size in range(20):\n",
    "    sigma_y = sigma_x = 0.5\n",
    "    k=1\n",
    "    x = np.linspace(-k, k, size)\n",
    "    y = np.linspace(-k, k, size)\n",
    "    x, y = np.meshgrid(x, y)\n",
    "    PSF[size] = 255 * np.exp(-(x**2/(2*sigma_x**2)+ y**2/(2*sigma_y**2)))\n",
    "    # plt.figure()\n",
    "    # plt.imshow(PSF[size])"
   ]
  },
  {
   "cell_type": "markdown",
   "metadata": {},
   "source": [
    "### Simulate 1D, 2D, 2DC, Random points, 1Dgraph"
   ]
  },
  {
   "cell_type": "code",
   "execution_count": null,
   "metadata": {},
   "outputs": [],
   "source": [
    "def genPic(matrix, locs, point=9, theta=0, rand=0, randz=0):\n",
    "    sx,sy = PSF[point].shape\n",
    "    mx,my = matrix.shape\n",
    "    tmp_matrix=np.pad(matrix, (sx, sy), mode=\"constant\", constant_values=0)\n",
    "    for px, py in locs:\n",
    "        if rand!=0:\n",
    "            px+=np.random.randint(2*rand)-rand\n",
    "            py+=np.random.randint(2*rand)-rand\n",
    "        tpoint = point+np.random.randint(randz)\n",
    "        px-=tpoint//2\n",
    "        py-=tpoint//2\n",
    "        if px < 0 or px+tpoint > mx or py < 0 or py+tpoint > my:\n",
    "            continue\n",
    "        tmp_matrix[px:px+tpoint, py:py+tpoint] += PSF[tpoint]\n",
    "    if theta != 0:\n",
    "        rotated = ndimage.rotate(tmp_matrix, theta)\n",
    "        tmp,_ = rotated.shape\n",
    "        return(rotated[tmp//2-mx//2:tmp//2+mx//2,tmp//2-my//2:tmp//2+my//2])\n",
    "    else:\n",
    "        return(tmp_matrix[sx:-sx,sy:-sy])\n",
    "\n",
    "def sim1D(size=128, spacex=8, spacey=11, shift=0):\n",
    "    points=[]\n",
    "    for py in range(1, size, spacey):\n",
    "        for px in range(1+py//int(spacey)*shift, size, spacex):\n",
    "            points.append([px,py])\n",
    "    return(np.array(points))\n",
    "\n",
    "def sim2D(size=128, space=6):\n",
    "    nx=ny=int(size/space)\n",
    "    return np.array([[int((x*2-y%2)*space)+10, int(y*np.sqrt(3)*space)] for x in range(nx) for y in range(ny)])\n",
    "\n",
    "def sim2DC(size=128, space=6):\n",
    "    N_points=sim2D(size, space)\n",
    "    N_dist = [[np.linalg.norm(i-j) for i in N_points] for j in N_points ]\n",
    "    thre = space*2+1\n",
    "    C_points = []\n",
    "    n_vx = len(N_points)\n",
    "    for i in range(n_vx):\n",
    "        for j in range(i+1, n_vx):\n",
    "            if N_dist[i][j] <= thre:\n",
    "                C_points.append([(N_points[i][0]+N_points[j][0])//2, (N_points[i][1]+N_points[j][1])//2])\n",
    "    return(np.array(C_points))\n",
    "\n",
    "def simRand(size=128,space=6):\n",
    "    return(np.random.randint(size,size=(int(size*size/space/space),2)))\n",
    "\n",
    "# simulate continuous graph and test\n",
    "\n",
    "def sim_d(d, c_point, len, dist, width, w_d=3):\n",
    "    points=[]\n",
    "    for x in range(1, len+1):\n",
    "        point=[[c_point[0]+width*np.sin(d)*y, c_point[1]-width*np.cos(d)*y] for y in range(-w_d, w_d)]\n",
    "        #print(x)\n",
    "        #print(point)\n",
    "        points.extend(point)\n",
    "        c_point=[c_point[0]+dist*np.cos(d), c_point[1]+dist*np.sin(d)]\n",
    "    return(c_point, points)\n",
    "\n",
    "\n",
    "def sim_1dgraph(c_point=[50,50], d=np.pi/4, dist=11, width=8, **genPic_args):\n",
    "    points=[]\n",
    "    # for i in range(3):\n",
    "    #     tmp_d=2*np.pi*np.random.rand()\n",
    "    for tmp_d in [90-np.random.randint(18)*10 for x in range(10)]:\n",
    "        tmp_d = tmp_d/180*np.pi\n",
    "        for j in np.linspace(0,tmp_d, 10):\n",
    "            c_d = d+j\n",
    "            length = np.random.randint(5)\n",
    "            c_point, c_points=sim_d(d=c_d, c_point=c_point, len=length, dist=dist, width=width)\n",
    "            #print(c_d, c_point, len)\n",
    "            points.extend(c_points)\n",
    "        d = d+tmp_d\n",
    "        if(np.max(np.abs(c_point)))> 1080 or c_point[0]<0 or c_point[1]<0:\n",
    "            break\n",
    "        c_point, c_points=sim_d(d=c_d, c_point=c_point, len=np.random.randint(5), dist=dist, width=width)\n",
    "        points.extend(c_points)\n",
    "        if(np.max(np.abs(c_point)))> 1080 or c_point[0]<0 or c_point[1]<0:\n",
    "            break\n",
    "\n",
    "    points=np.array(points).astype(int)\n",
    "    simD = genPic(np.zeros([1280,1280]), points, **genPic_args)\n",
    "    plt.figure(figsize=[10,10])\n",
    "    plt.imshow(simD)\n",
    "    return simD"
   ]
  },
  {
   "cell_type": "markdown",
   "metadata": {},
   "source": [
    "## Classify Utils"
   ]
  },
  {
   "cell_type": "code",
   "execution_count": null,
   "metadata": {},
   "outputs": [],
   "source": [
    "def maximum (A, B):\n",
    "    BisBigger = A-B\n",
    "    BisBigger = np.where(BisBigger < 0, 1, 0)\n",
    "    return A - A*(BisBigger) + B*(BisBigger)\n",
    "\n",
    "def maskMat(img, label, kernel_size=64, steps=16):\n",
    "    if len(img.shape)==3:\n",
    "        img = cv2.cvtColor(img, cv2.COLOR_BGR2GRAY)\n",
    "    xn, yn=img.shape\n",
    "    x_l = [ x for x in range(0,xn-kernel_size+1, steps)]\n",
    "    y_l = [ y for y in range(0,yn-kernel_size+1, steps)]\n",
    "    matrix = np.zeros([xn, yn])\n",
    "    for i in range(len(x_l)):\n",
    "        for j in range(len(y_l)):\n",
    "            if(label[i,j]):\n",
    "                xi = x_l[i]\n",
    "                yj = y_l[j]\n",
    "                matrix[xi:xi+kernel_size,yj:yj+kernel_size] = img[xi:xi+kernel_size,yj:yj+kernel_size]\n",
    "    return matrix\n",
    "\n",
    "def maxMat(img, c, kernel_size=64, steps=16):\n",
    "    if len(img.shape)==3:\n",
    "        img = cv2.cvtColor(img, cv2.COLOR_BGR2GRAY)\n",
    "    xn, yn=img.shape\n",
    "    x_l = [ x for x in range(0,xn-kernel_size+1, steps)]\n",
    "    y_l = [ y for y in range(0,yn-kernel_size+1, steps)]\n",
    "    matrix = np.zeros([xn, yn])\n",
    "    for i in range(len(x_l)):\n",
    "        for j in range(len(y_l)):\n",
    "            xi = x_l[i]\n",
    "            yj = y_l[j]\n",
    "            matrix[xi:xi+kernel_size,yj:yj+kernel_size] = maximum(matrix[xi:xi+kernel_size,yj:yj+kernel_size], c[i,j])\n",
    "    return matrix\n",
    "\n",
    "def sumMat(img, c, kernel_size=64, steps=16, method=\"default\"):\n",
    "    if len(img.shape)==3:\n",
    "        img = cv2.cvtColor(img, cv2.COLOR_BGR2GRAY)\n",
    "    xn, yn=img.shape\n",
    "    x_l = [ x for x in range(0,xn-kernel_size+1, steps)]\n",
    "    y_l = [ y for y in range(0,yn-kernel_size+1, steps)]\n",
    "    print(len(x_l), len(y_l))\n",
    "    matrix = np.zeros([xn, yn])\n",
    "    kernel = np.ones([kernel_size,kernel_size])\n",
    "\n",
    "    if method == \"gaussian\":\n",
    "        g = cv2.getGaussianKernel(kernel_size, sigma=0)\n",
    "        kernel = g*g.T\n",
    "    if method == \"flattop\":\n",
    "        g = cv2.getGaussianKernel(kernel_size, sigma=kernel_size/2)\n",
    "        kernel = g*g.T\n",
    "    for i in range(len(x_l)):\n",
    "        for j in range(len(y_l)):\n",
    "            if(c[i,j]>0):\n",
    "                xi = x_l[i]\n",
    "                yj = y_l[j]\n",
    "                matrix[xi:xi+kernel_size,yj:yj+kernel_size] += c[i,j]*kernel\n",
    "    return matrix\n",
    "\n",
    "def fft_filter(img, rrange, max=6, plot=0, kernel_size=64, corr=\"Pearson\", method=\"fft\", **plot_args):\n",
    "    ft=FFT(img)\n",
    "    if method == \"auto\" or method==\"auto2\":\n",
    "        img=scipy.signal.fftconvolve(img, np.flip(img), mode = 'same')\n",
    "        ft=FFT(img.astype('float32'))\n",
    "    if method == \"conv\":\n",
    "        img=scipy.signal.fftconvolve(img, img, mode = 'same')\n",
    "        ft=FFT(img.astype('float32'))\n",
    "    if method == \"rb_auto\":\n",
    "        img=scipy.signal.fftconvolve(img, np.flip(img), mode = 'same')\n",
    "    if method == \"bin\":\n",
    "        a=scipy.signal.fftconvolve(img, np.flip(img), mode = 'same')\n",
    "        tmp = 255* a.astype(np.float64) / a.max()\n",
    "        a = tmp.astype(np.uint8)\n",
    "        local = 7\n",
    "        img = cv2.adaptiveThreshold(a, 255, cv2.ADAPTIVE_THRESH_GAUSSIAN_C, cv2.THRESH_BINARY, local, 0)\n",
    "        ft=FFT(img)\n",
    "    if method == \"bin1\":\n",
    "        a=scipy.signal.fftconvolve(img, np.flip(img), mode = 'same')\n",
    "        tmp = 255* a.astype(np.float64) / a.max()\n",
    "        a = tmp.astype(np.uint8)\n",
    "        ret1, img = cv2.threshold(a, 0, 255, cv2.THRESH_BINARY+cv2.THRESH_OTSU)\n",
    "        #img = cv2.adaptiveThreshold(a, 255, cv2.ADAPTIVE_THRESH_GAUSSIAN_C, cv2.THRESH_BINARY, local, 0)\n",
    "        ft=FFT(img)\n",
    "    if len(img.shape)==3:\n",
    "        img = cv2.cvtColor(img, cv2.COLOR_BGR2GRAY)\n",
    "    sn,_ = ft.shape\n",
    "    ft_sort=np.unravel_index(np.argsort(-abs(ft), axis=None),ft.shape)\n",
    "    nft=np.zeros([kernel_size,kernel_size],dtype=complex) \n",
    "    nft[ft_sort[0][1:2*(max+1)],ft_sort[1][1:2*(max+1)]]=ft[ft_sort[0][1:2*(max+1)],ft_sort[1][1:2*(max+1)]]\n",
    "    tmp = np.abs(nft)*unit_circle(sn//2, rrange) \n",
    "\n",
    "    if tmp.argmax()==0:   # that there's no pattern at all\n",
    "        return([-1, -1, -1])     \n",
    "    dx, dy = np.unravel_index(tmp.argmax(), tmp.shape)\n",
    "    nft=np.zeros([kernel_size,kernel_size],dtype=complex) \n",
    "    nft[dx, dy]=ft[dx, dy]\n",
    "    nft[kernel_size-dx, kernel_size-dy]=ft[kernel_size-dx, kernel_size-dy]\n",
    "    if plot==\"v\":\n",
    "        plt.figure()\n",
    "        plt.subplot(311)\n",
    "        plt.imshow(img,**plot_args)\n",
    "        plt.subplot(312)\n",
    "        plt.imshow(np.abs(nft))\n",
    "        plt.subplot(313)\n",
    "        plt.imshow(iFFT(nft))    \n",
    "    elif plot==\"h\":\n",
    "        plt.figure()\n",
    "        plt.subplot(131)\n",
    "        plt.imshow(img, **plot_args)\n",
    "        plt.subplot(132)\n",
    "        plt.imshow(np.abs(nft))\n",
    "        plt.subplot(133)\n",
    "        plt.imshow(iFFT(nft))\n",
    "    x = img.flatten()\n",
    "    y = iFFT(nft).flatten()\n",
    "\n",
    "    if method == \"auto2\":\n",
    "        y = iFFT(nft)\n",
    "        y = scipy.signal.fftconvolve(y, np.flip(y), mode = 'same')\n",
    "        y = y.flatten()\n",
    "    # all of these three lie in -1 to 1\n",
    "    if corr == \"Pearson\":\n",
    "        conf = scipy.stats.pearsonr(x, y)[0]\n",
    "    elif corr == \"Spearman\":\n",
    "        conf = scipy.stats.spearmanr(x, y).statistic\n",
    "    elif corr == \"Kendall\":\n",
    "        conf = scipy.stats.kendalltau(x, y).statistic\n",
    "    degree = np.arctan((dy-sn//2)/(dx-sn//2+0.001))\n",
    "    if degree <= 0:\n",
    "        degree +=np.pi\n",
    "    dist = kernel_size/np.sqrt((dy-sn//2)**2+(dx-sn//2)**2)\n",
    "    degree = degree/np.pi*180\n",
    "    return([conf, degree, dist])\n",
    "\n",
    "\n",
    "def FFTfilter(img, rrange, max=6, kernel_size=64, threshold=0.1, sparse=500, steps=16, corr=\"Pearson\", method=\"fft\", type=0, plot=None, save_thre=None, save_name=\"save\", save_dir=\"/Users/suestring/Desktop/Lab/Code/Hongyun/Test/\", **plot_args):\n",
    "    if len(img.shape)==3:\n",
    "        img = cv2.cvtColor(img, cv2.COLOR_BGR2GRAY)\n",
    "\n",
    "    xn,yn = img.shape\n",
    "    # if plot == \"mask\":\n",
    "    #     mask = np.zeros([xn, yn])\n",
    "    x_l = [ x for x in range(0,xn-kernel_size+1, steps)]\n",
    "    y_l = [ y for y in range(0,yn-kernel_size+1, steps)]\n",
    "    m_conf = np.zeros([len(x_l), len(y_l)])\n",
    "    m_degree = np.zeros([len(x_l), len(y_l)])\n",
    "    m_dist = np.zeros([len(x_l), len(y_l)])\n",
    "    if save_thre is not None:\n",
    "        pdf = matplotlib.backends.backend_pdf.PdfPages(save_dir+save_name+\"_thre\"+str(save_thre)+\".pdf\")\n",
    "        \n",
    "    for i in range(len(x_l)):\n",
    "        for j in range(len(y_l)):\n",
    "            xi = x_l[i]\n",
    "            yj = y_l[j]\n",
    "            if np.sum(img[xi:xi+kernel_size,yj:yj+kernel_size]) <= sparse:\n",
    "                m_conf[i,j], m_degree[i,j], m_dist[i,j] = [-1, -1, 0]\n",
    "                continue\n",
    "            t_conf, t_degree, t_dist = fft_filter(img[xi:xi+kernel_size,yj:yj+kernel_size], rrange, max=max, kernel_size=kernel_size, corr=corr, method=method, type=type)\n",
    "            if t_conf < threshold:\n",
    "                m_conf[i,j], m_degree[i,j], m_dist[i,j] = [-1, -1, 0]\n",
    "            else:\n",
    "                m_conf[i,j], m_degree[i,j], m_dist[i,j] = t_conf, t_degree, t_dist\n",
    "                # if plot == \"mask\":\n",
    "                #     mask[xi:xi+64,yj:yj+64]=img[xi:xi+64,yj:yj+64]\n",
    "            if save_thre is not None:\n",
    "                if t_conf > save_thre:\n",
    "                    fig = plt.figure()\n",
    "                    timg=img[xi:xi+kernel_size,yj:yj+kernel_size]\n",
    "                    #fft_filter(img[xi:xi+kernel_size,yj:yj+kernel_size], rrange, max=max, kernel_size=kernel_size, corr=corr, method=method, plot=\"h\")\n",
    "                    #a=scipy.signal.fftconvolve(timg, np.flip(timg), mode = 'same')\n",
    "                    #tmp = 255* a.astype(np.float64) / a.max()\n",
    "                    #a = tmp.astype(np.uint8)\n",
    "                    #local = 7\n",
    "                    #timg = cv2.adaptiveThreshold(a, 255, cv2.ADAPTIVE_THRESH_GAUSSIAN_C, cv2.THRESH_BINARY, local, 0)\n",
    "                    plt.imshow(timg)\n",
    "                    plt.title(\"x\"+str(xi)+\"_y\"+str(yj)+\"_conf\"+str(t_conf)+\"_orient\"+str(int(t_degree)))\n",
    "                    pdf.savefig(fig)\n",
    "    # if plot == \"mask\":\n",
    "    #     plt.figure()\n",
    "    #     plt.imshow(mask)\n",
    "    if plot is not None:\n",
    "        plt.figure(**plot_args)\n",
    "        plt.subplot(131)\n",
    "        plt.imshow(m_conf,cmap=\"PuOr\", vmin=-1, vmax=1)\n",
    "        plt.subplot(132)\n",
    "        plt.imshow(m_degree,cmap=\"PuOr\", vmin=0, vmax=180)\n",
    "        plt.subplot(133)\n",
    "        plt.imshow(m_dist,cmap=\"PuOr\")\n",
    "    if save_thre is not None:\n",
    "        pdf.close()\n",
    "    return m_conf, m_degree, m_dist\n",
    "\n",
    "def plotDegree(mat_d):\n",
    "    dx, dy=mat_d.shape\n",
    "    _, axes = plt.subplots(dx, dy,sharex=True, sharey=True)\n",
    "    for i in range(dx):\n",
    "        for j in range(dy):\n",
    "            axes[i][j].plot([x for x in range(10)],[x*np.tan(mat_d[i][j]+np.pi/2) for x in range(10)])"
   ]
  },
  {
   "cell_type": "code",
   "execution_count": null,
   "metadata": {},
   "outputs": [],
   "source": [
    "g = np.array([ [np.power(x,0.7)] for x in range(32)])\n",
    "g=np.concatenate((g,g[::-1]))\n",
    "kernel = g*g.T\n",
    "plt.imshow(kernel,vmin=0)"
   ]
  },
  {
   "cell_type": "code",
   "execution_count": null,
   "metadata": {},
   "outputs": [],
   "source": [
    "# flat top\n",
    "g=cv2.getGaussianKernel(64, sigma=32)\n",
    "kernel = g*g.T\n",
    "#kernel[kernel>0.4]=0.4\n",
    "plt.imshow(kernel)"
   ]
  },
  {
   "cell_type": "code",
   "execution_count": null,
   "metadata": {},
   "outputs": [],
   "source": [
    "kernel_size=64\n",
    "g = cv2.getGaussianKernel(kernel_size, sigma=0)\n",
    "kernel = g*g.T\n",
    "#kernel = np.ones([64,64])\n",
    "plt.imshow(kernel,vmin=0)"
   ]
  },
  {
   "cell_type": "markdown",
   "metadata": {},
   "source": [
    "# Test(Done) TODO:sort"
   ]
  },
  {
   "cell_type": "markdown",
   "metadata": {},
   "source": [
    "## Test 1D"
   ]
  },
  {
   "cell_type": "markdown",
   "metadata": {},
   "source": [
    "### Randomness increase"
   ]
  },
  {
   "cell_type": "code",
   "execution_count": null,
   "metadata": {},
   "outputs": [],
   "source": [
    "\n",
    "theta = 30\n",
    "points=sim1D()\n",
    "\n",
    "#for tsize in [1,4,9]:\n",
    "for rand in [0,1,2,3,4]:\n",
    "    sim_1D = genPic(np.zeros([128,128]), points, 9, theta=theta, rand=0, randz=5)\n",
    "    sim_1D = genPic(np.zeros([128,128]), points, 9, theta=theta, rand=0, randz=5)\n",
    "    #ft=FFTplot(sim_1D[32:96,32:96], plot=0)\n",
    "    #_=abs_mainFFT(ft,5)\n",
    "    #_=mainFFT(ft,n=4, xyrange=[22,42])\n",
    "    print(fft_filter(sim_1D[32:96,32:96], [5,8], max=5, plot=\"h\"))"
   ]
  },
  {
   "cell_type": "code",
   "execution_count": null,
   "metadata": {},
   "outputs": [],
   "source": [
    "test=cv2.imread(\"/Users/suestring/Desktop/Lab/Code/Hongyun/data/test/2D/adducin_ac2_72_131_64.png\")\n",
    "ft=FFTplot(test)\n",
    "ft[32,32]=0\n",
    "ft_sort=np.unravel_index(np.argsort(-np.real(ft), axis=None),ft.shape)\n",
    "\n",
    "for i in range(5):\n",
    "    nft=np.zeros([64,64],dtype=complex)\n",
    "    nft[ft_sort[0][2*i:2*(i+1)],ft_sort[1][2*i:2*(i+1)]]=ft[ft_sort[0][2*i:2*(i+1)],ft_sort[1][2*i:2*(i+1)]]\n",
    "    # plt.figure()\n",
    "    # plt.subplot(1,2,1)\n",
    "    # plt.imshow(np.real(nft))\n",
    "    # plt.subplot(1,2,2)\n",
    "    iFFTplot(nft)\n",
    "\n",
    "plt.figure()\n",
    "nft=np.zeros([64,64],dtype=complex)\n",
    "nft[ft_sort[0][:2*(i+1)],ft_sort[1][:2*(i+1)]]=ft[ft_sort[0][:2*(i+1)],ft_sort[1][:2*(i+1)]]\n",
    "#nft[:,:]=ft[:,:]\n",
    "\n",
    "ift=iFFTplot(nft)"
   ]
  },
  {
   "cell_type": "markdown",
   "metadata": {},
   "source": [
    "## Test data"
   ]
  },
  {
   "cell_type": "code",
   "execution_count": null,
   "metadata": {},
   "outputs": [],
   "source": [
    "test_1d=glob.glob(\"/Users/suestring/Desktop/Lab/Code/Hongyun/data/test/1D/*.png\")\n",
    "test_2d=glob.glob(\"/Users/suestring/Desktop/Lab/Code/Hongyun/data/test/2D/*.png\")\n",
    "test_sparse=glob.glob(\"/Users/suestring/Desktop/Lab/Code/Hongyun/data/test/sparse/*.png\")\n",
    "test_axon = cv2.imread(\"/Users/suestring/Desktop/Lab/Code/Hongyun/data/rendered/axon_x20.png\")"
   ]
  },
  {
   "cell_type": "code",
   "execution_count": null,
   "metadata": {},
   "outputs": [],
   "source": [
    "plt.figure(figsize=[5*len(test_1d),5])\n",
    "for i in range(len(test_1d)):\n",
    "    plt.subplot(1, len(test_1d),i+1)\n",
    "    test=cv2.imread(test_1d[i])\n",
    "    test =cv2.cvtColor(test, cv2.COLOR_BGR2GRAY)\n",
    "    plt.imshow(test)\n",
    "\n",
    "plt.figure(figsize=[5*len(test_2d),5])\n",
    "for i in range(len(test_2d)):\n",
    "    plt.subplot(1, len(test_2d),i+1)\n",
    "    test=cv2.imread(test_2d[i])\n",
    "    test =cv2.cvtColor(test, cv2.COLOR_BGR2GRAY)\n",
    "    plt.imshow(test)\n",
    "\n",
    "plt.figure(figsize=[5*len(test_sparse),5])\n",
    "for i in range(len(test_sparse)):\n",
    "    plt.subplot(1, len(test_sparse),i+1)\n",
    "    test=cv2.imread(test_sparse[i])\n",
    "    test =cv2.cvtColor(test, cv2.COLOR_BGR2GRAY)\n",
    "    plt.imshow(test)"
   ]
  },
  {
   "cell_type": "code",
   "execution_count": null,
   "metadata": {},
   "outputs": [],
   "source": [
    "test_axon1 = test_axon[875:875+64, 380:380+64]\n",
    "ft=FFTplot(test_axon1,plot=0)\n",
    "_=mainFFT(ft,3)"
   ]
  },
  {
   "cell_type": "code",
   "execution_count": null,
   "metadata": {},
   "outputs": [],
   "source": [
    "for i in test_1d:\n",
    "    test=cv2.imread(i)\n",
    "    ft=FFTplot(test,plot=0)\n",
    "    _=mainFFT(ft,5)"
   ]
  },
  {
   "cell_type": "code",
   "execution_count": null,
   "metadata": {},
   "outputs": [],
   "source": [
    "for i in test_2d:\n",
    "    test=cv2.imread(i)\n",
    "    ft=FFTplot(test,plot=0)\n",
    "    mainFFT(ft,12,isSep=0)"
   ]
  },
  {
   "cell_type": "code",
   "execution_count": null,
   "metadata": {},
   "outputs": [],
   "source": [
    "for i in test_sparse:\n",
    "    test=cv2.imread(i)\n",
    "    ft=FFTplot(test,plot=0)\n",
    "    _=mainFFT(ft,3)"
   ]
  },
  {
   "cell_type": "markdown",
   "metadata": {},
   "source": [
    "### Test Axon"
   ]
  },
  {
   "cell_type": "code",
   "execution_count": null,
   "metadata": {},
   "outputs": [],
   "source": [
    "test = cv2.imread(\"../data/rendered/axon_x20.png\")\n",
    "#test1=test[550:614,500:564]\n",
    "test1 = test[500:650, 500:600]\n",
    "plt.figure()\n",
    "plt.imshow(test1)\n",
    "#ft=FFTplot(test1, plot=0)\n",
    "#_=mainFFT(ft,6)\n",
    "#_=abs_mainFFT(ft,6)\n",
    "#print(fft_filter(test1, [2,4], plot=\"h\"))\n",
    "_=FFTfilter(test1, [2,4], kernel_size=64, threshold=0.1, sparse=0, steps=8)\n",
    "#test2=test[40:104,150:214]\n",
    "test2=test[0:104,0:214]\n",
    "plt.figure()\n",
    "plt.imshow(test2)\n",
    "#ft=FFTplot(test2, plot=0)\n",
    "#_=mainFFT(ft,6)\n",
    "#print(fft_filter(test2, [2,4], plot=\"h\"))\n",
    "_=FFTfilter(test2, [2,4], kernel_size=64, threshold=0.1, sparse=0, steps=8, corr=\"Pearson\")"
   ]
  },
  {
   "cell_type": "code",
   "execution_count": null,
   "metadata": {},
   "outputs": [],
   "source": [
    "test = cv2.imread(\"../data/rendered/axon_x20.png\")\n",
    "#test1=test[550:614,500:564]\n",
    "test1 = test[500:650, 500:600]\n",
    "plt.figure()\n",
    "plt.imshow(test1)\n",
    "#ft=FFTplot(test1, plot=0)\n",
    "#_=mainFFT(ft,6)\n",
    "#_=abs_mainFFT(ft,6)\n",
    "#print(fft_filter(test1, [2,4], plot=\"h\"))\n",
    "_=FFTfilter(test1, [2,4], kernel_size=64, threshold=0.1, sparse=0, steps=8)\n",
    "#test2=test[40:104,150:214]\n",
    "test2=test[0:104,0:214]\n",
    "plt.figure()\n",
    "plt.imshow(test2)\n",
    "#ft=FFTplot(test2, plot=0)\n",
    "#_=mainFFT(ft,6)\n",
    "#print(fft_filter(test2, [2,4], plot=\"h\"))\n",
    "_=FFTfilter(test2, [2,4], kernel_size=64, threshold=0.1, sparse=0, steps=8, corr=\"Pearson\")"
   ]
  },
  {
   "cell_type": "code",
   "execution_count": null,
   "metadata": {},
   "outputs": [],
   "source": [
    "test = cv2.imread(\"../data/rendered/axon_x20.png\")\n",
    "#test1=test[550:614,500:564]\n",
    "test1 = test[500:650, 500:600]\n",
    "plt.figure()\n",
    "plt.imshow(test1)\n",
    "#ft=FFTplot(test1, plot=0)\n",
    "#_=mainFFT(ft,6)\n",
    "#_=abs_mainFFT(ft,6)\n",
    "#print(fft_filter(test1, [2,4], plot=\"h\"))\n",
    "_=FFTfilter(test1, [2,4], kernel_size=64, threshold=0.1, sparse=0, steps=8)\n",
    "#test2=test[40:104,150:214]\n",
    "test2=test[0:104,0:214]\n",
    "plt.figure()\n",
    "plt.imshow(test2)\n",
    "#ft=FFTplot(test2, plot=0)\n",
    "#_=mainFFT(ft,6)\n",
    "#print(fft_filter(test2, [2,4], plot=\"h\"))\n",
    "_=FFTfilter(test2, [2,4], kernel_size=64, threshold=0.1, sparse=0, steps=8, corr=\"Pearson\")"
   ]
  },
  {
   "cell_type": "code",
   "execution_count": null,
   "metadata": {},
   "outputs": [],
   "source": [
    "test = cv2.imread(\"../data/rendered/axon_x20.png\")\n",
    "#test1=test[550:614,500:564]\n",
    "test1 = test[500:650, 500:600]\n",
    "plt.figure()\n",
    "plt.imshow(test1)\n",
    "#ft=FFTplot(test1, plot=0)\n",
    "#_=mainFFT(ft,6)\n",
    "#_=abs_mainFFT(ft,6)\n",
    "#print(fft_filter(test1, [2,4], plot=\"h\"))\n",
    "_=FFTfilter(test1, [2,4], kernel_size=64, threshold=0.1, sparse=0, steps=8)\n",
    "#test2=test[40:104,150:214]\n",
    "test2=test[0:104,0:214]\n",
    "plt.figure()\n",
    "plt.imshow(test2)\n",
    "#ft=FFTplot(test2, plot=0)\n",
    "#_=mainFFT(ft,6)\n",
    "#print(fft_filter(test2, [2,4], plot=\"h\"))\n",
    "_=FFTfilter(test2, [2,4], kernel_size=64, threshold=0.1, sparse=0, steps=8, corr=\"Pearson\")"
   ]
  },
  {
   "cell_type": "markdown",
   "metadata": {},
   "source": [
    "## Simulated data"
   ]
  },
  {
   "cell_type": "code",
   "execution_count": null,
   "metadata": {},
   "outputs": [],
   "source": [
    "def simPattern(i, space):\n",
    "    if i==0:\n",
    "        return(sim1D())\n",
    "    elif i==1:\n",
    "        return(sim2D(space=space))\n",
    "    elif i==2:\n",
    "        return(sim2DC(space=space))\n",
    "    else:\n",
    "        return(simRand(space=space))\n",
    "\n",
    "plt.figure(figsize=[40,20])\n",
    "\n",
    "for i in range(4):\n",
    "    for j in range(8):\n",
    "        theta = np.random.randint(0,180)\n",
    "        sim_tmp=genPic(np.zeros([128,128]), simPattern(i, space=j+5), 10, theta, rand=2, randz=5)\n",
    "        plt.subplot(4, 8, i*8+j+1)\n",
    "        plt.imshow(sim_tmp[32:96, 32:96])\n",
    "\n"
   ]
  },
  {
   "cell_type": "markdown",
   "metadata": {},
   "source": [
    "### 1D pattern"
   ]
  },
  {
   "cell_type": "code",
   "execution_count": null,
   "metadata": {},
   "outputs": [],
   "source": [
    "p_size = 16\n",
    "thre = 190/p_size\n",
    "nx = ny = 10\n",
    "space=8\n",
    "for shift in [0,3,5]:\n",
    "    points=[]\n",
    "    for py in range(1, 128, int(thre)):\n",
    "        for px in range(1+py//int(thre)*shift, 128, space):\n",
    "            points.append([px,py])\n",
    "    \n",
    "    for theta in [0,17,129]:\n",
    "        sim_1D = genPic(np.zeros([128,128]), points, 9, theta, rand=2, randz=6)\n",
    "        ft=FFTplot(sim_1D[32:96,32:96], plot=0)\n",
    "        _=mainFFT(ft,5)\n",
    "        plt.figure()\n",
    "        #plot_max3_r(ft,20)\n",
    "        #inv_mainFFT(ft,12)"
   ]
  },
  {
   "cell_type": "code",
   "execution_count": null,
   "metadata": {},
   "outputs": [],
   "source": [
    "nfft = 10\n",
    "psize = 9\n",
    "points=sim1D()\n",
    "for nRand in [0, 10, 50, 100]:\n",
    "    sim_1D = genPic(np.zeros([128,128]), np.vstack((points,np.random.randint(32, 96,[nRand,2]))), psize, theta, rand=0, randz=2)\n",
    "    #ft=FFTplot(sim_1D[32:96,32:96], plot=0)\n",
    "    #plt.figure()\n",
    "    #_=mainFFT(ft,nfft,isSep=0,xylen=10)\n",
    "    print(fft_filter(sim_1D[32:96,32:96], [5,7], plot=\"h\", vmin=-10, vmax=800))"
   ]
  },
  {
   "cell_type": "code",
   "execution_count": null,
   "metadata": {},
   "outputs": [],
   "source": [
    "sim_1D = genPic(np.zeros([128,128]), points, 9, theta, rand=2, randz=6)\n",
    "ft=FFTplot(sim_1D[32:96,32:96], plot=0)\n",
    "for nfft in range(1,10):\n",
    "    plt.figure()\n",
    "    _=mainFFT(ft,nfft,isSep=0,xylen=10)"
   ]
  },
  {
   "cell_type": "markdown",
   "metadata": {},
   "source": [
    "### 2D pattern"
   ]
  },
  {
   "cell_type": "markdown",
   "metadata": {},
   "source": [
    "#### Junction(Spectrin-N, Adducin)"
   ]
  },
  {
   "cell_type": "code",
   "execution_count": null,
   "metadata": {},
   "outputs": [],
   "source": [
    "## 2D pattern\n",
    "nx = 12\n",
    "ny = 12\n",
    "sim_2D=np.zeros([64,64])\n",
    "space = int(100/p_size)\n",
    "sim_points=np.array([[int((x*2-y%2)*space)+10, int(y*np.sqrt(3)*space)] for x in range(nx) for y in range(ny)])\n",
    "\n",
    "theta=120\n",
    "#for theta in range(1,180,36):\n",
    "sim_2D = genPic(np.zeros([128,128]), sim2D(space=7), 9, theta, rand=3, randz=4)\n",
    "for nfft in range(1,7):\n",
    "    ft=FFTplot(sim_2D[32:96,32:96], plot=0)\n",
    "    #_=mainFFT(ft,6)\n",
    "    plt.figure()\n",
    "    # plot_max_r(ft,20)\n",
    "    _=mainFFT(ft,nfft,isSep=0,xylen=10)"
   ]
  },
  {
   "cell_type": "markdown",
   "metadata": {},
   "source": [
    "#### Spectrin-C"
   ]
  },
  {
   "cell_type": "code",
   "execution_count": null,
   "metadata": {},
   "outputs": [],
   "source": [
    "#space = int(100/p_size)\n",
    "space = 12\n",
    "sim_points=np.array([[int((x*2-y%2)*space)+10, int(y*np.sqrt(3)*space)] for x in range(nx) for y in range(ny)])\n",
    "sim_dist = [[np.linalg.norm(i-j) for i in sim_points] for j in sim_points ]\n",
    "thre = 2*space+1\n",
    "\n",
    "c_points = []\n",
    "n_vx = len(sim_points)\n",
    "for i in range(n_vx):\n",
    "    for j in range(i+1, n_vx):\n",
    "        if sim_dist[i][j] <= thre:\n",
    "            c_points.append([(sim_points[i][0]+sim_points[j][0])//2, (sim_points[i][1]+sim_points[j][1])//2])\n",
    "\n",
    "nfft = 12\n",
    "#for theta in range(1,180,30):\n",
    "theta = 30    \n",
    "sim_2D_C = genPic(np.zeros([128,128]), sim2DC(space=9), 9, theta=theta, rand=0, randz=1)\n",
    "for nfft in [12]:#1,3,6,9,10,12]:\n",
    "    ft=FFTplot(sim_2D_C[32:96,32:96], plot=0)\n",
    "    #_=mainFFT(ft,10)\n",
    "    plt.figure()\n",
    "    #plot_max_r(ft,20)\n",
    "    ind, comp=mainFFT(ft,nfft,isSep=0,xylen=10)"
   ]
  },
  {
   "cell_type": "markdown",
   "metadata": {},
   "source": [
    "### Random pattern"
   ]
  },
  {
   "cell_type": "code",
   "execution_count": null,
   "metadata": {},
   "outputs": [],
   "source": [
    "for i in range(7):\n",
    "    sim_2D_C = genPic(np.zeros([128,128]), simRand(space=12), 9, rand=2, randz=6)\n",
    "    ft=FFTplot(sim_2D_C[32:96,32:96])\n",
    "    #_=mainFFT(ft,6)\n",
    "    plt.figure()\n",
    "    #plot_max_r(ft,20)"
   ]
  },
  {
   "cell_type": "markdown",
   "metadata": {},
   "source": [
    "# Playground"
   ]
  },
  {
   "cell_type": "code",
   "execution_count": null,
   "metadata": {},
   "outputs": [],
   "source": [
    "img=cv2.imread(\"../data/rendered/test/2D/adducin_ac2_72_131_64.png\")\n",
    "test =cv2.cvtColor(img, cv2.COLOR_BGR2GRAY)\n",
    "c,o,d =FFTfilter(test, [5,7], kernel_size=64)"
   ]
  },
  {
   "cell_type": "code",
   "execution_count": null,
   "metadata": {},
   "outputs": [],
   "source": [
    "rendered = cv2.imread(\"../data/rendered/Axon_x20.png\")\n",
    "test =cv2.cvtColor(rendered, cv2.COLOR_BGR2GRAY)\n",
    "#test1=test[400:600,500:600]\n",
    "plt.imshow(test)\n",
    "c,o,d =FFTfilter(test, [2,4],kernel_size=64, threshold=0, sparse=500, steps=16)"
   ]
  },
  {
   "cell_type": "code",
   "execution_count": null,
   "metadata": {},
   "outputs": [],
   "source": [
    "simD=sim_1dgraph(rand=1,randz=2)"
   ]
  },
  {
   "cell_type": "code",
   "execution_count": null,
   "metadata": {},
   "outputs": [],
   "source": [
    "plt.figure()\n",
    "space=[5,7]\n",
    "max=8\n",
    "steps=8\n",
    "corr=\"Pearson\"\n",
    "for method in [\"fft\",\"auto\",\"bin\"]:\n",
    "    c,o,d =FFTfilter(simD, space, kernel_size=64, max=max, threshold=0, sparse=10000, steps=steps, corr=corr,method=method,figsize=[15,5], plot=1)"
   ]
  },
  {
   "cell_type": "code",
   "execution_count": null,
   "metadata": {},
   "outputs": [],
   "source": [
    "a=[]\n",
    "for x in range(10):\n",
    "    for y in range(1):\n",
    "        a.append(fft_filter(simD[x:x+64,y:y+64],space, plot=\"h\", method=\"bin1\")[0])"
   ]
  },
  {
   "cell_type": "code",
   "execution_count": null,
   "metadata": {},
   "outputs": [],
   "source": [
    "plt.plot(a)"
   ]
  },
  {
   "cell_type": "code",
   "execution_count": null,
   "metadata": {},
   "outputs": [],
   "source": [
    "corr=\"Pearson\"\n",
    "theta=0\n",
    "\n",
    "\n",
    "space=[5,7]\n",
    "for i in [10, 20, 40]:\n",
    "    simDnR=genPic(simD, simRand(1280,space=i), 9, theta=theta, rand=3, randz=8)\n",
    "    plt.figure()\n",
    "    plt.imshow(simDnR)\n",
    "    for method in [\"fft\",\"auto\",\"bin\",\"bin1\"]:\n",
    "        c,o,d =FFTfilter(simDnR, space, kernel_size=64, threshold=0, sparse=1000, steps=steps, corr=corr, method=method,figsize=[15,5])"
   ]
  },
  {
   "cell_type": "code",
   "execution_count": null,
   "metadata": {},
   "outputs": [],
   "source": [
    "\n",
    "for i in test_1d:\n",
    "    test=cv2.imread(i)\n",
    "    test_conv=scipy.signal.fftconvolve(test, np.flip(test), mode = 'same')\n",
    "    ft=FFTplot(test,plot=0)\n",
    "    _=mainFFT(ft,5)\n",
    "    ft=FFTplot(test_conv.astype('float32'),plot=0)\n",
    "    _=mainFFT(ft,5)"
   ]
  },
  {
   "cell_type": "code",
   "execution_count": null,
   "metadata": {},
   "outputs": [],
   "source": [
    "rendered = cv2.imread(\"/Users/suestring/Desktop/Lab/Code/Hongyun/data/rendered/A1.png\")\n",
    "p_size = 16\n",
    "space = int(190/p_size)\n",
    "test =cv2.cvtColor(rendered, cv2.COLOR_BGR2GRAY)\n",
    "test1 = test[1500:2400,1500:2400]\n",
    "#test2 = test[1800:1900,1700:1800]\n",
    "#test1 = test[1800:2000,1700:1900]\n",
    "plt.imshow(test1)\n",
    "space=[5,8]\n",
    "steps=8\n",
    "plt.figure()\n",
    "c,o,d =FFTfilter(test1, space, kernel_size=64, threshold=0, sparse=10000, steps=steps, corr=corr)\n",
    "#c,o,d =FFTfilter(test1, space, kernel_size=64, threshold=0, sparse=10000, steps=steps, corr=corr, method=\"auto\")"
   ]
  },
  {
   "cell_type": "code",
   "execution_count": null,
   "metadata": {},
   "outputs": [],
   "source": [
    "def findParameter(img, xy, kernel_size):\n",
    "    #plt.imshow(img[xy[0]:xy[0]+kernel_size, xy[1]:xy[1]+kernel_size])\n",
    "    test = img[xy[0]:xy[0]+kernel_size, xy[1]:xy[1]+kernel_size]\n",
    "    ft = FFTplot(test, plot=0)\n",
    "    _ = mainFFT(ft, n=5)\n",
    "    print(np.sum(test))"
   ]
  },
  {
   "cell_type": "code",
   "execution_count": null,
   "metadata": {},
   "outputs": [],
   "source": [
    "# 7.2nm per pixel, thus 190/7.2\n",
    "#rendered = cv2.imread(\"/Users/suestring/Desktop/Lab/Code/Hongyun/data/rendered/2color_spectrin_Cterm.jpg\")\n",
    "rendered = cv2.imread(\"/Users/suestring/Desktop/Lab/Code/Hongyun/data/rendered/A1.png\")\n",
    "\n",
    "test =cv2.cvtColor(rendered, cv2.COLOR_BGR2GRAY)\n",
    "\n",
    "plt.imshow(test)\n",
    "test1=test\n",
    "# test1=test[1200:2400, 1600:2800]\n",
    "\n",
    "space=[5,8]\n",
    "corr=\"Pearson\"\n",
    "steps=8\n",
    "c=[[] for i in range(3)]\n",
    "methods = [\"bin\"]#fft\", \"auto\", \"bin\"]\n",
    "\n",
    "pixel_size=16\n",
    "sx, sy=test1.shape\n",
    "l_ratios=[ (x*180/64/pixel_size) for x in range(2,10)]\n",
    "#xylist=[[430, 290],[600,400],[570,390]]\n",
    "spectrin_range=np.array([200, 140])  \n",
    "kernel_size = 64\n",
    "rrange=(kernel_size*pixel_size/spectrin_range).astype(int)\n",
    "rrange[1]+=1\n",
    "\n",
    "ratio=l_ratios[1]#,1,1.5,2]:\n",
    "t_test = cv2.resize(test1, (int(sy/ratio), int(sx/ratio)))\n",
    "\n",
    "t_pixel = pixel_size*ratio\n",
    "rrange=(kernel_size*t_pixel/spectrin_range).astype(int)\n",
    "rrange[1]+=1\n",
    "method=methods[0]\n",
    "c[i],o,d =FFTfilter(t_test, space, kernel_size=64, threshold=0.2, sparse=100000, steps=8, corr=corr, method=method, save_thre=0.5,save_name=\"stripe3_raw\")\n",
    "plt.figure(figsize=[10,10])\n",
    "a=sumMat(t_test,c[i],steps=8, method=\"flattop\")\n",
    "plt.imshow(cv2.merge([t_test,(255*a/np.max(a,axis=None)).astype(np.uint8),t_test]))\n"
   ]
  },
  {
   "cell_type": "code",
   "execution_count": null,
   "metadata": {},
   "outputs": [],
   "source": [
    "l_ratios"
   ]
  },
  {
   "cell_type": "code",
   "execution_count": null,
   "metadata": {},
   "outputs": [],
   "source": [
    "n_size=test1.shape\n",
    "nc=np.array(Image.fromarray(c).resize(n_size))\n",
    "plt.imshow(test1)\n",
    "plt.imshow(nc, vmin=0.2, vmax=0.5, alpha=0.5,cmap=\"magma\")"
   ]
  },
  {
   "cell_type": "code",
   "execution_count": null,
   "metadata": {},
   "outputs": [],
   "source": [
    "plt.figure(figsize=[10,5])\n",
    "plt.subplot(121)\n",
    "plt.imshow(test1)\n",
    "\n",
    "plt.subplot(122)\n",
    "plt.imshow(test1)\n",
    "plt.imshow(nc, vmin=0.25, vmax=0.5, alpha=0.3,cmap=\"hsv\")\n"
   ]
  },
  {
   "cell_type": "code",
   "execution_count": null,
   "metadata": {},
   "outputs": [],
   "source": [
    "plt.imshow(cv2.merge([test1,maskMat(test1,c>0.36,steps=8).astype(np.uint8),test1]))"
   ]
  },
  {
   "cell_type": "code",
   "execution_count": null,
   "metadata": {},
   "outputs": [],
   "source": [
    "plt.imshow(sumMat(test1,c,steps=8))"
   ]
  },
  {
   "cell_type": "code",
   "execution_count": null,
   "metadata": {},
   "outputs": [],
   "source": [
    "for i in range(3):\n",
    "    plt.figure(figsize=[10,10])\n",
    "    a=sumMat(test1,c[i],steps=8, method=\"flattop\")\n",
    "    plt.imshow(cv2.merge([test1,(255*a/np.max(a,axis=None)).astype(np.uint8),test1]))"
   ]
  },
  {
   "cell_type": "code",
   "execution_count": null,
   "metadata": {},
   "outputs": [],
   "source": [
    "a=sumMat(test1,c,steps=8, method=\"gaussian\")"
   ]
  },
  {
   "cell_type": "code",
   "execution_count": null,
   "metadata": {},
   "outputs": [],
   "source": [
    "plt.imshow(255*(a/np.max(a,axis=None)))"
   ]
  },
  {
   "cell_type": "code",
   "execution_count": null,
   "metadata": {},
   "outputs": [],
   "source": [
    "if(-1):\n",
    "    print(3)"
   ]
  },
  {
   "cell_type": "code",
   "execution_count": null,
   "metadata": {},
   "outputs": [],
   "source": [
    "test1.shape"
   ]
  },
  {
   "cell_type": "code",
   "execution_count": null,
   "metadata": {},
   "outputs": [],
   "source": [
    "oo=o.copy()\n",
    "oo[np.where(c<0.3)]=0\n",
    "plt.imshow(oo,vmin=0,vmax=180,cmap=\"PuOr\",norm=None)"
   ]
  },
  {
   "cell_type": "code",
   "execution_count": null,
   "metadata": {},
   "outputs": [],
   "source": [
    "plt.hist(7.2*np.sort(np.delete(d.flatten(), np.where(d.flatten()==0)),axis=None))"
   ]
  },
  {
   "cell_type": "code",
   "execution_count": null,
   "metadata": {},
   "outputs": [],
   "source": [
    "np.delete(d, np.where(d==0))"
   ]
  },
  {
   "cell_type": "code",
   "execution_count": null,
   "metadata": {},
   "outputs": [],
   "source": [
    "a=np.array([[1,2],[3,4]]).flatten()\n",
    "np.delete(a, np.where(a==2))"
   ]
  },
  {
   "cell_type": "code",
   "execution_count": null,
   "metadata": {},
   "outputs": [],
   "source": [
    "rendered = cv2.imread(\"/Users/suestring/Desktop/Lab/Code/Hongyun/data/rendered/NA1.png\")\n",
    "test =cv2.cvtColor(rendered, cv2.COLOR_BGR2GRAY)\n",
    "plt.imshow(test[1000:1600,900:1500])\n",
    "space=[5,8]\n",
    "\n",
    "test1=test[1000:1600,900:1500]\n",
    "\n",
    "space=[5,8]\n",
    "corr=\"Pearson\"\n",
    "steps=8\n",
    "c=[[] for i in range(3)]\n",
    "methods = [\"fft\", \"auto\", \"bin\"]\n",
    "for i in range(3):\n",
    "    method=methods[i]\n",
    "    c[i],o,d =FFTfilter(test1, space, kernel_size=64, threshold=0.2, sparse=100000, steps=8, corr=corr, method=method)#, save_thre=0.4)\n",
    "    plt.figure(figsize=[10,10])\n",
    "    a=sumMat(test1,c[i],steps=8, method=\"gaussian\")\n",
    "    plt.imshow(cv2.merge([test1,(255*a/np.max(a,axis=None)).astype(np.uint8),test1]))\n",
    "# plt.figure()\n",
    "# plt.subplot(121)\n",
    "# plt.imshow(c,cmap=\"PuOr\")\n",
    "# plt.subplot(122)\n",
    "# plt.imshow(d,cmap=\"rainbow\")"
   ]
  },
  {
   "cell_type": "code",
   "execution_count": null,
   "metadata": {},
   "outputs": [],
   "source": [
    "test2=test[1000:1600,900:1500]\n",
    "n_size=test2.shape\n",
    "nc=np.array(Image.fromarray(c1).resize(n_size))\n",
    "plt.figure(figsize=[10,5])\n",
    "plt.subplot(121)\n",
    "plt.imshow(test2)\n",
    "\n",
    "plt.subplot(122)\n",
    "plt.imshow(test2)\n",
    "plt.imshow(nc, vmin=0.25, vmax=0.5, alpha=0.3,cmap=\"hsv\")"
   ]
  },
  {
   "cell_type": "code",
   "execution_count": null,
   "metadata": {},
   "outputs": [],
   "source": [
    "#rendered = cv2.imread(\"/Users/suestring/Desktop/Lab/Code/Hongyun/data/rendered/NA5.png\")\n",
    "rendered = cv2.imread(\"../data/rendered/soma/1226_5.png\")\n",
    "test =cv2.cvtColor(rendered, cv2.COLOR_BGR2GRAY)\n",
    "plt.imshow(test)#[1000:1600,900:1500])\n",
    "#space=[3,6]\n",
    "space=[5,7]\n",
    "test1=test[700:1500,1000:1900] #1226_5\n",
    "#test1=test[600:1600,600:1600] #NA5\n",
    "#test1=test[0:1500,0:1500]  # NA2\n",
    "corr=\"Pearson\"\n",
    "steps=8\n",
    "c=[[] for i in range(3)]\n",
    "methods = [\"bin\"]\n",
    "for i in range(1):\n",
    "    method=methods[i]\n",
    "    c[i],o,d =FFTfilter(test1, space, kernel_size=32, threshold=0.3, sparse=100000, max=10, steps=8, corr=corr, method=method)#, save_thre=0.4)\n",
    "    plt.figure(figsize=[10,10])\n",
    "    a=sumMat(test1,c[i],kernel_size=32, steps=8, method=\"gaussian\")\n",
    "    plt.imshow(cv2.merge([test1,(255*a/np.max(a,axis=None)).astype(np.uint8),test1]))"
   ]
  },
  {
   "cell_type": "code",
   "execution_count": null,
   "metadata": {},
   "outputs": [],
   "source": [
    "plt.figure()\n",
    "plt.imshow(cv2.merge([test,maskMat(test,c1>0.32,steps=8).astype(np.uint8),test]))"
   ]
  },
  {
   "cell_type": "code",
   "execution_count": null,
   "metadata": {},
   "outputs": [],
   "source": [
    "rendered = cv2.imread(\"/Users/suestring/Desktop/Lab/Code/Hongyun/data/rendered.png\")\n",
    "test =cv2.cvtColor(rendered, cv2.COLOR_BGR2GRAY)\n",
    "plt.imshow(test)#[1000:1600,900:1500])\n",
    "space=[2,6]\n",
    "\n",
    "for size in [32, 48, 64]:\n",
    "    for method in [\"fft\", \"auto\", \"rb_auto\"]:\n",
    "        c1,o1,d1 =FFTfilter(test, space, kernel_size=size, threshold=0, sparse=10000, steps=8, method=method)\n",
    "        a=sumMat(test,c1,steps=8, method=\"gaussian\")\n",
    "        plt.figure()\n",
    "        plt.imshow(cv2.merge([test,(255*(a/np.max(a,axis=None))).astype(np.uint8),test]))"
   ]
  },
  {
   "cell_type": "code",
   "execution_count": null,
   "metadata": {},
   "outputs": [],
   "source": [
    "plt.imshow(sumMat(test,c1,steps=8,method=\"flattop\"))"
   ]
  },
  {
   "cell_type": "code",
   "execution_count": null,
   "metadata": {},
   "outputs": [],
   "source": [
    "plt.imshow(c1)"
   ]
  },
  {
   "cell_type": "code",
   "execution_count": null,
   "metadata": {},
   "outputs": [],
   "source": [
    "rendered = cv2.imread(\"/Users/suestring/Desktop/Lab/Code/Hongyun/data/rendered/A1.png\")\n",
    "test =cv2.cvtColor(rendered, cv2.COLOR_BGR2GRAY)\n",
    "test1=test[1300:2300,1400:2200]\n",
    "\n",
    "space=[5,8]\n",
    "\n",
    "plt.figure()\n",
    "plt.imshow(test1)\n",
    "xylist=[[430, 290],[600,400],[570,390]]\n",
    "for x, y in xylist:\n",
    "    plt.gca().add_patch(Rectangle((y,x),64,64,linewidth=1,edgecolor='r',facecolor='none'))\n",
    "\n",
    "for x, y in xylist:\n",
    "    test2=test1[x:x+64, y:y+64]\n",
    "    plt.figure()\n",
    "    plt.imshow(test2)\n",
    "    space=[5,8]\n",
    "    corr=\"Pearson\"\n",
    "    print(fft_filter(test2, space, plot=\"h\"))\n",
    "\n",
    "\n",
    "c1,o1,d1 =FFTfilter(test1, space, kernel_size=64, threshold=0, sparse=200000, steps=8)\n",
    "\n",
    "\n",
    "sx, sy=test1.shape\n",
    "nc=np.array(Image.fromarray(c1).resize([sy, sx]))\n",
    "plt.figure(figsize=[10,5])\n",
    "plt.subplot(121)\n",
    "plt.imshow(test1)\n",
    "\n",
    "plt.subplot(122)\n",
    "plt.imshow(test1)\n",
    "plt.imshow(nc, vmin=0.1, vmax=0.7, alpha=0.3,cmap=\"hsv\")"
   ]
  },
  {
   "cell_type": "markdown",
   "metadata": {},
   "source": [
    "#### Same Kernel size, different resolution"
   ]
  },
  {
   "cell_type": "code",
   "execution_count": null,
   "metadata": {},
   "outputs": [],
   "source": [
    "rendered = cv2.imread(\"/Users/suestring/Desktop/Lab/Code/Hongyun/data/rendered/NA2.png\")\n",
    "test =cv2.cvtColor(rendered, cv2.COLOR_BGR2GRAY)\n",
    "test1=test[1:1500,1:1500]\n",
    "\n",
    "#Default unit: nm\n",
    "pixel_size=16\n",
    "sx, sy=test1.shape\n",
    "l_ratios=[ (x*180/64/pixel_size) for x in [4,5]]\n",
    "spectrin_range=np.array([200, 140])  \n",
    "kernel_size = 64\n",
    "rrange=(kernel_size*pixel_size/spectrin_range).astype(int)\n",
    "rrange[1]+=1\n",
    "\n",
    "for ratio in l_ratios:\n",
    "    t_test = cv2.resize(test1, (int(sy/ratio), int(sx/ratio)))\n",
    "    t_pixel = pixel_size*ratio\n",
    "    rrange=(kernel_size*t_pixel/spectrin_range).astype(int)\n",
    "    rrange[1]+=1\n",
    "    corr=\"Pearson\"\n",
    "    c, o, d = FFTfilter(t_test, rrange, kernel_size=64, threshold=0.3, sparse=100000, steps=8, plot=0, method=\"bin\")\n",
    "    plt.figure()\n",
    "    a=sumMat(t_test,c,steps=8, method=\"gaussian\")\n",
    "    plt.imshow(cv2.merge([t_test,(255*a/np.max(a,axis=None)).astype(np.uint8),t_test]))\n"
   ]
  },
  {
   "cell_type": "code",
   "execution_count": null,
   "metadata": {},
   "outputs": [],
   "source": [
    "l_ratios=[ (x*180/64/pixel_size) for x in range(3,10)]"
   ]
  },
  {
   "cell_type": "code",
   "execution_count": null,
   "metadata": {},
   "outputs": [],
   "source": [
    "import matplotlib.backends.backend_pdf\n"
   ]
  },
  {
   "cell_type": "markdown",
   "metadata": {},
   "source": [
    "#### Same Resolution, different kernel size"
   ]
  },
  {
   "cell_type": "code",
   "execution_count": null,
   "metadata": {},
   "outputs": [],
   "source": [
    "rendered = cv2.imread(\"/Users/suestring/Desktop/Lab/Code/Hongyun/data/rendered/A1.png\")\n",
    "test =cv2.cvtColor(rendered, cv2.COLOR_BGR2GRAY)\n",
    "test1=test[1300:2300,1400:2200]\n",
    "\n",
    "#Default unit: nm\n",
    "pixel_size=16 \n",
    "sx, sy=test1.shape\n",
    "\n",
    "\n",
    "xylist=[[430, 290],[600,400],[570,390]]\n",
    "spectrin_range=np.array([200, 140])  \n",
    "kernel_size = 64\n",
    "rrange=(kernel_size*pixel_size/spectrin_range).astype(int)\n",
    "rrange[1]+=1\n",
    "\n",
    "for kernel_size in [16,32,48,64]:\n",
    "    plt.figure()\n",
    "    plt.imshow(test1)\n",
    "    rrange=(kernel_size*pixel_size/spectrin_range).astype(int)\n",
    "    rrange[1]+=1\n",
    "    print(rrange)\n",
    "    for x, y in xylist:\n",
    "        plt.gca().add_patch(Rectangle((y,x),kernel_size,kernel_size,linewidth=1,edgecolor='r',facecolor='none'))\n",
    "\n",
    "    for x, y in xylist:\n",
    "        test2=test1[x:x+kernel_size, y:y+kernel_size]\n",
    "        plt.figure()\n",
    "        plt.imshow(test2)\n",
    "        corr=\"Pearson\"\n",
    "        print(fft_filter(test2, rrange, kernel_size=kernel_size,plot=\"h\"))\n",
    "        c1,o1,d1 =FFTfilter(test1[x:x+64, y:y+64], rrange, kernel_size=kernel_size, threshold=0, sparse=1000, steps=8)\n",
    "        # tx, ty=test1.shape\n",
    "        # nc=np.array(Image.fromarray(c1).resize([ty, tx]))\n",
    "        # plt.figure(figsize=[10,5])\n",
    "        # plt.subplot(121)\n",
    "        # plt.imshow(test1)\n",
    "\n",
    "        # plt.subplot(122)\n",
    "        # plt.imshow(test1)\n",
    "        # plt.imshow(nc, alpha=0.3,cmap=\"hsv\")"
   ]
  },
  {
   "cell_type": "code",
   "execution_count": null,
   "metadata": {},
   "outputs": [],
   "source": [
    "rendered = cv2.imread(\"../data/rendered/soma/1226_5.png\")\n",
    "test =cv2.cvtColor(rendered, cv2.COLOR_BGR2GRAY)\n",
    "test1=test[600:1500,1000:1800]\n",
    "\n",
    "space=[5,8]\n",
    "\n",
    "# plt.figure()\n",
    "# plt.imshow(test1)\n",
    "# xylist=[[430, 290],[660,320],[570,390]]\n",
    "# for x, y in xylist:\n",
    "#     plt.gca().add_patch(Rectangle((y,x),64,64,linewidth=1,edgecolor='r',facecolor='none'))\n",
    "\n",
    "# for x, y in xylist:\n",
    "#     test2=test1[x:x+64, y:y+64]\n",
    "#     plt.figure()\n",
    "#     plt.imshow(test2)\n",
    "#     space=[5,8]\n",
    "#     corr=\"Pearson\"\n",
    "#     print(fft_filter(test2, space, plot=\"h\"))\n",
    "\n",
    "\n",
    "c1,o1,d1 =FFTfilter(test1, space, kernel_size=64, method=\"bin\", threshold=0, sparse=10000, steps=16)\n",
    "\n",
    "# sx, sy=test1.shape\n",
    "# nc=np.array(Image.fromarray(c1).resize([sy, sx]))\n",
    "# plt.figure(figsize=[10,5])\n",
    "# plt.subplot(121)\n",
    "# plt.imshow(test1)\n",
    "\n",
    "# plt.subplot(122)\n",
    "# plt.imshow(test1)\n",
    "# plt.imshow(nc, vmin=0, vmax=1, alpha=0.3,cmap=\"rainbow\")\n",
    "# nnc=nc.copy()\n",
    "# nnc[nnc<0]=0\n",
    "# plt.figure()\n",
    "# plt.imshow(nnc, cmap=\"rainbow\")\n",
    "plt.imshow(test1)\n",
    "a=sumMat(test1,c1,steps=16,method=\"flattop\")\n",
    "plt.imshow(a, vmin=0.0002, vmax=0.001, alpha=0.3,cmap=\"rainbow\")"
   ]
  },
  {
   "cell_type": "code",
   "execution_count": null,
   "metadata": {},
   "outputs": [],
   "source": [
    "\n",
    "plt.imshow(test1)\n",
    "a=sumMat(test1,c1,steps=16,method=\"flattop\")\n",
    "#a=sumMat(test1,c1,steps=16,method=\"gaussian\")\n",
    "\n",
    "#a=sumMat(test1,c1,steps=16)\n",
    "\n",
    "thre = 4\n",
    "#plt.imshow(a, vmin=thre, vmax=thre+0.1, alpha=0.3,cmap=\"rainbow\")\n",
    "plt.imshow(a, vmin=np.max(a)/2-0.0001, vmax=np.max(a), alpha=0.3,cmap=\"rainbow\")"
   ]
  },
  {
   "cell_type": "code",
   "execution_count": null,
   "metadata": {},
   "outputs": [],
   "source": [
    "np.max(a)"
   ]
  },
  {
   "cell_type": "code",
   "execution_count": null,
   "metadata": {},
   "outputs": [],
   "source": [
    "np.max(a)"
   ]
  },
  {
   "cell_type": "code",
   "execution_count": null,
   "metadata": {},
   "outputs": [],
   "source": [
    "rendered = cv2.imread(\"../data/rendered/soma/1226_5.png\")\n",
    "plt.imshow(rendered)"
   ]
  },
  {
   "cell_type": "code",
   "execution_count": null,
   "metadata": {},
   "outputs": [],
   "source": [
    "rendered = cv2.imread(\"../data/rendered/Tcell/A1.png\")\n",
    "test =cv2.cvtColor(rendered, cv2.COLOR_BGR2GRAY)\n",
    "test1=test[1300:2300,1400:2200]\n",
    "\n",
    "space=[5,8]\n",
    "\n",
    "plt.figure()\n",
    "plt.imshow(test1)\n",
    "xylist=[[430, 290],[660,320],[570,390]]\n",
    "for x, y in xylist:\n",
    "    plt.gca().add_patch(Rectangle((y,x),64,64,linewidth=1,edgecolor='r',facecolor='none'))\n",
    "\n",
    "for x, y in xylist:\n",
    "    test2=test1[x:x+64, y:y+64]\n",
    "    plt.figure()\n",
    "    plt.imshow(test2)\n",
    "    space=[5,8]\n",
    "    corr=\"Pearson\"\n",
    "    print(fft_filter(test2, space, plot=\"h\"))\n",
    "\n",
    "\n",
    "c1,o1,d1 =FFTfilter(test1, space, kernel_size=64, threshold=0, sparse=200000, steps=8)\n",
    "\n",
    "\n",
    "sx, sy=test1.shape\n",
    "nc=np.array(Image.fromarray(c1).resize([sy, sx]))\n",
    "plt.figure(figsize=[10,5])\n",
    "plt.subplot(121)\n",
    "plt.imshow(test1)\n",
    "\n",
    "plt.subplot(122)\n",
    "plt.imshow(test1)\n",
    "plt.imshow(nc, vmin=0.1, vmax=0.7, alpha=0.3,cmap=\"rainbow\")\n",
    "nnc=nc.copy()\n",
    "nnc[nnc<0]=0\n",
    "plt.imshow(nnc, cmap=\"rainbow\")"
   ]
  },
  {
   "cell_type": "code",
   "execution_count": null,
   "metadata": {},
   "outputs": [],
   "source": [
    "def fft_filter(img, rrange, max=6, plot=0, kernel_size=64, corr=\"Pearson\", method=\"fft\", type=0, **plot_args):\n",
    "    ft=FFT(img)\n",
    "    if method == \"auto\":\n",
    "        img=scipy.signal.fftconvolve(img, np.flip(img), mode = 'same')\n",
    "        ft=FFT(img.astype('float32'))\n",
    "    elif method == \"conv\":\n",
    "        img=scipy.signal.fftconvolve(img, img, mode = 'same')\n",
    "        ft=FFT(img.astype('float32'))\n",
    "    elif method == \"rb_auto\":\n",
    "        img=scipy.signal.fftconvolve(img, np.flip(img), mode = 'same')\n",
    "    elif method == \"bin\":\n",
    "        a=scipy.signal.fftconvolve(img, np.flip(img), mode = 'same')\n",
    "        tmp = 255* a.astype(np.float64) / a.max()\n",
    "        a = tmp.astype(np.uint8)\n",
    "        if type == 0:\n",
    "            local = 7\n",
    "            img = cv2.adaptiveThreshold(a, 255, cv2.ADAPTIVE_THRESH_GAUSSIAN_C, cv2.THRESH_BINARY, local, 0)\n",
    "        elif type == 1:\n",
    "            img = cv2.threshold(a, 0, 255, cv2.THRESH_BINARY+cv2.THRESH_OTSU)[1]\n",
    "        elif type == 2:\n",
    "            local = 7\n",
    "            th1 = cv2.adaptiveThreshold(a, 255, cv2.ADAPTIVE_THRESH_GAUSSIAN_C, cv2.THRESH_BINARY, local, 0)\n",
    "            th2 = cv2.threshold(a, 0, 255, cv2.THRESH_BINARY+cv2.THRESH_OTSU)[1]\n",
    "            img = th1 & th2\n",
    "        elif type == 3:\n",
    "            img = cv2.threshold(a, 60, 255, cv2.THRESH_BINARY)[1]\n",
    "        ft=FFT(img)\n",
    "\n",
    "    if len(img.shape)==3:\n",
    "        img = cv2.cvtColor(img, cv2.COLOR_BGR2GRAY)\n",
    "    sn,_ = ft.shape\n",
    "    ft_sort=np.unravel_index(np.argsort(-abs(ft), axis=None),ft.shape)\n",
    "    nft=np.zeros([kernel_size,kernel_size],dtype=complex) \n",
    "    nft[ft_sort[0][1:2*(max+1)],ft_sort[1][1:2*(max+1)]]=ft[ft_sort[0][1:2*(max+1)],ft_sort[1][1:2*(max+1)]]\n",
    "    tmp = np.abs(nft)*unit_circle(sn//2, rrange) \n",
    "\n",
    "    if tmp.argmax()==0:   # that there's no pattern at all\n",
    "        return([-1, -1, -1])     \n",
    "    dx, dy = np.unravel_index(tmp.argmax(), tmp.shape)\n",
    "    nft=np.zeros([kernel_size,kernel_size],dtype=complex) \n",
    "    nft[dx, dy]=ft[dx, dy]\n",
    "    nft[kernel_size-dx, kernel_size-dy]=ft[kernel_size-dx, kernel_size-dy]\n",
    "    if plot==\"v\":\n",
    "        plt.figure()\n",
    "        plt.subplot(311)\n",
    "        plt.imshow(img,**plot_args)\n",
    "        plt.subplot(312)\n",
    "        plt.imshow(np.abs(nft))\n",
    "        plt.subplot(313)\n",
    "        plt.imshow(iFFT(nft))    \n",
    "    elif plot==\"h\":\n",
    "        plt.figure()\n",
    "        plt.subplot(131)\n",
    "        plt.imshow(img, **plot_args)\n",
    "        plt.subplot(132)\n",
    "        plt.imshow(np.abs(nft))\n",
    "        plt.subplot(133)\n",
    "        plt.imshow(iFFT(nft))\n",
    "    x = img.flatten()\n",
    "    y = iFFT(nft).flatten()\n",
    "\n",
    "    # all of these three lie in -1 to 1\n",
    "    if corr == \"Pearson\":\n",
    "        conf = scipy.stats.pearsonr(x, y)[0]\n",
    "    elif corr == \"Spearman\":\n",
    "        conf = scipy.stats.spearmanr(x, y).statistic\n",
    "    elif corr == \"Kendall\":\n",
    "        conf = scipy.stats.kendalltau(x, y).statistic\n",
    "    degree = np.arctan((dy-sn//2)/(dx-sn//2+0.001))\n",
    "    if degree <= 0:\n",
    "        degree +=np.pi\n",
    "    dist = kernel_size/np.sqrt((dy-sn//2)**2+(dx-sn//2)**2)\n",
    "    degree = degree/np.pi*180\n",
    "    return([conf, degree, dist])\n",
    "\n",
    "\n",
    "\n",
    "\n",
    "\n",
    "rendered = cv2.imread(\"../data/rendered/Tcell/A1.png\")\n",
    "test =cv2.cvtColor(rendered, cv2.COLOR_BGR2GRAY)\n",
    "test1=test[1300:2300,1400:2200]\n",
    "\n",
    "# rendered = cv2.imread(\"/Users/suestring/Desktop/Lab/Code/Hongyun/data/rendered/NA2.png\")\n",
    "# test =cv2.cvtColor(rendered, cv2.COLOR_BGR2GRAY)\n",
    "# test1=test[1:1500,1:1500]\n",
    "\n",
    "#Default unit: nm\n",
    "pixel_size=16\n",
    "sx, sy=test1.shape\n",
    "l_ratios=[ (x*180/64/pixel_size) for x in [4,5]]\n",
    "spectrin_range=np.array([200, 140])  \n",
    "kernel_size = 64\n",
    "rrange=(kernel_size*pixel_size/spectrin_range).astype(int)\n",
    "rrange[1]+=1\n",
    "\n",
    "for ratio in l_ratios:\n",
    "    t_test = cv2.resize(test1, (int(sy/ratio), int(sx/ratio)))\n",
    "    t_pixel = pixel_size*ratio\n",
    "    rrange=(kernel_size*t_pixel/spectrin_range).astype(int)\n",
    "    rrange[1]+=1\n",
    "    corr=\"Pearson\"\n",
    "    for ntype in range(4):\n",
    "        c, o, d = FFTfilter(t_test, rrange, kernel_size=64, threshold=0.2, sparse=100000, steps=8, method=\"bin\", type=ntype)\n",
    "        plt.figure()\n",
    "        a=sumMat(t_test,c,steps=8, method=\"gaussian\")\n",
    "        plt.imshow(cv2.merge([t_test,(255*a/np.max(a,axis=None)).astype(np.uint8),t_test]))\n"
   ]
  },
  {
   "cell_type": "code",
   "execution_count": null,
   "metadata": {},
   "outputs": [],
   "source": [
    "rendered = cv2.imread(\"/Users/suestring/Desktop/Lab/Code/Hongyun/data/rendered/A1.png\")\n",
    "test =cv2.cvtColor(rendered, cv2.COLOR_BGR2GRAY)\n",
    "test1=test[1300:2300,1400:2200]\n",
    "\n",
    "space=[5,8]\n",
    "\n",
    "plt.figure()\n",
    "plt.imshow(test1)\n",
    "xylist=[[430, 290],[600,400],[570,390]]\n",
    "for x, y in xylist:\n",
    "    plt.gca().add_patch(Rectangle((y,x),64,64,linewidth=1,edgecolor='r',facecolor='none'))\n",
    "\n",
    "for x, y in xylist:\n",
    "    test2=test1[x:x+64, y:y+64]\n",
    "    plt.figure()\n",
    "    plt.imshow(test2)\n",
    "    space=[5,8]\n",
    "    corr=\"Pearson\"\n",
    "    print(fft_filter(test2, space, plot=\"h\"))\n",
    "\n",
    "\n",
    "c1,o1,d1 =FFTfilter(test1, space, kernel_size=64, threshold=0, sparse=200000, steps=8)\n",
    "\n",
    "\n",
    "sx, sy=test1.shape\n",
    "nc=np.array(Image.fromarray(c1).resize([sy, sx]))\n",
    "plt.figure(figsize=[10,5])\n",
    "plt.subplot(121)\n",
    "plt.imshow(test1)\n",
    "\n",
    "plt.subplot(122)\n",
    "plt.imshow(test1)\n",
    "plt.imshow(nc, vmin=0.1, vmax=0.7, alpha=0.3,cmap=\"hsv\")"
   ]
  },
  {
   "cell_type": "code",
   "execution_count": null,
   "metadata": {},
   "outputs": [],
   "source": [
    "n_size=test.shape\n",
    "print(test.shape)\n",
    "print(c1.shape)\n",
    "nc=np.array(Image.fromarray(c1).resize([1316,928]))\n",
    "plt.imshow(nc)"
   ]
  },
  {
   "cell_type": "code",
   "execution_count": null,
   "metadata": {},
   "outputs": [],
   "source": [
    "test.shape"
   ]
  },
  {
   "cell_type": "markdown",
   "metadata": {},
   "source": [
    "## Simulate complex pattern"
   ]
  },
  {
   "cell_type": "code",
   "execution_count": null,
   "metadata": {},
   "outputs": [],
   "source": [
    "cn=5\n",
    "sim_complex = np.zeros([cn*64,cn*64])\n",
    "space = 9\n",
    "for i in range(cn):\n",
    "    for j in range(cn):\n",
    "        theta=np.random.randint(0,180)\n",
    "        k = np.random.randint(3)\n",
    "        #theta = 90\n",
    "        #k = 1\n",
    "        if k == 0:    #random\n",
    "            simTmp = simRand(space=13)\n",
    "        elif k == 1:\n",
    "            simTmp = sim1D()\n",
    "        elif k == 2:\n",
    "            simTmp = sim2D(space=11)\n",
    "        elif k == 3:\n",
    "            simTmp = sim2DC(space=11)    \n",
    "        sim_tmp=genPic(np.zeros([128,128]), simTmp, 9, theta, rand=2, randz=5)\n",
    "        sim_complex[i*64:(i+1)*64, j*64:(j+1)*64] = sim_tmp[32:96,32:96]\n",
    "\n",
    "\n",
    "plt.imshow(sim_complex)\n",
    "\n",
    "space = [6,10]\n",
    "c, o, d =FFTfilter(sim_complex, space, kernel_size=64, threshold=0, sparse=0, steps=8,plot=1)"
   ]
  },
  {
   "cell_type": "code",
   "execution_count": null,
   "metadata": {},
   "outputs": [],
   "source": [
    "p_size = 16\n",
    "thre = 190/p_size\n",
    "nx = ny = 10\n",
    "space=8\n",
    "for shift in [0,3,5]:\n",
    "    points=[]\n",
    "    for py in range(1, 128, int(thre)):\n",
    "        for px in range(1+py//int(thre)*shift, 128, space):\n",
    "            points.append([px,py])\n",
    "    \n",
    "    for theta in [0,17,129]:\n",
    "        sim_1D = genPic(np.zeros([128,128]), points, z, theta, rand=2)\n",
    "        ft=FFTplot(sim_1D[32:96,32:96], plot=0)\n",
    "        _=mainFFT(ft,3)\n",
    "        #plt.figure()\n",
    "        #plot_max3_r(ft,20)"
   ]
  },
  {
   "cell_type": "markdown",
   "metadata": {},
   "source": [
    "### Reconstruct 2D and 2DC"
   ]
  },
  {
   "cell_type": "code",
   "execution_count": null,
   "metadata": {},
   "outputs": [],
   "source": [
    "def add6(ft, real, imag, x, trans=0):\n",
    "    h = int(x*np.sqrt(3))\n",
    "    x = int(x)\n",
    "    ft[32+x,32+h]=-real-imag*1j\n",
    "    ft[32-x,32-h]=-real+imag*1j\n",
    "    ft[32+2*x,32]=-real+imag*1j\n",
    "    ft[32+x,32-h]=-real-imag*1j\n",
    "    ft[32-2*x,32]=-real-imag*1j\n",
    "    ft[32-x,32+h]=-real+imag*1j\n",
    "    if trans==1:\n",
    "        ft=ft.T\n",
    "    return(ft)\n",
    "\n",
    "x = 6\n",
    "t1=add6(np.zeros([64,64],dtype=complex), -2, 0, x)\n",
    "t2=add6(np.zeros([64,64],dtype=complex), -1.4, 0, x//2)\n",
    "t3=add6(np.zeros([64,64],dtype=complex), -1.4, 0, x*np.sqrt(3)/2, trans=1)\n",
    "_=iFFTplot(t1, angle=\"h\", xylen=20, cmap=\"PuOr\")\n",
    "_=iFFTplot(t2, angle=\"h\", xylen=20, cmap=\"PuOr\")\n",
    "_=iFFTplot(t3, angle=\"h\", xylen=20, cmap=\"PuOr\")\n",
    "_=iFFTplot(t1-t2, angle=\"h\", xylen=20, cmap=\"PuOr\")\n",
    "_=iFFTplot(t1-t2-t3, angle=\"h\", xylen=20, cmap=\"PuOr\")"
   ]
  },
  {
   "cell_type": "code",
   "execution_count": null,
   "metadata": {},
   "outputs": [],
   "source": [
    "# fil = np.array([[  0, 1, 1, 1, 0],                        #这个是设置的滤波，也就是卷积核\n",
    "#                 [  1, 2, 2, 2, 1],\n",
    "#                 [  1, 2, 3, 2, 1],\n",
    "#                 [  1, 2, 2, 2, 1],\n",
    "#                 [  0, 1, 1, 1, 0]])\n",
    "\n",
    "fil = np.array([[  0, 1, 0],                        #这个是设置的滤波，也就是卷积核\n",
    "               [  1, 0, 1],\n",
    "               [  0, 1, 0]])\n",
    "\n",
    "t1=add6(np.zeros([64,64],dtype=complex), -2, 0, x)\n",
    "_=iFFTplot(t1, angle=\"h\", xylen=20, cmap=\"PuOr\")  \n",
    "res = cv2.filter2D(np.abs(t1),-1,fil)    \n",
    "_=iFFTplot(res, angle=\"h\", xylen=20, cmap=\"PuOr\")\n",
    "t1=np.zeros([64,64],dtype=complex)\n",
    "t1[30,34]=1\n",
    "res = cv2.filter2D(np.abs(t1),-1,fil)  \n",
    "_=iFFTplot(t1, angle=\"h\", xylen=20, cmap=\"PuOr\")  \n",
    "_=iFFTplot(res, angle=\"h\", xylen=20, cmap=\"PuOr\")\n",
    "\n"
   ]
  },
  {
   "cell_type": "code",
   "execution_count": null,
   "metadata": {},
   "outputs": [],
   "source": [
    "\n",
    "t1=np.zeros([64,64],dtype=complex)\n",
    "# for i in [1,5,20]:\n",
    "#     t1[31,35]=1+i*j\n",
    "#     plt.figure()\n",
    "ft=FFTplot(test2, plot=0)\n",
    "plt.subplot(131)\n",
    "plt.imshow(np.abs(ft))\n",
    "plt.subplot(132)\n",
    "plt.imshow(np.real(ft))\n",
    "plt.subplot(133)\n",
    "plt.imshow(np.imag(ft))\n",
    "\n",
    "plt.figure()\n",
    "plt.subplot(131)\n",
    "plt.imshow(abs(iFFT(np.abs(ft))))\n",
    "plt.subplot(132)\n",
    "plt.imshow(abs(iFFT(np.real(ft))))\n",
    "plt.subplot(133)\n",
    "plt.imshow(abs(iFFT(np.imag(ft))))\n",
    "\n",
    "plt.figure()\n",
    "plt.subplot(131)\n",
    "plt.imshow(abs(iFFT(ft)))\n",
    "plt.subplot(132)\n",
    "plt.imshow(np.real(iFFT(ft)))\n",
    "plt.subplot(133)\n",
    "plt.imshow(abs(iFFT(np.imag(ft))))"
   ]
  },
  {
   "cell_type": "code",
   "execution_count": null,
   "metadata": {},
   "outputs": [],
   "source": []
  },
  {
   "cell_type": "code",
   "execution_count": null,
   "metadata": {},
   "outputs": [],
   "source": [
    "for i in range(8):\n",
    "    test=cv2.imread(test_1d[i])\n",
    "    test =cv2.cvtColor(test, cv2.COLOR_BGR2GRAY)\n",
    "    plt.figure()\n",
    "    plt.subplot(131)\n",
    "    plt.imshow(test)\n",
    "    plt.subplot(132)\n",
    "    plt.imshow(signal.fftconvolve(test,np.flip(test), mode = 'same'))\n",
    "    plt.subplot(133)\n",
    "    plt.imshow(signal.fftconvolve(test,test, mode = 'same'))"
   ]
  },
  {
   "cell_type": "code",
   "execution_count": null,
   "metadata": {},
   "outputs": [],
   "source": [
    "plt.subplot(131)\n",
    "plt.imshow(test)\n",
    "plt.subplot(132)\n",
    "plt.imshow(signal.correlate2d(test,np.flip(test), mode = 'same'))\n",
    "plt.subplot(133)\n",
    "plt.imshow(signal.fftconvolve(test,np.flip(test), mode = 'same'))"
   ]
  },
  {
   "cell_type": "code",
   "execution_count": null,
   "metadata": {},
   "outputs": [],
   "source": [
    "test=cv2.imread(test_1d[7])\n",
    "test =cv2.cvtColor(test, cv2.COLOR_BGR2GRAY)\n",
    "a=signal.fftconvolve(test,np.flip(test), mode = 'same')\n",
    "local=7\n",
    "tmp = 255* a.astype(np.float64) / a.max()\n",
    "a = tmp.astype(np.uint8)\n",
    "ret1, th1 = cv2.threshold(a, 0, 255, cv2.THRESH_BINARY+cv2.THRESH_OTSU)\n",
    "th2 = cv2.adaptiveThreshold(a, 255, cv2.ADAPTIVE_THRESH_GAUSSIAN_C, cv2.THRESH_BINARY, local, 0)\n",
    "th3=th1&th2\n",
    "\n",
    "plt.subplot(131)\n",
    "plt.imshow(test)\n",
    "plt.subplot(132)\n",
    "plt.imshow(a)\n",
    "plt.subplot(133)\n",
    "plt.imshow(th2)"
   ]
  },
  {
   "cell_type": "code",
   "execution_count": null,
   "metadata": {},
   "outputs": [],
   "source": [
    "print(fft_filter(test, [5,7], plot=\"h\"))\n",
    "print(fft_filter(a, [5,7], plot=\"h\"))\n",
    "print(fft_filter(th2, [5,7], plot=\"h\"))\n",
    "#def fft_filter(img, rrange, max=6, plot=0, kernel_size=64, corr=\"Pearson\", method=\"fft\", **plot_args):\n"
   ]
  },
  {
   "cell_type": "code",
   "execution_count": null,
   "metadata": {},
   "outputs": [],
   "source": [
    "print(fft_filter(test, [5,7], plot=\"h\", method=\"rb_auto\"))\n"
   ]
  },
  {
   "cell_type": "code",
   "execution_count": null,
   "metadata": {},
   "outputs": [],
   "source": [
    "\n",
    "print(fft_filter(test, [5,7], plot=\"h\", method=\"ostu\"))\n"
   ]
  },
  {
   "cell_type": "code",
   "execution_count": null,
   "metadata": {},
   "outputs": [],
   "source": [
    "for i in range(8):\n",
    "    test=cv2.imread(test_2d[i])\n",
    "    test =cv2.cvtColor(test, cv2.COLOR_BGR2GRAY)\n",
    "    plt.figure()\n",
    "    print(fft_filter(test, [5,7], plot=\"h\", method=\"ostu\"))\n"
   ]
  },
  {
   "cell_type": "code",
   "execution_count": null,
   "metadata": {},
   "outputs": [],
   "source": [
    "psize = 9\n",
    "theta = 56\n",
    "points=simRand()\n",
    "np.random.shuffle(points)  \n",
    "l=[[] for x in range(5)]\n",
    "methods = [\"fft\",\"auto\",\"bin\",\"bin1\"]\n",
    "\n",
    "for i in range(20):\n",
    "    sim_Rand = genPic(np.zeros([128,128]), points[:i*19+20,:], psize, theta, rand=0, randz=1)\n",
    "    plt.figure()\n",
    "    plt.imshow(sim_Rand[32:96,32:96])\n",
    "    # for j in range(4):\n",
    "    #     method = methods[j]\n",
    "    #     l[j].append(fft_filter(sim_Rand[32:96,32:96], [5,7], vmin=-10, vmax=800, method=method)[0])"
   ]
  },
  {
   "cell_type": "code",
   "execution_count": null,
   "metadata": {},
   "outputs": [],
   "source": [
    "for i in range(4):\n",
    "    plt.plot(l[i])\n",
    "\n",
    "plt.legend(methods)"
   ]
  },
  {
   "cell_type": "code",
   "execution_count": null,
   "metadata": {},
   "outputs": [],
   "source": [
    "ft=FFT(sim_1D[32:96,32:96])\n",
    "sn,_ = ft.shape\n",
    "ft_sort=np.unravel_index(np.argsort(-abs(ft), axis=None),ft.shape)\n",
    "nft=np.zeros([kernel_size,kernel_size],dtype=complex) \n",
    "nft[ft_sort[0][1:2*(max+1)],ft_sort[1][1:2*(max+1)]]=ft[ft_sort[0][1:2*(max+1)],ft_sort[1][1:2*(max+1)]]\n",
    "tmp = np.abs(nft)*unit_circle(sn//2, rrange) \n",
    "dx, dy = np.unravel_index(tmp.argmax(), tmp.shape)\n",
    "nft=np.zeros([kernel_size,kernel_size],dtype=complex) \n",
    "nft[dx, dy]=ft[dx, dy]\n",
    "nft[kernel_size-dx, kernel_size-dy]=ft[dx, dy]\n",
    "iFFTplot(nft)"
   ]
  },
  {
   "cell_type": "code",
   "execution_count": null,
   "metadata": {},
   "outputs": [],
   "source": [
    "psize = 9\n",
    "theta = 56\n",
    "for x in range(10):\n",
    "    points=simRand()\n",
    "    np.random.shuffle(points)  \n",
    "    l_r = []\n",
    "    for i in range(20):\n",
    "        sim_Rand = genPic(np.zeros([128,128]), points[:i*19+20,:] , psize, theta, rand=0, randz=2)\n",
    "        l_r.append(scipy.stats.pearsonr(iFFT(nft).flatten(), sim_Rand[32:96,32:96].flatten())[0])\n",
    "    plt.plot(l_r)\n",
    "plt.plot(l_1[1:])"
   ]
  },
  {
   "cell_type": "code",
   "execution_count": null,
   "metadata": {},
   "outputs": [],
   "source": [
    "455/19"
   ]
  },
  {
   "cell_type": "code",
   "execution_count": null,
   "metadata": {},
   "outputs": [],
   "source": [
    "points.shape"
   ]
  },
  {
   "cell_type": "code",
   "execution_count": null,
   "metadata": {},
   "outputs": [],
   "source": [
    "np.vstack((points,np.random.randint(32, 96,[nRand,2])))"
   ]
  }
 ],
 "metadata": {
  "kernelspec": {
   "display_name": "Python 3 (ipykernel)",
   "language": "python",
   "name": "python3"
  },
  "language_info": {
   "codemirror_mode": {
    "name": "ipython",
    "version": 3
   },
   "file_extension": ".py",
   "mimetype": "text/x-python",
   "name": "python",
   "nbconvert_exporter": "python",
   "pygments_lexer": "ipython3",
   "version": "3.12.3"
  }
 },
 "nbformat": 4,
 "nbformat_minor": 2
}
