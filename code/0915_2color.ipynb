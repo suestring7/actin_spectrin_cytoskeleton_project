{
 "cells": [
  {
   "cell_type": "code",
   "execution_count": 1,
   "metadata": {},
   "outputs": [],
   "source": [
    "from utils import *"
   ]
  },
  {
   "cell_type": "code",
   "execution_count": null,
   "metadata": {},
   "outputs": [],
   "source": [
    "plt.figure(figsize=[10,10])\n",
    "\n",
    "plt.imshow(em)\n",
    "plt.plot(\n",
    "    vxs_dc[:,0],\n",
    "    vxs_dc[:,1],\n",
    "    \".\",\n",
    "    markerfacecolor=\"purple\",\n",
    "    markersize=10,\n",
    "    )\n",
    "ax = plt.gca()\n",
    "for vx_dc in vxs_dc:\n",
    "    size=30\n",
    "    circle = plt.Circle((vx_dc[0], vx_dc[1]), size, color=\"r\", fill=False)\n",
    "    ax.add_artist(circle)"
   ]
  }
 ],
 "metadata": {
  "kernelspec": {
   "display_name": "jupyter",
   "language": "python",
   "name": "python3"
  },
  "language_info": {
   "codemirror_mode": {
    "name": "ipython",
    "version": 3
   },
   "file_extension": ".py",
   "mimetype": "text/x-python",
   "name": "python",
   "nbconvert_exporter": "python",
   "pygments_lexer": "ipython3",
   "version": "3.12.3"
  }
 },
 "nbformat": 4,
 "nbformat_minor": 2
}
