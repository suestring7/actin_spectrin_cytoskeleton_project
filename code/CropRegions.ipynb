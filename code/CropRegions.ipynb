{
 "cells": [
  {
   "cell_type": "code",
   "execution_count": 2,
   "metadata": {},
   "outputs": [],
   "source": [
    "from utils import *"
   ]
  },
  {
   "cell_type": "code",
   "execution_count": 2,
   "metadata": {},
   "outputs": [],
   "source": [
    "def saveNCrop(img_path, xys, grid_size=64, ratio=10, offset=5):\n",
    "    # offset between img and loc\n",
    "    # img = cv2.imread(img_path)\n",
    "    loc = img_path[:-3] + \"txt\"\n",
    "    smlm = pd.read_table(loc, header=0)\n",
    "    # xyz = smlm[[\"Xc\",\"Yc\",\"Zc\"]]\n",
    "    for xy in xys:\n",
    "        cropped = smlm.loc[\n",
    "            (xy[1] / (ratio + offset) <= smlm[\"Xc\"])\n",
    "            & (smlm[\"Xc\"] <= ((xy[1] + grid_size + offset)) / ratio)\n",
    "            & (xy[0] / (ratio + offset) <= smlm[\"Yc\"])\n",
    "            & (smlm[\"Yc\"] <= (xy[0] + grid_size + offset) / ratio)\n",
    "        ]\n",
    "        cropped.loc[:, \"Xc\"] = cropped[\"Xc\"] * ratio - xy[1] - offset\n",
    "        cropped.loc[:, \"Yc\"] = cropped[\"Yc\"] * ratio - xy[0] - offset\n",
    "        sub_path = (\n",
    "            \"/\".join(img_path.split(\"/\")[:-1])\n",
    "            + \"/sub_\"\n",
    "            + img_path.split(\"/\")[-1][:-4]\n",
    "            + \"_x\"\n",
    "            + str(xy[1])\n",
    "            + \"_y\"\n",
    "            + str(xy[0])\n",
    "            + \"_grid\"\n",
    "            + str(grid_size)\n",
    "        )\n",
    "        #cropped.to_csv(sub_path + \".txt\", index=False)\n",
    "        xc = np.array(cropped[\"Xc\"].tolist()).astype(np.int32)\n",
    "        yc = np.array(cropped[\"Yc\"].tolist()).astype(np.int32)\n",
    "        img = grid2D(\n",
    "            np.zeros([grid_size, grid_size], dtype=np.int32),\n",
    "            xc,\n",
    "            yc,\n",
    "            grid_size,\n",
    "            grid_size,\n",
    "            len(xc),\n",
    "        )\n",
    "        np.save(sub_path,img)\n",
    "        g = cv2.getGaussianKernel(3, sigma=1)\n",
    "        kernel = g * g.T\n",
    "        nimg = scipy.signal.fftconvolve(img, kernel, mode=\"same\")\n",
    "        plt.imshow(nimg.T)\n",
    "        plt.xticks([], [])\n",
    "        plt.yticks([], [])\n",
    "        plt.savefig(\n",
    "            sub_path + \".png\",\n",
    "            facecolor=None,\n",
    "            edgecolor=None,\n",
    "            bbox_inches=\"tight\",\n",
    "            pad_inches=0.0,\n",
    "        )\n",
    "        plt.close('all')"
   ]
  },
  {
   "cell_type": "code",
   "execution_count": 33,
   "metadata": {},
   "outputs": [],
   "source": [
    "test_boran=glob.glob(\"../data/rendered/soma/Boran/*.txt\")\n",
    "for i in test_boran[0:1]:\n",
    "    smlm = pd.read_table(i, header=0)\n",
    "    "
   ]
  },
  {
   "cell_type": "code",
   "execution_count": 14,
   "metadata": {},
   "outputs": [],
   "source": [
    "# img_path=\"../data/rendered/soma/0227_11.png\"\n",
    "# x0, y0, sx, sy=1050, 900, 700, 800\n",
    "\n",
    "# img_path=\"../data/rendered/soma/0227_20.png\"\n",
    "# x0, y0, sx, sy=900, 700, 950, 950\n",
    "\n",
    "# img_path=\"../data/rendered/soma/0227_21.png\"\n",
    "# x0, y0, sx, sy=800, 500, 1000, 1300\n",
    "\n",
    "# img_path=\"../data/rendered/soma/1226_2.png\"\n",
    "# x0, y0, sx, sy=500, 500, 1000, 1300\n",
    "\n",
    "# for pi in [\"A1\",\"A2\",\"A3\",\"A5\",\"A6\",\"A7\",\"NA1\",\"NA2\",\"NA5\"]:\n",
    "#     img_path=\"../data/rendered/Tcell/\"+pi+\".png\"\n",
    "\n",
    "\n",
    "    x0, y0, sx, sy=0, 0, 2560, 2560\n",
    "\n",
    "    pad=100\n",
    "    grid_size = 64\n",
    "\n",
    "    img = cv2.imread(img_path)\n",
    "    plt.figure(figsize=[20,20])\n",
    "    plt.imshow(img[x0:x0+sx,y0:y0+sy])\n",
    "    xys=[]\n",
    "    for i in range(pad,sx-pad,64):\n",
    "        for j in range(pad,sy-pad,64):\n",
    "            x = i\n",
    "            y = j\n",
    "            if np.sum(img[x0+x:x0+64+x,y0+y:y0+y+64]) > 100000:\n",
    "                xys.append([x0+x, y0+y])\n",
    "                plt.gca().add_patch(Rectangle((y,x),64,64,linewidth=3,edgecolor=\"red\",facecolor='none'))\n",
    "            \n",
    "\n",
    "    saveNCrop(img_path, xys)"
   ]
  },
  {
   "cell_type": "code",
   "execution_count": 29,
   "metadata": {},
   "outputs": [],
   "source": [
    "def txt2npy(loc_file):\n",
    "    smlm = pd.read_csv(loc_file, header=0)\n",
    "    xc = np.array(smlm[\"Xc\"].tolist()).astype(np.int32)\n",
    "    yc = np.array(smlm[\"Yc\"].tolist()).astype(np.int32)\n",
    "    img = grid2D(\n",
    "        np.zeros([grid_size, grid_size], dtype=np.int32),\n",
    "        xc,\n",
    "        yc,\n",
    "        grid_size,\n",
    "        grid_size,\n",
    "        len(xc),\n",
    "    )\n",
    "    npy_path =  loc_file[:-4]+\".npy\"\n",
    "    np.save(npy_path,img)\n"
   ]
  },
  {
   "cell_type": "code",
   "execution_count": 32,
   "metadata": {},
   "outputs": [],
   "source": [
    "test_rand=glob.glob(\"../data/rendered/soma/Rand/*.txt\")\n",
    "test_1d=glob.glob(\"../data/rendered/soma/1D/*.txt\")\n",
    "test_2d=glob.glob(\"../data/rendered/soma/2D/*.txt\")\n",
    "for i in test_2d:\n",
    "    txt2npy(i)"
   ]
  },
  {
   "cell_type": "code",
   "execution_count": null,
   "metadata": {},
   "outputs": [],
   "source": [
    "smlm = pd.read_csv(sub_path+'.txt', header=0)\n",
    "xc=np.array(smlm[\"Xc\"].tolist()).astype(np.int32)\n",
    "yc=np.array(smlm[\"Yc\"].tolist()).astype(np.int32)\n",
    "img = grid2D(np.zeros([grid_size,grid_size], dtype=np.int32),xc,yc,grid_size,grid_size,len(xc))\n",
    "g = cv2.getGaussianKernel(3, sigma=1)\n",
    "kernel = g*g.T\n",
    "nimg = scipy.signal.fftconvolve(img, kernel, mode='same')\n",
    "plt.imshow(nimg)"
   ]
  },
  {
   "cell_type": "code",
   "execution_count": null,
   "metadata": {},
   "outputs": [],
   "source": [
    "img_path=\"../data/rendered/soma/0227_9.png\"\n",
    "img = cv2.imread(img_path)\n",
    "plt.figure(figsize=[20,20])\n",
    "plt.imshow(img[800+64*3:1600,800+64*3:1600])\n",
    "for i in range(50,400,64):\n",
    "    for j in range(60,500,64):\n",
    "        x = i\n",
    "        y = j\n",
    "        xy = [800+x+64*3, 800+64*3+y]\n",
    "        plt.gca().add_patch(Rectangle((y,x),64,64,linewidth=3,edgecolor=\"red\",facecolor='none'))\n",
    "        #plt.figure()\n",
    "        grid_size = 64\n",
    "        #a,b=saveCrop(img_path, xy)\n",
    "        #plt.imshow(img[xy[0]:xy[0]+grid_size,xy[1]:xy[1]+grid_size])"
   ]
  },
  {
   "cell_type": "code",
   "execution_count": null,
   "metadata": {},
   "outputs": [],
   "source": [
    "img_path=\"../data/rendered/soma/1226_5.png\"\n",
    "img = cv2.imread(img_path)\n",
    "plt.figure(figsize=[20,20])\n",
    "plt.imshow(img[800:1400,1100:1700])\n",
    "for i in range(30,500,64):\n",
    "    for j in range(0,560,64):\n",
    "        x = i\n",
    "        y = j\n",
    "        xy = [800+x, 1100+y]\n",
    "        #plt.gca().add_patch(Rectangle((y,x),64,64,linewidth=3,edgecolor=\"red\",facecolor='none'))\n",
    "        #plt.figure()\n",
    "        grid_size = 64\n",
    "        a,b=saveCrop(img_path, xy)\n",
    "        #plt.imshow(img[xy[0]:xy[0]+grid_size,xy[1]:xy[1]+grid_size])"
   ]
  },
  {
   "cell_type": "code",
   "execution_count": null,
   "metadata": {},
   "outputs": [],
   "source": [
    "for i in range(2,7):\n",
    "    print(i)\n",
    "    g = cv2.getGaussianKernel(3, sigma=i/4)\n",
    "    kernel = g*g.T\n",
    "\n",
    "    img = scipy.signal.fftconvolve(img, kernel, mode='same')\n",
    "    plt.figure()\n",
    "    #plt.imshow(img)\n",
    "    vxs = lmax_loc(None,None,nimg,adapt=55,local=7,sm=3,plot=1)[1]"
   ]
  },
  {
   "cell_type": "code",
   "execution_count": null,
   "metadata": {},
   "outputs": [],
   "source": [
    "sub_path = \"sub_\"+img_path.split(\"/\")[-1][:-3]+\"_x\"+str(xy[1])+\"_y\"+str(xy[0])+\"_grid\"+str(grid_size)\n",
    "cropped.to_csv(sub_path, index=False)\n"
   ]
  }
 ],
 "metadata": {
  "kernelspec": {
   "display_name": "jupyter",
   "language": "python",
   "name": "python3"
  },
  "language_info": {
   "codemirror_mode": {
    "name": "ipython",
    "version": 3
   },
   "file_extension": ".py",
   "mimetype": "text/x-python",
   "name": "python",
   "nbconvert_exporter": "python",
   "pygments_lexer": "ipython3",
   "version": "3.12.3"
  }
 },
 "nbformat": 4,
 "nbformat_minor": 2
}
