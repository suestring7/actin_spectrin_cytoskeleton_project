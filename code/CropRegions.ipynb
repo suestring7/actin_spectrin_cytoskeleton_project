{
 "cells": [
  {
   "cell_type": "code",
   "execution_count": null,
   "metadata": {},
   "outputs": [],
   "source": [
    "import os, sys, re, cv2\n",
    "import matplotlib.pyplot as plt\n",
    "import pandas as pd\n",
    "import numpy as np\n",
    "import scipy\n",
    "from render2D import grid2D\n",
    "from scipy.ndimage import maximum_filter"
   ]
  },
  {
   "cell_type": "code",
   "execution_count": null,
   "metadata": {},
   "outputs": [],
   "source": [
    "def saveCrop(img_path, xy, grid_size=64, ratio=10, offset=5):\n",
    "    # offset between img and loc\n",
    "    #img = cv2.imread(img_path)\n",
    "    loc = img_path[:-3]+\"txt\"\n",
    "    smlm = pd.read_table(loc, header=0)\n",
    "    #xyz = smlm[[\"Xc\",\"Yc\",\"Zc\"]]\n",
    "    cropped = smlm.loc[ (xy[1]/(ratio+offset) <= smlm[\"Xc\"]) \n",
    "                   & (smlm[\"Xc\"] <= ((xy[1]+grid_size+offset))/ratio) \n",
    "                   & (xy[0]/(ratio+offset) <= smlm[\"Yc\"]) \n",
    "                   & (smlm[\"Yc\"] <= (xy[0]+grid_size+offset)/ratio)]\n",
    "    cropped.loc[:,\"Xc\"] = cropped[\"Xc\"]*ratio-xy[1]-offset\n",
    "    cropped.loc[:,\"Yc\"] = cropped[\"Yc\"]*ratio-xy[0]-offset\n",
    "    sub_path = \"/\".join(img_path.split(\"/\")[:-1])+\"/sub_\"+img_path.split(\"/\")[-1][:-4]+\"_x\"+str(xy[1])+\"_y\"+str(xy[0])+\"_grid\"+str(grid_size)\n",
    "    cropped.to_csv(sub_path+\".txt\", index=False)\n",
    "    xc=np.array(cropped[\"Xc\"].tolist()).astype(np.int32)\n",
    "    yc=np.array(cropped[\"Yc\"].tolist()).astype(np.int32)\n",
    "    img=grid2D(np.zeros([grid_size,grid_size], dtype=np.int32),xc,yc,grid_size,grid_size,len(xc))\n",
    "    g = cv2.getGaussianKernel(3, sigma=1)\n",
    "    kernel = g*g.T\n",
    "    nimg = scipy.signal.fftconvolve(img, kernel, mode='same')\n",
    "    plt.imshow(nimg.T)\n",
    "    plt.xticks([],[])\n",
    "    plt.yticks([],[])\n",
    "    plt.savefig(sub_path+\".png\", facecolor=None, edgecolor=None, bbox_inches='tight',pad_inches=0.0)\n",
    "    return sub_path, nimg.T"
   ]
  },
  {
   "cell_type": "code",
   "execution_count": null,
   "metadata": {},
   "outputs": [],
   "source": [
    "# smlm = pd.read_csv(sub_path+'.txt', header=0)\n",
    "# xc=np.array(smlm[\"Xc\"].tolist()).astype(np.int32)\n",
    "# yc=np.array(smlm[\"Yc\"].tolist()).astype(np.int32)\n",
    "# img = grid2D(np.zeros([grid_size,grid_size], dtype=np.int32),xc,yc,grid_size,grid_size,len(xc))\n",
    "g = cv2.getGaussianKernel(3, sigma=1)\n",
    "kernel = g*g.T\n",
    "nimg = scipy.signal.fftconvolve(b, kernel, mode='same')\n",
    "plt.imshow(nimg)"
   ]
  },
  {
   "cell_type": "code",
   "execution_count": null,
   "metadata": {},
   "outputs": [],
   "source": [
    "from matplotlib.patches import Rectangle\n",
    "img_path=\"../data/rendered/soma/0227_9.png\"\n",
    "img = cv2.imread(img_path)\n",
    "plt.figure(figsize=[20,20])\n",
    "plt.imshow(img[800+64*3:1600,800+64*3:1600])\n",
    "for i in range(50,400,64):\n",
    "    for j in range(60,500,64):\n",
    "        x = i\n",
    "        y = j\n",
    "        xy = [800+x+64*3, 800+64*3+y]\n",
    "        plt.gca().add_patch(Rectangle((y,x),64,64,linewidth=3,edgecolor=\"red\",facecolor='none'))\n",
    "        #plt.figure()\n",
    "        grid_size = 64\n",
    "        #a,b=saveCrop(img_path, xy)\n",
    "        #plt.imshow(img[xy[0]:xy[0]+grid_size,xy[1]:xy[1]+grid_size])"
   ]
  },
  {
   "cell_type": "code",
   "execution_count": null,
   "metadata": {},
   "outputs": [],
   "source": [
    "x,y = 1170,1308\n",
    "plt.imshow(img[x:x+64,y:y+64])"
   ]
  },
  {
   "cell_type": "code",
   "execution_count": null,
   "metadata": {},
   "outputs": [],
   "source": [
    "from matplotlib.patches import Rectangle\n",
    "img_path=\"../data/rendered/soma/1226_5.png\"\n",
    "img = cv2.imread(img_path)\n",
    "plt.figure(figsize=[20,20])\n",
    "plt.imshow(img[800:1400,1100:1700])\n",
    "for i in range(30,500,64):\n",
    "    for j in range(0,560,64):\n",
    "        x = i\n",
    "        y = j\n",
    "        xy = [800+x, 1100+y]\n",
    "        #plt.gca().add_patch(Rectangle((y,x),64,64,linewidth=3,edgecolor=\"red\",facecolor='none'))\n",
    "        #plt.figure()\n",
    "        grid_size = 64\n",
    "        a,b=saveCrop(img_path, xy)\n",
    "        #plt.imshow(img[xy[0]:xy[0]+grid_size,xy[1]:xy[1]+grid_size])"
   ]
  },
  {
   "cell_type": "code",
   "execution_count": null,
   "metadata": {},
   "outputs": [],
   "source": [
    "def autocontrast(img, thre=5):\n",
    "    '''\n",
    "    img is a one-channel image\n",
    "    thre in 0-100\n",
    "    '''\n",
    "    up = np.percentile(img,100-thre)\n",
    "    low = np.percentile(img,thre)\n",
    "    #print(up, low)\n",
    "    img = 255*(img-low)/(up-low)\n",
    "    img[img>255]=255\n",
    "    img[img<0]=0\n",
    "    return img.astype(np.uint8)\n",
    "\n",
    "def lmax_loc(loc_file, regions, rimg, adapt=55, local=7, plot=0, verbose=0,sm=4):\n",
    "    if loc_file is not None:\n",
    "        smlm=pd.read_table(loc_file,header=0)\n",
    "        test=smlm[[\"Xc\",\"Yc\",\"Zc\"]]\n",
    "        img = np.zeros([regions[1]-regions[0], regions[3]-regions[2]],dtype=np.int32)\n",
    "\n",
    "        xc=test[\"Xc\"].tolist()\n",
    "        yc=test[\"Yc\"].tolist()\n",
    "        xc=np.array([ int(x*10-regions[0]) for x in xc]).astype(np.int32)-5\n",
    "        yc=np.array([ int(x*10-regions[2]) for x in yc]).astype(np.int32)-5\n",
    "        img=grid2D(img,xc,yc,regions[1]-regions[0], regions[3]-regions[2],len(xc))\n",
    "        img=np.array(img)\n",
    "    else:\n",
    "        if len(rimg.shape)==3:\n",
    "            img=cv2.cvtColor(rimg, cv2.COLOR_BGR2GRAY)\n",
    "        img=rimg.T\n",
    "    blur=autocontrast(img.T)\n",
    "    blur=cv2.blur(blur,(sm,sm))\n",
    "    #blur=fftconvolve(img.T,cv2.getStructuringElement(cv2.MORPH_ELLIPSE , (3,3)), mode='same')\n",
    "    #blur=(255*blur/np.max(blur)).astype(np.uint8)\n",
    "    th=cv2.adaptiveThreshold(blur, 255, cv2.ADAPTIVE_THRESH_GAUSSIAN_C, cv2.THRESH_BINARY, adapt, 0)\n",
    "    #th1=cv2.threshold(blur.astype(np.uint8), 0, 255, cv2.THRESH_BINARY+cv2.THRESH_OTSU)[1]\n",
    "    # filter out the small ones\n",
    "    kernel=np.ones([sm,sm])\n",
    "    th1=cv2.erode(th,kernel)\n",
    "    th2=cv2.dilate(th1,kernel)\n",
    "    lmax = blur*(blur == maximum_filter(blur, footprint=np.ones((local,local))))\n",
    "    #plt.figure(figsize=[20,20])\n",
    "    #plt.imshow(th)\n",
    "    #cell_mask = getCellMask(blur)\n",
    "    contours,_ = cv2.findContours(lmax.astype(np.uint8)&th2,cv2.RETR_EXTERNAL, cv2.CHAIN_APPROX_NONE)\n",
    "    contour_centers = np.zeros([len(contours),2])\n",
    "    for i in range(len(contours)):\n",
    "        contour_centers[i] = contours[i].reshape([-1,2]).mean(axis=0)\n",
    "\n",
    "    if plot==1:\n",
    "        #plt.figure(figsize=[20,20])\n",
    "        plt.imshow(rimg)\n",
    "        plt.plot(\n",
    "            contour_centers[:, 0],\n",
    "            contour_centers[:, 1],\n",
    "            \".\",\n",
    "            markerfacecolor=\"red\",\n",
    "            markersize=10,\n",
    "        )\n",
    "        \n",
    "    if verbose==1:\n",
    "        plt.figure()\n",
    "        plt.subplots(2,3)\n",
    "        i=0\n",
    "        for timg in [img.T, blur, th, th1, th2, lmax]:\n",
    "            i+=1\n",
    "            plt.subplot(2,3,i)\n",
    "            plt.imshow(timg)\n",
    "    return blur,contour_centers\n"
   ]
  },
  {
   "cell_type": "code",
   "execution_count": null,
   "metadata": {},
   "outputs": [],
   "source": [
    "for i in range(2,7):\n",
    "    print(i)\n",
    "    g = cv2.getGaussianKernel(3, sigma=i/4)\n",
    "    kernel = g*g.T\n",
    "\n",
    "    img = scipy.signal.fftconvolve(img, kernel, mode='same')\n",
    "    plt.figure()\n",
    "    #plt.imshow(img)\n",
    "    vxs = lmax_loc(None,None,nimg,adapt=55,local=7,sm=3,plot=1)[1]"
   ]
  },
  {
   "cell_type": "code",
   "execution_count": null,
   "metadata": {},
   "outputs": [],
   "source": [
    "sub_path = \"sub_\"+img_path.split(\"/\")[-1][:-3]+\"_x\"+str(xy[1])+\"_y\"+str(xy[0])+\"_grid\"+str(grid_size)\n",
    "cropped.to_csv(sub_path, index=False)\n"
   ]
  }
 ],
 "metadata": {
  "kernelspec": {
   "display_name": "jupyter",
   "language": "python",
   "name": "python3"
  },
  "language_info": {
   "codemirror_mode": {
    "name": "ipython",
    "version": 3
   },
   "file_extension": ".py",
   "mimetype": "text/x-python",
   "name": "python",
   "nbconvert_exporter": "python",
   "pygments_lexer": "ipython3",
   "version": "3.12.3"
  }
 },
 "nbformat": 4,
 "nbformat_minor": 2
}
