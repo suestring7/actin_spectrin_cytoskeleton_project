{
 "cells": [
  {
   "cell_type": "code",
   "execution_count": 1,
   "metadata": {},
   "outputs": [],
   "source": [
    "from utils import *"
   ]
  },
  {
   "cell_type": "code",
   "execution_count": 2,
   "metadata": {},
   "outputs": [],
   "source": [
    "def getTop3Angle(vxs, links):\n",
    "    n_vx = len(vxs)\n",
    "    angles = []\n",
    "    for i in range(n_vx):\n",
    "        tmp_angles = []\n",
    "        for j in range(n_vx):\n",
    "            if links[i][j]:\n",
    "                tmp_angles.append(angle_of_line(vxs[i], vxs[j]))\n",
    "                #tmp_angles.append((angle_of_line(vxs[i], vxs[j])+180)%180)\n",
    "        if tmp_angles:\n",
    "            angles.extend(tmp_angles)\n",
    "    return angles"
   ]
  },
  {
   "cell_type": "code",
   "execution_count": null,
   "metadata": {},
   "outputs": [],
   "source": [
    "def plotAngleHist(angles, bins=36, tmax=360):\n",
    "    # Fixing random state for reproducibility\n",
    "    counts = np.histogram(angles, bins=np.linspace(0, 360, bins + 1))[0]\n",
    "    radii = counts / np.sum(counts)\n",
    "\n",
    "    # Compute pie slices\n",
    "    theta = np.linspace(0.0, 2 * np.pi, bins, endpoint=False)\n",
    "    width = 2 * np.pi / bins\n",
    "    colors = plt.cm.viridis(radii / 10.0)\n",
    "\n",
    "    ax = plt.subplot(projection=\"polar\")\n",
    "    ticks = np.linspace(0, 2 * np.pi, int(bins / 2 + 1))\n",
    "    ax.set_xticks(ticks)\n",
    "    ax.bar(theta, radii, width=width, bottom=0.0, color=colors, alpha=0.5)\n",
    "    ax.set_thetamin(0)\n",
    "    ax.set_thetamax(tmax)\n",
    "    plt.show()\n",
    "\n",
    "test_1d=glob.glob(\"../data/rendered/soma/1D/*.npy\")\n",
    "for i in range(10):\n",
    "    vxs = readVXSfromMat(np.load(test_1d[i]))[0]\n",
    "    links = generateLinks(vxs * 16, thre=thre, plot=0)\n",
    "    angles = getTop3Angle(vxs, links)\n",
    "    #plt.subplot(2,5,i+1)\n",
    "    plotAngleHist(angles)"
   ]
  }
 ],
 "metadata": {
  "kernelspec": {
   "display_name": "jupyter",
   "language": "python",
   "name": "python3"
  },
  "language_info": {
   "codemirror_mode": {
    "name": "ipython",
    "version": 3
   },
   "file_extension": ".py",
   "mimetype": "text/x-python",
   "name": "python",
   "nbconvert_exporter": "python",
   "pygments_lexer": "ipython3",
   "version": "3.12.3"
  }
 },
 "nbformat": 4,
 "nbformat_minor": 2
}
