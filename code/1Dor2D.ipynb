{
 "cells": [
  {
   "cell_type": "code",
   "execution_count": null,
   "metadata": {},
   "outputs": [],
   "source": [
    "import os, sys, re, cv2\n",
    "import matplotlib.pyplot as plt\n",
    "import numpy as np\n",
    "import seaborn as sns\n",
    "import pandas as pd\n",
    "from sklearn.manifold import TSNE\n",
    "from sklearn import metrics\n",
    "from sklearn.cluster import DBSCAN, HDBSCAN"
   ]
  },
  {
   "cell_type": "code",
   "execution_count": null,
   "metadata": {},
   "outputs": [],
   "source": [
    "#X\n",
    "#Y\n",
    "smlm=pd.read_table(\"/Users/suestring/Desktop/Lab/Code/Hongyun/data/storm  b2-AF647_0004_list_corr.txt\",header=0)"
   ]
  },
  {
   "cell_type": "code",
   "execution_count": null,
   "metadata": {},
   "outputs": [],
   "source": [
    "smlm.head()"
   ]
  },
  {
   "cell_type": "markdown",
   "metadata": {},
   "source": []
  },
  {
   "cell_type": "code",
   "execution_count": null,
   "metadata": {},
   "outputs": [],
   "source": [
    "test = smlm[[\"Xc\",\"Yc\",\"Zc\"]]\n",
    "test.head()"
   ]
  },
  {
   "cell_type": "code",
   "execution_count": null,
   "metadata": {},
   "outputs": [],
   "source": [
    "Zscale=167  # convert from nm to pixels\n",
    "test[\"Zs\"]=test[\"Zc\"]/Zscale"
   ]
  },
  {
   "cell_type": "code",
   "execution_count": null,
   "metadata": {},
   "outputs": [],
   "source": [
    "plt.figure(figsize=(20,20))\n",
    "plt.scatter(test[\"Xc\"],test[\"Yc\"],marker=\".\")"
   ]
  },
  {
   "cell_type": "code",
   "execution_count": null,
   "metadata": {},
   "outputs": [],
   "source": [
    "x0, x1, y0, y1 = 50, 80, 60, 90\n",
    "test1=test[(test[\"Xc\"]>x0) & (test[\"Xc\"]< x1) & (test[\"Yc\"]> y0) & (test[\"Yc\"] < y1)]\n",
    "plt.figure(figsize=(20,20))\n",
    "plt.scatter(test1[\"Xc\"],test1[\"Yc\"],marker=\".\")"
   ]
  },
  {
   "cell_type": "code",
   "execution_count": null,
   "metadata": {},
   "outputs": [],
   "source": [
    "from sklearn import metrics\n",
    "from sklearn.cluster import DBSCAN, HDBSCAN"
   ]
  },
  {
   "cell_type": "code",
   "execution_count": null,
   "metadata": {},
   "outputs": [],
   "source": [
    "import sklearn\n",
    "sklearn.__version__\n"
   ]
  },
  {
   "cell_type": "code",
   "execution_count": null,
   "metadata": {},
   "outputs": [],
   "source": [
    "X=test1[[\"Xc\",\"Yc\"]].to_numpy()"
   ]
  },
  {
   "cell_type": "code",
   "execution_count": null,
   "metadata": {},
   "outputs": [],
   "source": [
    "x0, x1, y0, y1 = 60, 70, 80, 90\n",
    "test2=test[(test[\"Xc\"]>x0) & (test[\"Xc\"]< x1) & (test[\"Yc\"]> y0) & (test[\"Yc\"] < y1)]\n",
    "test2=test2[[\"Xc\",\"Yc\",\"Zs\"]]\n",
    "X=test2[[\"Xc\",\"Yc\"]].to_numpy()"
   ]
  },
  {
   "cell_type": "code",
   "execution_count": null,
   "metadata": {},
   "outputs": [],
   "source": [
    "plt.figure(figsize=(20,20))\n",
    "plt.scatter(test2[\"Xc\"],test2[\"Yc\"],marker=\".\")"
   ]
  },
  {
   "cell_type": "code",
   "execution_count": null,
   "metadata": {},
   "outputs": [],
   "source": [
    "db=HDBSCAN(min_cluster_size=10, max_cluster_size=100, min_samples=1, n_jobs=-1).fit(test2)\n",
    "labels=db.labels_\n",
    "n_clusters_ = len(set(labels)) - (1 if -1 in labels else 0)\n",
    "n_noise_ = list(labels).count(-1)\n",
    "\n",
    "print(\"Estimated number of clusters: %d\" % n_clusters_)\n",
    "print(\"Estimated number of noise points: %d\" % n_noise_)\n",
    "\n",
    "uniq_labels=set(labels)\n",
    "#core_samples_mask = np.zeros_like(labels, dtype=bool)\n",
    "#core_samples_mask[db.core_sample_indices_] = True\n",
    "plt.figure(figsize=(20,20))\n",
    "plt.scatter(test2[\"Xc\"],test2[\"Yc\"],marker=\".\")\n",
    "\n",
    "colors = [plt.cm.Spectral(each) for each in np.linspace(0, 1, len(uniq_labels))]\n",
    "for k, col in zip(uniq_labels, colors):\n",
    "    if k == -1:\n",
    "        # Black used for noise.\n",
    "        col = [0, 0, 0, 1]\n",
    "        class_member_mask = labels == k\n",
    "\n",
    "        xy = X[class_member_mask]\n",
    "        #xy_center=xy.mean(axis=0)\n",
    "        plt.plot(\n",
    "            xy[:, 0],\n",
    "            xy[:, 1],\n",
    "            \".\",\n",
    "            markerfacecolor=tuple(col),\n",
    "            markeredgecolor=\"k\",\n",
    "            markersize=10,\n",
    "        )\n",
    "        continue\n",
    "\n",
    "    class_member_mask = labels == k\n",
    "\n",
    "    xy = X[class_member_mask ]#& core_samples_mask]\n",
    "    xy_center=xy.mean(axis=0)\n",
    "    plt.plot(\n",
    "        xy[:, 0],\n",
    "        xy[:, 1],\n",
    "        \".\",\n",
    "        markerfacecolor=tuple(col),\n",
    "        markeredgecolor=\"k\",\n",
    "        markersize=20,\n",
    "    )\n",
    "    plt.plot(\n",
    "        xy_center[0],\n",
    "        xy_center[1],\n",
    "        \".\",\n",
    "        markerfacecolor=tuple(col),\n",
    "        markeredgecolor=\"k\",\n",
    "        markersize=50,\n",
    "    )\n",
    "\n",
    "    plt.text(\n",
    "        xy_center[0],\n",
    "        xy_center[1],\n",
    "        str(sum(class_member_mask)),\n",
    "        color = \"white\",\n",
    "        bbox=dict(\n",
    "            boxstyle=\"round\",\n",
    "            facecolor='black', \n",
    "            alpha=0.5\n",
    "        )\n",
    "    )\n",
    "\n",
    "    # xy = X[class_member_mask & ~core_samples_mask]\n",
    "    # plt.plot(\n",
    "    #     xy[:, 0],\n",
    "    #     xy[:, 1],\n",
    "    #     \".\",\n",
    "    #     markerfacecolor=tuple(col),\n",
    "    #     markeredgecolor=\"k\",\n",
    "    #     markersize=20,\n",
    "    # )\n",
    "\n",
    "plt.title(f\"Estimated number of clusters: {n_clusters_}\")\n",
    "plt.show()"
   ]
  },
  {
   "cell_type": "code",
   "execution_count": null,
   "metadata": {},
   "outputs": [],
   "source": [
    "xy"
   ]
  },
  {
   "cell_type": "code",
   "execution_count": null,
   "metadata": {},
   "outputs": [],
   "source": [
    "sum(class_member_mask)"
   ]
  },
  {
   "cell_type": "code",
   "execution_count": null,
   "metadata": {},
   "outputs": [],
   "source": [
    "len(class_member_mask)"
   ]
  },
  {
   "cell_type": "code",
   "execution_count": null,
   "metadata": {},
   "outputs": [],
   "source": [
    "x0, x1, y0, y1 = 50, 90, 50, 90\n",
    "test1=test[(test[\"Xc\"]>x0) & (test[\"Xc\"]< x1) & (test[\"Yc\"]> y0) & (test[\"Yc\"] < y1)]\n",
    "plt.figure(figsize=(20,20))\n",
    "#plt.scatter(test1[\"Xc\"],test1[\"Yc\"],marker=\".\")\n",
    "test1=test1[[\"Xc\",\"Yc\",\"Zs\"]]\n",
    "X=test1[[\"Xc\",\"Yc\"]].to_numpy()\n",
    "db=HDBSCAN(min_cluster_size=10, max_cluster_size=100, min_samples=1, n_jobs=-1).fit(test1)\n",
    "labels=db.labels_\n",
    "n_clusters_ = len(set(labels)) - (1 if -1 in labels else 0)\n",
    "n_noise_ = list(labels).count(-1)\n",
    "\n",
    "print(\"Estimated number of clusters: %d\" % n_clusters_)\n",
    "print(\"Estimated number of noise points: %d\" % n_noise_)\n",
    "\n",
    "uniq_labels=set(labels)\n",
    "#core_samples_mask = np.zeros_like(labels, dtype=bool)\n",
    "#core_samples_mask[db.core_sample_indices_] = True\n",
    "plt.figure(figsize=(20,20))\n",
    "plt.scatter(test1[\"Xc\"],test1[\"Yc\"],marker=\".\")\n",
    "\n",
    "colors = [plt.cm.Spectral(each) for each in np.linspace(0, 1, len(uniq_labels))]\n",
    "for k, col in zip(uniq_labels, colors):\n",
    "    if k == -1:\n",
    "        # Black used for noise.\n",
    "        col = [0, 0, 0, 1]\n",
    "        class_member_mask = labels == k\n",
    "\n",
    "        xy = X[class_member_mask]\n",
    "        #xy_center=xy.mean(axis=0)\n",
    "        plt.plot(\n",
    "            xy[:, 0],\n",
    "            xy[:, 1],\n",
    "            \".\",\n",
    "            markerfacecolor=tuple(col),\n",
    "            markeredgecolor=\"k\",\n",
    "            markersize=10,\n",
    "        )\n",
    "        continue\n",
    "\n",
    "    class_member_mask = labels == k\n",
    "\n",
    "    xy = X[class_member_mask ]#& core_samples_mask]\n",
    "    xy_center=xy.mean(axis=0)\n",
    "    plt.plot(\n",
    "        xy[:, 0],\n",
    "        xy[:, 1],\n",
    "        \".\",\n",
    "        markerfacecolor=tuple(col),\n",
    "        markeredgecolor=\"k\",\n",
    "        markersize=20,\n",
    "    )\n",
    "    plt.plot(\n",
    "        xy_center[0],\n",
    "        xy_center[1],\n",
    "        \".\",\n",
    "        markerfacecolor=tuple(col),\n",
    "        markeredgecolor=\"k\",\n",
    "        markersize=50,\n",
    "    )\n",
    "\n",
    "    plt.text(\n",
    "        xy_center[0],\n",
    "        xy_center[1],\n",
    "        str(sum(class_member_mask)),\n",
    "        color = \"white\",\n",
    "        bbox=dict(\n",
    "            boxstyle=\"round\",\n",
    "            facecolor='black', \n",
    "            alpha=0.5\n",
    "        )\n",
    "    )\n",
    "\n",
    "    # xy = X[class_member_mask & ~core_samples_mask]\n",
    "    # plt.plot(\n",
    "    #     xy[:, 0],\n",
    "    #     xy[:, 1],\n",
    "    #     \".\",\n",
    "    #     markerfacecolor=tuple(col),\n",
    "    #     markeredgecolor=\"k\",\n",
    "    #     markersize=20,\n",
    "    # )\n",
    "\n",
    "plt.title(f\"Estimated number of clusters: {n_clusters_}\")\n",
    "plt.show()"
   ]
  },
  {
   "cell_type": "code",
   "execution_count": null,
   "metadata": {},
   "outputs": [],
   "source": [
    "centers = np.zeros([len(uniq_labels)-1,2])\n",
    "for k, col in zip(uniq_labels, colors):\n",
    "    if k == -1:\n",
    "        continue\n",
    "    class_member_mask = labels == k\n",
    "    xy = X[class_member_mask]\n",
    "    xy_center=xy.mean(axis=0)\n",
    "    centers[k,:]=xy_center"
   ]
  },
  {
   "cell_type": "code",
   "execution_count": null,
   "metadata": {},
   "outputs": [],
   "source": [
    "plt.figure(figsize=(20,20))\n",
    "plt.plot(\n",
    "    centers[:,0],\n",
    "    centers[:,1],\n",
    "    \".\",\n",
    "    markerfacecolor=\"red\",\n",
    "    markeredgecolor=\"k\",\n",
    "    markersize=10,\n",
    ")\n",
    "#plt.scatter(test1[\"Xc\"],test1[\"Yc\"],marker=\".\")"
   ]
  },
  {
   "cell_type": "code",
   "execution_count": null,
   "metadata": {},
   "outputs": [],
   "source": [
    "centers"
   ]
  },
  {
   "cell_type": "code",
   "execution_count": null,
   "metadata": {},
   "outputs": [],
   "source": [
    "rendered = cv2.imread(\"/Users/suestring/Desktop/Lab/Code/Hongyun/data/rendered.png\")\n",
    "plt.figure(figsize=(10,10))\n",
    "plt.imshow(rendered)\n",
    "gray = cv2.cvtColor(rendered, cv2.COLOR_BGR2GRAY)\n",
    "blurred = cv2.GaussianBlur(gray, (5, 5), 0)\n",
    "thresh = cv2.threshold(blurred, 60, 255, cv2.THRESH_BINARY)[1]"
   ]
  },
  {
   "cell_type": "code",
   "execution_count": null,
   "metadata": {},
   "outputs": [],
   "source": [
    "\n",
    "\n",
    "local=7\n",
    "ret1, th1 = cv2.threshold(blurred, 0, 255, cv2.THRESH_BINARY+cv2.THRESH_OTSU)\n",
    "th2 = cv2.adaptiveThreshold(blurred, 255, cv2.ADAPTIVE_THRESH_GAUSSIAN_C, cv2.THRESH_BINARY, local, 0)\n",
    "th3 = cv2.adaptiveThreshold(blurred, 255, cv2.ADAPTIVE_THRESH_MEAN_C, cv2.THRESH_BINARY, local, 0)\n",
    "titles = ['raw','ostu','adapative gaussian threshold','adaptive mean threshold']\n",
    "images = [blurred, th1, th2, th1&th2]\n",
    "plt.subplots(2,2,figsize=(40,30))\n",
    "for i in range(4):\n",
    "    plt.subplot(2,2,i+1)\n",
    "    plt.imshow(images[i])\n",
    "    plt.title(titles[i])\n",
    "    plt.xticks([])\n",
    "    plt.yticks([])"
   ]
  },
  {
   "cell_type": "markdown",
   "metadata": {},
   "source": [
    "### Decide to use the gaussian threshold+ostu"
   ]
  },
  {
   "cell_type": "code",
   "execution_count": null,
   "metadata": {},
   "outputs": [],
   "source": [
    "th3=th1&th2\n",
    "k_size = 3\n",
    "iteration_number = 2\n",
    "fg_ratio = 0.5\n",
    "kernel = cv2.getStructuringElement(cv2.MORPH_ELLIPSE,(k_size,k_size))\n",
    "erosion1 = cv2.erode(th3,kernel,iterations = 1)\n",
    "erosion3 = cv2.erode(th3,kernel,iterations = 2)\n",
    "kernel = np.ones((k_size,k_size),np.uint8)\n",
    "erosion2 = cv2.erode(th3,kernel,iterations = 1)\n",
    "titles = ['segmented','openning','dilated','adaptive mean threshold']\n",
    "images = [th3, erosion1, erosion2, erosion3]\n",
    "plt.subplots(2,2,figsize=(40,30))\n",
    "for i in range(4):\n",
    "    plt.subplot(2,2,i+1)\n",
    "    plt.imshow(images[i])\n",
    "    plt.title(titles[i])\n",
    "    plt.xticks([])\n",
    "    plt.yticks([])"
   ]
  },
  {
   "cell_type": "markdown",
   "metadata": {},
   "source": [
    "### Decide to use erosion3"
   ]
  },
  {
   "cell_type": "code",
   "execution_count": null,
   "metadata": {},
   "outputs": [],
   "source": [
    "\n",
    "k_size = 3\n",
    "iter_num = 2\n",
    "fg_ratio = 0.5\n",
    "kernel = cv2.getStructuringElement(cv2.MORPH_ELLIPSE,(k_size,k_size))\n",
    "erosion3 = cv2.erode(th3,kernel,iterations = iter_num)\n",
    "contours,_ = cv2.findContours(erosion3,cv2.RETR_EXTERNAL, cv2.CHAIN_APPROX_NONE)\n",
    "contour_centers = np.zeros([len(contours),2])\n",
    "for i in range(len(contours)):\n",
    "    contour_centers[i] = contours[i].reshape([-1,2]).mean(axis=0)\n",
    "\n",
    "plt.figure(figsize=[20,20])\n",
    "plt.imshow(rendered)\n",
    "plt.plot(\n",
    "    contour_centers[:, 0],\n",
    "    contour_centers[:, 1],\n",
    "    \".\",\n",
    "    markerfacecolor=\"purple\",\n",
    "    markersize=10,\n",
    ")"
   ]
  },
  {
   "cell_type": "markdown",
   "metadata": {},
   "source": [
    "### Noticeable, some segmentations are not that good at separation two spots, we can work on this later #TODO"
   ]
  },
  {
   "cell_type": "code",
   "execution_count": null,
   "metadata": {},
   "outputs": [],
   "source": [
    "plt.figure(figsize=[20,15])\n",
    "plt.plot(\n",
    "    contour_centers[:, 0],\n",
    "    contour_centers[:, 1],\n",
    "    \".\",\n",
    "    markerfacecolor=tuple(col),\n",
    "    markersize=10,\n",
    ")"
   ]
  },
  {
   "cell_type": "code",
   "execution_count": null,
   "metadata": {},
   "outputs": [],
   "source": [
    "#for every point, find the ones that's within range of it, and summarize the degree"
   ]
  },
  {
   "cell_type": "code",
   "execution_count": null,
   "metadata": {},
   "outputs": [],
   "source": [
    "# SphericalVoronoi later,based on 3D situation #TODO\n",
    "from scipy.spatial import Voronoi, voronoi_plot_2d\n",
    "# we can try voronoi later\n",
    "vor = Voronoi(contour_centers)\n",
    "fig = plt.figure(figsize=[20,15])\n",
    "ax = fig.add_subplot(111)\n",
    "fig = voronoi_plot_2d(vor, ax=ax, show_vertices=False, line_colors='orange', line_width=2, line_alpha=0.6, point_size=2)\n",
    "plt.show()"
   ]
  },
  {
   "cell_type": "code",
   "execution_count": null,
   "metadata": {},
   "outputs": [],
   "source": [
    "#Triangular way to identify by degree and length #TODO\n",
    "from scipy.spatial import Delaunay\n",
    "points = contour_centers\n",
    "tri = Delaunay(points)\n",
    "fig = plt.figure(figsize=[20,15])\n",
    "ax = fig.add_subplot(111)\n",
    "plt.triplot(points[:,0], points[:,1], tri.simplices)\n",
    "plt.plot(points[:,0], points[:,1],'o')\n",
    "plt.show()"
   ]
  },
  {
   "cell_type": "code",
   "execution_count": null,
   "metadata": {},
   "outputs": [],
   "source": [
    "thre=30\n",
    "small_tri = [ x for x in tri.simplices if np.linalg.norm(points[x[0]]-points[x[1]])<= thre and np.linalg.norm(points[x[2]]-points[x[1]])<= thre and np.linalg.norm(points[x[0]]-points[x[2]])<= thre]\n",
    "\n",
    "fig = plt.figure(figsize=[20,15])\n",
    "ax = fig.add_subplot(111)\n",
    "plt.triplot(points[:,0], points[:,1], small_tri)\n",
    "plt.show()"
   ]
  },
  {
   "cell_type": "code",
   "execution_count": null,
   "metadata": {},
   "outputs": [],
   "source": [
    "x=tri.simplices[0]\n",
    "np.linalg.norm(points[x[0]] -points[x[1]])\n",
    "#points[x[1]]"
   ]
  },
  {
   "cell_type": "code",
   "execution_count": null,
   "metadata": {},
   "outputs": [],
   "source": [
    "dist = [[np.linalg.norm(i-j) for i in contour_centers] for j in contour_centers ]\n",
    "s_dist=np.argsort(dist,axis=1)\n",
    "k=7\n",
    "nearest_k = s_dist[:,:k]"
   ]
  },
  {
   "cell_type": "code",
   "execution_count": null,
   "metadata": {},
   "outputs": [],
   "source": [
    "import math\n",
    "\n",
    "def angle_of_line(xy0, xy1):\n",
    "    xy=xy1-xy0\n",
    "    return math.degrees(math.atan2(-xy[1], xy[0]))\n",
    "\n",
    "k=7\n",
    "m=5\n",
    "n_mol=len(contour_centers)\n",
    "c_class=np.zeros(n_mol)\n",
    "angles=np.zeros([n_mol,k-1])\n",
    "lengths=np.zeros([n_mol,k-1])\n",
    "for i in range(n_mol):\n",
    "    tmp_angles=[-200 for i in range(k)]\n",
    "    tmp_lengths=[0 for i in range(k)]\n",
    "    for j in range(k):\n",
    "        if i==nearest_k[i][j]:\n",
    "            continue\n",
    "        else:\n",
    "            tmp_angles[j]=angle_of_line(contour_centers[nearest_k[i][j]],contour_centers[i])\n",
    "            tmp_lengths[j]=dist[nearest_k[i][j]][i]\n",
    "    tmp_angles=np.sort(tmp_angles)\n",
    "    tmp = tmp_angles[2:k]-tmp_angles[1:k-1]\n",
    "    angles[i]=np.append(tmp,(360+tmp_angles[1]-tmp_angles[k-1])%360)\n",
    "    lengths[i]=np.sort(tmp_lengths)[1:]\n",
    "#    angles[i]=np.sort(tmp_angles)[1:m+1]\n",
    "    \n",
    "\n"
   ]
  },
  {
   "cell_type": "code",
   "execution_count": null,
   "metadata": {},
   "outputs": [],
   "source": [
    "#df=pd.DataFrame(angles)\n",
    "plt.hist(angles.flatten(), bins=50)\n"
   ]
  },
  {
   "cell_type": "code",
   "execution_count": null,
   "metadata": {},
   "outputs": [],
   "source": [
    "\n",
    "plt.hist(lengths.flatten(), bins=50)"
   ]
  },
  {
   "cell_type": "code",
   "execution_count": null,
   "metadata": {},
   "outputs": [],
   "source": [
    "#import umap\n",
    "#reducer=umap.UMAP()"
   ]
  },
  {
   "cell_type": "code",
   "execution_count": null,
   "metadata": {},
   "outputs": [],
   "source": [
    "# df=pd.DataFrame(angles)\n",
    "# X_embedded = TSNE(n_components=2).fit_transform(df)\n",
    "\n",
    "# df_subset = pd.DataFrame()\n",
    "# df_subset['tsne1'] = X_embedded[:,0]\n",
    "# df_subset['tsne2'] = X_embedded[:,1]\n",
    "\n",
    "# plt.figure(figsize=(16,10))\n",
    "# sns.scatterplot(\n",
    "#     x=\"tsne1\", y=\"tsne2\",\n",
    "#     palette=\"Set1\",\n",
    "#     data=df_subset,\n",
    "#     legend=\"full\",\n",
    "#     s=120\n",
    "# )"
   ]
  },
  {
   "cell_type": "code",
   "execution_count": null,
   "metadata": {},
   "outputs": [],
   "source": [
    "from sklearn.decomposition import PCA\n",
    "df=pd.DataFrame(np.concatenate((angles,lengths), axis=1))\n",
    "pca = PCA(n_components=2)\n",
    "X_pca = pca.fit_transform(df)\n",
    "plt.figure(figsize=[20,15])\n",
    "fig = plt.scatter(x=X_pca[:, 0], y=X_pca[:, 1])"
   ]
  },
  {
   "cell_type": "code",
   "execution_count": null,
   "metadata": {},
   "outputs": [],
   "source": [
    "df"
   ]
  },
  {
   "cell_type": "markdown",
   "metadata": {},
   "source": [
    "### 1) Connect all vertices within a certain range (within 80nm)"
   ]
  },
  {
   "cell_type": "code",
   "execution_count": null,
   "metadata": {},
   "outputs": [],
   "source": [
    "# dist = [[np.linalg.norm(i-j) for i in contour_centers] for j in contour_centers ]\n",
    "# s_dist=np.argsort(dist,axis=1)\n",
    "thre = 20\n",
    "\n",
    "fig = plt.figure(figsize=[20,15])\n",
    "\n",
    "plt.plot(\n",
    "    points[:, 0],\n",
    "    points[:, 1],\n",
    "    \".\",\n",
    "    markerfacecolor=tuple(col),\n",
    "    markersize=3,\n",
    ")\n",
    "n_vx = len(contour_centers)\n",
    "for i in range(n_vx):\n",
    "    for j in range(i+1, n_vx):\n",
    "        if dist[i][j] <= thre:\n",
    "            plt.plot([points[i][0],points[j][0]], [points[i][1],points[j][1]])"
   ]
  },
  {
   "cell_type": "code",
   "execution_count": null,
   "metadata": {},
   "outputs": [],
   "source": [
    "# dist = [[np.linalg.norm(i-j) for i in contour_centers] for j in contour_centers ]\n",
    "# s_dist=np.argsort(dist,axis=1)\n",
    "thre = 12\n",
    "\n",
    "fig = plt.figure(figsize=[20,15])\n",
    "plt.imshow(rendered)\n",
    "plt.plot(\n",
    "    points[:, 0],\n",
    "    points[:, 1],\n",
    "    \".\",\n",
    "    markerfacecolor=tuple(col),\n",
    "    markersize=10,\n",
    ")\n",
    "n_vx = len(contour_centers)\n",
    "for i in range(n_vx):\n",
    "    for j in range(i+1, n_vx):\n",
    "        if dist[i][j] <= thre:\n",
    "            plt.plot([points[i][0],points[j][0]], [points[i][1],points[j][1]])\n",
    "\n"
   ]
  },
  {
   "cell_type": "code",
   "execution_count": null,
   "metadata": {},
   "outputs": [],
   "source": [
    "fig = plt.figure(figsize=[20,15])\n",
    "\n",
    "plt.plot(\n",
    "    points[:, 0],\n",
    "    points[:, 1],\n",
    "    \".\",\n",
    "    markerfacecolor=tuple(col),\n",
    "    markersize=3,\n",
    ")\n",
    "\n",
    "ax = plt.gca()\n",
    "ax.set_aspect('equal', adjustable='box')"
   ]
  },
  {
   "cell_type": "code",
   "execution_count": null,
   "metadata": {},
   "outputs": [],
   "source": [
    "nx = ny = 10\n",
    "sim_points=np.array([[x*2-y%2, y*np.sqrt(3)] for x in range(nx) for y in range(ny)])"
   ]
  },
  {
   "cell_type": "code",
   "execution_count": null,
   "metadata": {},
   "outputs": [],
   "source": [
    "fig = plt.figure(figsize=[10,10])\n",
    "\n",
    "plt.plot(\n",
    "    sim_points[:, 0],\n",
    "    sim_points[:, 1],\n",
    "    \".\",\n",
    "    markerfacecolor=\"red\",\n",
    "    markersize=30,\n",
    ")\n",
    "\n",
    "ax = plt.gca()\n",
    "ax.set_aspect('equal', adjustable='box')"
   ]
  },
  {
   "cell_type": "code",
   "execution_count": null,
   "metadata": {},
   "outputs": [],
   "source": [
    "sim_dist = [[np.linalg.norm(i-j) for i in sim_points] for j in sim_points ]\n",
    "\n",
    "thre = 3\n",
    "fig = plt.figure(figsize=[10,10])\n",
    "\n",
    "plt.plot(\n",
    "    sim_points[:, 0],\n",
    "    sim_points[:, 1],\n",
    "    \".\",\n",
    "    markerfacecolor=tuple(col),\n",
    "    markersize=10,\n",
    ")\n",
    "c_points = []\n",
    "n_vx = len(sim_points)\n",
    "for i in range(n_vx):\n",
    "    for j in range(i+1, n_vx):\n",
    "        if sim_dist[i][j] <= thre:\n",
    "            plt.plot([sim_points[i][0],sim_points[j][0]], [sim_points[i][1],sim_points[j][1]])\n",
    "            c_points.append([(sim_points[i][0]+sim_points[j][0])/2, (sim_points[i][1]+sim_points[j][1])/2])\n",
    "\n",
    "c_points=np.array(c_points)\n",
    "plt.plot(\n",
    "    c_points[:, 0],\n",
    "    c_points[:, 1],\n",
    "    \".\",\n",
    "    markerfacecolor=\"red\",\n",
    "    markersize=20,\n",
    ")\n",
    "ax = plt.gca()\n",
    "ax.set_aspect('equal', adjustable='box')"
   ]
  },
  {
   "cell_type": "code",
   "execution_count": null,
   "metadata": {},
   "outputs": [],
   "source": [
    "#c_dist = [[np.linalg.norm(i-j) for i in c_points] for j in c_points ]\n",
    "\n",
    "thre = 3\n",
    "fig = plt.figure(figsize=[10,10])\n",
    "\n",
    "plt.plot(\n",
    "    c_points[:, 0],\n",
    "    c_points[:, 1],\n",
    "    \".\",\n",
    "    markerfacecolor=\"red\",\n",
    "    markersize=20,\n",
    ")\n",
    "ax = plt.gca()\n",
    "ax.set_aspect('equal', adjustable='box')"
   ]
  },
  {
   "cell_type": "code",
   "execution_count": null,
   "metadata": {},
   "outputs": [],
   "source": [
    "c_dist = [[np.linalg.norm(i-j) for i in c_points] for j in c_points ]\n",
    "thre = 1.5\n",
    "fig = plt.figure(figsize=[10,10])\n",
    "n_vx = len(c_points)\n",
    "for i in range(n_vx):\n",
    "    for j in range(i+1, n_vx):\n",
    "        if c_dist[i][j] <= thre:\n",
    "            plt.plot([c_points[i][0],c_points[j][0]], [c_points[i][1],c_points[j][1]])\n",
    "            \n",
    "plt.plot(\n",
    "    c_points[:, 0],\n",
    "    c_points[:, 1],\n",
    "    \".\",\n",
    "    markerfacecolor=\"red\",\n",
    "    markersize=20,\n",
    ")\n",
    "\n",
    "ax = plt.gca()\n",
    "ax.set_aspect('equal', adjustable='box')"
   ]
  },
  {
   "cell_type": "code",
   "execution_count": null,
   "metadata": {},
   "outputs": [],
   "source": [
    "c_dist = [[np.linalg.norm(i-j) for i in c_points] for j in c_points ]\n",
    "thre = 2\n",
    "fig = plt.figure(figsize=[10,10])\n",
    "n_vx = len(c_points)\n",
    "for i in range(n_vx):\n",
    "    for j in range(i+1, n_vx):\n",
    "        if c_dist[i][j] <= thre:\n",
    "            plt.plot([c_points[i][0],c_points[j][0]], [c_points[i][1],c_points[j][1]])\n",
    "            \n",
    "plt.plot(\n",
    "    c_points[:, 0],\n",
    "    c_points[:, 1],\n",
    "    \".\",\n",
    "    markerfacecolor=\"red\",\n",
    "    markersize=20,\n",
    ")"
   ]
  },
  {
   "cell_type": "code",
   "execution_count": null,
   "metadata": {},
   "outputs": [],
   "source": [
    "from matplotlib.image import NonUniformImage\n",
    "import matplotlib.pyplot as plt\n",
    "\n",
    "#H, xedges, yedges = np.histogram2d(points[:,0], points[:,1], bins=(xedges, yedges))\n",
    "X=test[[\"Xc\",\"Yc\"]].to_numpy()\n",
    "xedges = [x*0.5 for x in range(256)]\n",
    "yedges = [x*0.5 for x in range(256)]\n",
    "H, xedges, yedges = np.histogram2d(X[:,0], X[:,1], bins=(xedges, yedges))\n",
    "H = H.T\n",
    "fig = plt.figure(figsize=(10,10))\n",
    "ax = plt.gca()\n",
    "# X, Y = np.meshgrid(xedges, yedges)\n",
    "# ax.pcolormesh(X, Y, H)\n",
    "\n",
    "im = NonUniformImage(ax, interpolation=\"bilinear\", extent=(0, 64, 0, 64))\n",
    "xcenters = (xedges[:-1] + xedges[1:]) / 2\n",
    "ycenters = (yedges[:-1] + yedges[1:]) / 2\n",
    "im.set_data(xcenters, ycenters, H)\n",
    "ax.add_image(im)\n",
    "ax.set_aspect('equal', adjustable='box')\n",
    "plt.show()"
   ]
  },
  {
   "cell_type": "code",
   "execution_count": null,
   "metadata": {},
   "outputs": [],
   "source": [
    "from sklearn.ensemble import RandomForestClassifier\n",
    "from sklearn.datasets import make_classification\n",
    "\n",
    "\n",
    "X, y = make_classification(n_samples=1000, n_features=4,\n",
    "                           n_informative=2, n_redundant=0,\n",
    "                           random_state=0, shuffle=False)\n",
    "clf = RandomForestClassifier(max_depth=2, random_state=0)\n",
    "clf.fit(X, y)\n",
    "print(clf.predict([[0, 0, 0, 0]]))"
   ]
  },
  {
   "cell_type": "code",
   "execution_count": null,
   "metadata": {},
   "outputs": [],
   "source": [
    "A_list=[\"A1\",\"A2\",\"A3\",\"A5\",\"A6\",\"A7\"]\n",
    "NA_list=[\"NA1\",\"NA2\",\"NA5\"]\n",
    "A_points=[0 for x in range(len(A_list))]\n",
    "NA_points=[0 for x in range(len(NA_list))]\n",
    "\n",
    "for li in range(len(A_list)):\n",
    "    rendered = cv2.imread(\"/Users/suestring/Desktop/Lab/Code/Hongyun/data/rendered/\"+A_list[li]+\".png\")\n",
    "    plt.figure(figsize=(20,20))\n",
    "    plt.imshow(rendered)\n",
    "    gray = cv2.cvtColor(rendered, cv2.COLOR_BGR2GRAY)\n",
    "    blurred = cv2.GaussianBlur(gray, (5, 5), 0)\n",
    "    thresh = cv2.threshold(blurred, 60, 255, cv2.THRESH_BINARY)[1]\n",
    "    local=7\n",
    "    ret1, th1 = cv2.threshold(blurred, 0, 255, cv2.THRESH_BINARY+cv2.THRESH_OTSU)\n",
    "    th2 = cv2.adaptiveThreshold(blurred, 255, cv2.ADAPTIVE_THRESH_GAUSSIAN_C, cv2.THRESH_BINARY, local, 0)\n",
    "    th3=th1&th2\n",
    "    k_size = 1\n",
    "    iter_num = 1\n",
    "    kernel = cv2.getStructuringElement(cv2.MORPH_ELLIPSE,(k_size,k_size))\n",
    "    erosion3 = cv2.erode(th3,kernel,iterations = iter_num)\n",
    "    contours,_ = cv2.findContours(erosion3,cv2.RETR_EXTERNAL, cv2.CHAIN_APPROX_NONE)\n",
    "    contour_centers = np.zeros([len(contours),2])\n",
    "    for i in range(len(contours)):\n",
    "        contour_centers[i] = contours[i].reshape([-1,2]).mean(axis=0)\n",
    "\n",
    "    plt.figure(figsize=[20,20])\n",
    "    plt.imshow(rendered)\n",
    "    plt.plot(\n",
    "        contour_centers[:, 0],\n",
    "        contour_centers[:, 1],\n",
    "        \".\",\n",
    "        markerfacecolor=\"purple\",\n",
    "        markersize=5,\n",
    "    )\n",
    "    A_points[li]=contour_centers\n",
    "\n",
    "for li in range(len(NA_list)):\n",
    "    rendered = cv2.imread(\"/Users/suestring/Desktop/Lab/Code/Hongyun/data/rendered/\"+NA_list[li]+\".png\")\n",
    "    plt.figure(figsize=(20,20))\n",
    "    plt.imshow(rendered)\n",
    "    gray = cv2.cvtColor(rendered, cv2.COLOR_BGR2GRAY)\n",
    "    blurred = cv2.GaussianBlur(gray, (5, 5), 0)\n",
    "    thresh = cv2.threshold(blurred, 60, 255, cv2.THRESH_BINARY)[1]\n",
    "    local=7\n",
    "    ret1, th1 = cv2.threshold(blurred, 0, 255, cv2.THRESH_BINARY+cv2.THRESH_OTSU)\n",
    "    th2 = cv2.adaptiveThreshold(blurred, 255, cv2.ADAPTIVE_THRESH_GAUSSIAN_C, cv2.THRESH_BINARY, local, 0)\n",
    "    th3=th1&th2\n",
    "    k_size = 1\n",
    "    iter_num = 1\n",
    "    kernel = cv2.getStructuringElement(cv2.MORPH_ELLIPSE,(k_size,k_size))\n",
    "    erosion3 = cv2.erode(th3,kernel,iterations = iter_num)\n",
    "    contours,_ = cv2.findContours(erosion3,cv2.RETR_EXTERNAL, cv2.CHAIN_APPROX_NONE)\n",
    "    contour_centers = np.zeros([len(contours),2])\n",
    "    for i in range(len(contours)):\n",
    "        contour_centers[i] = contours[i].reshape([-1,2]).mean(axis=0)\n",
    "\n",
    "    plt.figure(figsize=[20,20])\n",
    "    plt.imshow(rendered)\n",
    "    plt.plot(\n",
    "        contour_centers[:, 0],\n",
    "        contour_centers[:, 1],\n",
    "        \".\",\n",
    "        markerfacecolor=\"purple\",\n",
    "        markersize=5,\n",
    "    )\n",
    "    NA_points[li]=contour_centers"
   ]
  },
  {
   "cell_type": "code",
   "execution_count": null,
   "metadata": {},
   "outputs": [],
   "source": [
    "k=7\n",
    "dist = [0 for x in range(len(A_points))]\n",
    "k_dist = [0 for x in range(len(A_points))]\n",
    "for i in range(len(A_points)):\n",
    "    dist[i] = [[np.linalg.norm(i-j) for i in A_points[i]] for j in A_points[i] ]\n",
    "    k_dist[i] = np.argsort(dist[i], axis=1)[:,:k]\n"
   ]
  },
  {
   "cell_type": "code",
   "execution_count": null,
   "metadata": {},
   "outputs": [],
   "source": [
    "k=7\n",
    "NA_dist = [0 for x in range(len(NA_points))]\n",
    "NA_k_dist = [0 for x in range(len(NA_points))]\n",
    "for i in range(len(NA_points)):\n",
    "    NA_dist[i] = [[np.linalg.norm(i-j) for i in NA_points[i]] for j in NA_points[i] ]\n",
    "    NA_k_dist[i] = np.argsort(NA_dist[i], axis=1)[:,:k]\n"
   ]
  },
  {
   "cell_type": "code",
   "execution_count": null,
   "metadata": {},
   "outputs": [],
   "source": [
    "s_pixel = 16\n",
    "i=0\n",
    "A_nn1=[0 for x in range(len(A_list))]\n",
    "A_nn2=[0 for x in range(len(A_list))]\n",
    "A_nn3=[0 for x in range(len(A_list))]\n",
    "for i in range(len(A_list)):\n",
    "    A_nn1[i]=np.take_along_axis(np.array(dist[i]), k_dist[i][:,1:2], axis=1)\n",
    "    A_nn2[i]=np.take_along_axis(np.array(dist[i]), k_dist[i][:,2:3], axis=1)\n",
    "    A_nn3[i]=np.take_along_axis(np.array(dist[i]), k_dist[i][:,3:4], axis=1)\n",
    "    plt.hist(A_nn1[i]*s_pixel, bins=[x*20 for x in range(20)])\n",
    "    plt.hist(A_nn2[i]*s_pixel, bins=[x*20 for x in range(20)])\n",
    "    plt.hist(A_nn3[i]*s_pixel, bins=[x*20 for x in range(20)])\n"
   ]
  },
  {
   "cell_type": "code",
   "execution_count": null,
   "metadata": {},
   "outputs": [],
   "source": [
    "%store A_k_dist, A_dist, NA_dist, NA_k_dist\n",
    "%store A_points\n",
    "%store NA_points"
   ]
  },
  {
   "cell_type": "code",
   "execution_count": null,
   "metadata": {},
   "outputs": [],
   "source": [
    "\n",
    "plt.figure(figsize=(10,10))\n",
    "plt.hist(np.concatenate(A_nn1, axis=0)*s_pixel, bins=[x*20 for x in range(20)])\n",
    "plt.hist(np.concatenate(A_nn2, axis=0)*s_pixel, bins=[x*20 for x in range(20)])\n",
    "plt.hist(np.concatenate(A_nn3, axis=0)*s_pixel, bins=[x*20 for x in range(20)])"
   ]
  },
  {
   "cell_type": "code",
   "execution_count": null,
   "metadata": {},
   "outputs": [],
   "source": [
    "s_pixel = 16\n",
    "NA_nn1=[0 for x in range(len(NA_list))]\n",
    "NA_nn2=[0 for x in range(len(NA_list))]\n",
    "NA_nn3=[0 for x in range(len(NA_list))]\n",
    "for i in range(len(NA_list)):\n",
    "    NA_nn1[i]=np.take_along_axis(np.array(NA_dist[i]), NA_k_dist[i][:,1:2], axis=1)\n",
    "    NA_nn2[i]=np.take_along_axis(np.array(NA_dist[i]), NA_k_dist[i][:,2:3], axis=1)\n",
    "    NA_nn3[i]=np.take_along_axis(np.array(NA_dist[i]), NA_k_dist[i][:,3:4], axis=1)\n",
    "\n",
    "plt.figure(figsize=(10,10))\n",
    "plt.hist(np.concatenate(NA_nn1, axis=0)*s_pixel, bins=[x*20 for x in range(20)])\n",
    "plt.hist(np.concatenate(NA_nn2, axis=0)*s_pixel, bins=[x*20 for x in range(20)])\n",
    "plt.hist(np.concatenate(NA_nn3, axis=0)*s_pixel, bins=[x*20 for x in range(20)])\n"
   ]
  },
  {
   "cell_type": "code",
   "execution_count": null,
   "metadata": {},
   "outputs": [],
   "source": [
    "rendered = cv2.imread(\"/Users/suestring/Desktop/Lab/Code/Hongyun/data/rendered/Axon_x20.png\")\n",
    "plt.figure(figsize=(20,20))\n",
    "plt.imshow(rendered)\n",
    "gray = cv2.cvtColor(rendered, cv2.COLOR_BGR2GRAY)\n",
    "blurred = cv2.GaussianBlur(gray, (5, 5), 0)\n",
    "thresh = cv2.threshold(blurred, 60, 255, cv2.THRESH_BINARY)[1]\n",
    "local=7\n",
    "ret1, th1 = cv2.threshold(blurred, 0, 255, cv2.THRESH_BINARY+cv2.THRESH_OTSU)\n",
    "th2 = cv2.adaptiveThreshold(blurred, 255, cv2.ADAPTIVE_THRESH_GAUSSIAN_C, cv2.THRESH_BINARY, local, 0)\n",
    "th3=th1&th2\n",
    "k_size = 1\n",
    "iter_num = 1\n",
    "kernel = cv2.getStructuringElement(cv2.MORPH_ELLIPSE,(k_size,k_size))\n",
    "erosion3 = cv2.erode(th3,kernel,iterations = iter_num)\n",
    "contours,_ = cv2.findContours(erosion3,cv2.RETR_EXTERNAL, cv2.CHAIN_APPROX_NONE)\n",
    "contour_centers = np.zeros([len(contours),2])\n",
    "for i in range(len(contours)):\n",
    "    contour_centers[i] = contours[i].reshape([-1,2]).mean(axis=0)\n",
    "\n",
    "plt.figure(figsize=[20,20])\n",
    "#plt.imshow(rendered)\n",
    "plt.plot(\n",
    "    contour_centers[:, 0],\n",
    "    contour_centers[:, 1],\n",
    "    \".\",\n",
    "    markerfacecolor=\"purple\",\n",
    "    markersize=5,\n",
    ")"
   ]
  },
  {
   "cell_type": "code",
   "execution_count": null,
   "metadata": {},
   "outputs": [],
   "source": [
    "k=7\n",
    "\n",
    "axon_dist = [[np.linalg.norm(i-j) for i in contour_centers] for j in contour_centers ]\n",
    "axon_k_dist = np.argsort(axon_dist, axis=1)[:,:k]\n",
    "Axon_nn1=np.take_along_axis(np.array(axon_dist), axon_k_dist[:,1:2], axis=1)\n",
    "Axon_nn2=np.take_along_axis(np.array(axon_dist), axon_k_dist[:,2:3], axis=1)\n",
    "Axon_nn3=np.take_along_axis(np.array(axon_dist), axon_k_dist[:,3:4], axis=1)\n",
    "\n",
    "s_pixel=8\n",
    "plt.figure(figsize=(10,10))\n",
    "plt.hist(np.concatenate(Axon_nn1, axis=0)*s_pixel, bins=[x*20 for x in range(20)])\n",
    "plt.hist(np.concatenate(Axon_nn2, axis=0)*s_pixel, bins=[x*20 for x in range(20)])\n",
    "plt.hist(np.concatenate(Axon_nn3, axis=0)*s_pixel, bins=[x*20 for x in range(20)])"
   ]
  },
  {
   "cell_type": "code",
   "execution_count": null,
   "metadata": {},
   "outputs": [],
   "source": [
    "p_size = 16\n",
    "thre = 180/p_size\n",
    "\n",
    "fig = plt.figure(figsize=[10,10])\n",
    "\n",
    "rendered = cv2.imread(\"/Users/suestring/Desktop/Lab/Code/Hongyun/data/rendered/\"+A_list[0]+\".png\")\n",
    "plt.figure(figsize=(20,20))\n",
    "plt.imshow(rendered)\n",
    "\n",
    "n_vx = len(A_points[0])\n",
    "for i in range(n_vx):\n",
    "    for j in k_dist[0][i,:]:\n",
    "        if dist[0][i][j] <= thre:\n",
    "            plt.plot([A_points[0][i][0],A_points[0][j][0]], [A_points[0][i][1],A_points[0][j][1]])"
   ]
  },
  {
   "cell_type": "code",
   "execution_count": null,
   "metadata": {},
   "outputs": [],
   "source": [
    "p_size = 16\n",
    "thre = 200/p_size\n",
    "\n",
    "fig = plt.figure(figsize=[10,10])\n",
    "\n",
    "#rendered = cv2.imread(\"/Users/suestring/Desktop/Lab/Code/Hongyun/data/rendered/\"+A_list[0]+\".png\")\n",
    "plt.figure(figsize=(20,20))\n",
    "#plt.imshow(rendered)\n",
    "\n",
    "\n",
    "\n",
    "n_vx = len(A_points[0])\n",
    "for i in range(n_vx):\n",
    "    for j in k_dist[0][i,:]:\n",
    "        if dist[0][i][j] <= thre:\n",
    "            plt.plot([A_points[0][i][0],A_points[0][j][0]], [A_points[0][i][1],A_points[0][j][1]])"
   ]
  },
  {
   "cell_type": "code",
   "execution_count": null,
   "metadata": {},
   "outputs": [],
   "source": [
    "p_size = 16\n",
    "thre = 200/p_size\n",
    "l_thre = 160/p_size\n",
    "\n",
    "fig = plt.figure(figsize=[10,10])\n",
    "\n",
    "#rendered = cv2.imread(\"/Users/suestring/Desktop/Lab/Code/Hongyun/data/rendered/\"+A_list[0]+\".png\")\n",
    "plt.figure(figsize=(20,20))\n",
    "#plt.imshow(rendered)\n",
    "\n",
    "\n",
    "\n",
    "n_vx = len(A_points[0])\n",
    "for i in range(n_vx):\n",
    "    for j in k_dist[0][i,:]:\n",
    "        if dist[0][i][j] <= thre and dist[0][i][j] >=l_thre:\n",
    "            plt.plot([A_points[0][i][0],A_points[0][j][0]], [A_points[0][i][1],A_points[0][j][1]])"
   ]
  },
  {
   "cell_type": "code",
   "execution_count": null,
   "metadata": {},
   "outputs": [],
   "source": [
    "p_size = 8\n",
    "thre = 180/p_size\n",
    "\n",
    "fig = plt.figure(figsize=[10,10])\n",
    "\n",
    "rendered = cv2.imread(\"/Users/suestring/Desktop/Lab/Code/Hongyun/data/rendered/axon_x20.png\")\n",
    "plt.figure(figsize=(20,20))\n",
    "plt.imshow(rendered)\n",
    "\n",
    "\n",
    "\n",
    "n_vx = len(contour_centers)\n",
    "for i in range(n_vx):\n",
    "    for j in axon_k_dist[i,:]:\n",
    "        if axon_dist[i][j] <= thre:\n",
    "            plt.plot([contour_centers[i][0],contour_centers[j][0]], [contour_centers[i][1],contour_centers[j][1]])"
   ]
  },
  {
   "cell_type": "code",
   "execution_count": null,
   "metadata": {},
   "outputs": [],
   "source": [
    "p_size = 8\n",
    "thre = 210/p_size\n",
    "l_thre = 150/p_size\n",
    "\n",
    "fig = plt.figure(figsize=[10,10])\n",
    "\n",
    "#rendered = cv2.imread(\"/Users/suestring/Desktop/Lab/Code/Hongyun/data/rendered/axon_x20.png\")\n",
    "plt.figure(figsize=(20,20))\n",
    "#plt.imshow(rendered)\n",
    "\n",
    "\n",
    "\n",
    "n_vx = len(contour_centers)\n",
    "for i in range(n_vx):\n",
    "    for j in axon_k_dist[i,:]:\n",
    "        if axon_dist[i][j] <= thre and axon_dist[i][j] >= l_thre:\n",
    "            plt.plot([contour_centers[i][0],contour_centers[j][0]], [contour_centers[i][1],contour_centers[j][1]])"
   ]
  },
  {
   "cell_type": "code",
   "execution_count": null,
   "metadata": {},
   "outputs": [],
   "source": [
    "p_size = 8\n",
    "thre = 120/p_size\n",
    "\n",
    "fig = plt.figure(figsize=[10,10])\n",
    "\n",
    "rendered = cv2.imread(\"/Users/suestring/Desktop/Lab/Code/Hongyun/data/rendered/axon_x20.png\")\n",
    "plt.figure(figsize=(20,20))\n",
    "plt.imshow(rendered)\n",
    "\n",
    "\n",
    "\n",
    "n_vx = len(contour_centers)\n",
    "for i in range(n_vx):\n",
    "    for j in axon_k_dist[i,:]:\n",
    "        if axon_dist[i][j] <= thre:\n",
    "            plt.plot([contour_centers[i][0],contour_centers[j][0]], [contour_centers[i][1],contour_centers[j][1]])"
   ]
  },
  {
   "cell_type": "code",
   "execution_count": null,
   "metadata": {},
   "outputs": [],
   "source": [
    "test = rendered[800:1000, 300:500]\n",
    "plt.imshow(test)\n",
    "ft = np.fft.ifftshift(test)\n",
    "ft = np.fft.fft2(ft)\n",
    "ft = np.fft.fftshift(ft)\n",
    "plt.figure()\n",
    "plt.imshow(abs(ft))\n",
    "#plt.xlim([480, 520])\n",
    "#plt.ylim([520, 480])  # Note, order is reversed for y\n",
    "plt.show()"
   ]
  },
  {
   "cell_type": "code",
   "execution_count": null,
   "metadata": {},
   "outputs": [],
   "source": [
    "a=FFTplot(rendered[800:1000, 300:500])"
   ]
  },
  {
   "cell_type": "code",
   "execution_count": null,
   "metadata": {},
   "outputs": [],
   "source": [
    "b=a.copy()\n",
    "b[np.unravel_index(np.argsort(abs(b), axis=None),b.shape)]=0\n",
    "c=np.zeros([64,64])\n",
    "c[32,32]=100\n",
    "iFFTplot(c)"
   ]
  },
  {
   "cell_type": "code",
   "execution_count": null,
   "metadata": {},
   "outputs": [],
   "source": []
  },
  {
   "cell_type": "code",
   "execution_count": null,
   "metadata": {},
   "outputs": [],
   "source": []
  },
  {
   "cell_type": "code",
   "execution_count": null,
   "metadata": {},
   "outputs": [],
   "source": [
    "plt.imshow(rendered[300:500, 800:1000])"
   ]
  },
  {
   "cell_type": "code",
   "execution_count": null,
   "metadata": {},
   "outputs": [],
   "source": [
    "plt.imshow(rendered[800:1000, 300:500])"
   ]
  },
  {
   "cell_type": "code",
   "execution_count": null,
   "metadata": {},
   "outputs": [],
   "source": [
    "plt.imshow(rendered)"
   ]
  },
  {
   "cell_type": "code",
   "execution_count": null,
   "metadata": {},
   "outputs": [],
   "source": [
    "import numpy as np\n",
    "from scipy import fftpack, ndimage\n",
    "import matplotlib.pyplot as plt\n",
    "import os, sys, re, cv2\n",
    "import matplotlib.pyplot as plt\n",
    "import numpy as np\n",
    "import seaborn as sns\n",
    "import pandas as pd\n",
    "from sklearn.manifold import TSNE\n",
    "\n",
    "#image = ndimage.imread('image2.jpg', flatten=True)     # flatten=True gives a greyscale image\n",
    "#fft2 = fftpack.fft2(image)"
   ]
  },
  {
   "cell_type": "code",
   "execution_count": null,
   "metadata": {},
   "outputs": [],
   "source": [
    "rendered = cv2.imread(\"/Users/suestring/Desktop/Lab/Code/Hongyun/data/rendered/axon_x20.png\")\n",
    "sub_rendered = rendered[800:1000, 300:500]\n",
    "plt.imshow(sub_rendered)\n",
    "fft2 = fftpack.fft2(sub_rendered)\n",
    "plt.imshow(abs(fft2))\n"
   ]
  },
  {
   "cell_type": "code",
   "execution_count": null,
   "metadata": {},
   "outputs": [],
   "source": [
    "rendered = cv2.imread(\"/Users/suestring/Desktop/Lab/Code/Hongyun/data/rendered/A7.png\")\n",
    "img_gray = cv2.cvtColor(rendered, cv2.COLOR_BGR2GRAY)\n",
    "#fft2 = fftpack.fft2(img_gray[500:1000,500:1000])\n",
    "test = img_gray[500:1000,500:1000]\n",
    "ft = np.fft.ifftshift(test)\n",
    "ft = np.fft.fft2(ft)\n",
    "ft = np.fft.fftshift(ft)\n",
    "plt.imshow(abs(fft2))\n",
    "plt.xlim([240, 260])\n",
    "plt.ylim([240, 260])\n"
   ]
  },
  {
   "cell_type": "code",
   "execution_count": null,
   "metadata": {},
   "outputs": [],
   "source": [
    "p_size = 16\n",
    "#thre = 180/p_size\n",
    "\n",
    "\n",
    "x = np.arange(-32, 32, 1)\n",
    "X, Y = np.meshgrid(x, x)\n",
    "wavelength = 180/p_size\n",
    "for i in range(9):\n",
    "    angle = np.pi/9*i\n",
    "    grating = np.sin(\n",
    "        2*np.pi*(X*np.cos(angle) + Y*np.sin(angle)) / wavelength\n",
    "    )\n",
    "    plt.set_cmap(\"gray\")\n",
    "    plt.figure()\n",
    "    plt.subplot(121)\n",
    "    plt.imshow(grating)\n",
    "    # Calculate Fourier transform of grating\n",
    "    ft = np.fft.ifftshift(grating)\n",
    "    ft = np.fft.fft2(ft)\n",
    "    ft = np.fft.fftshift(ft)\n",
    "    plt.subplot(122)\n",
    "    plt.imshow(abs(ft))\n",
    "    #plt.xlim([20, 30])\n",
    "    #plt.ylim([30, 20])  # Note, order is reversed for y\n",
    "\n",
    "plt.show()"
   ]
  },
  {
   "cell_type": "code",
   "execution_count": null,
   "metadata": {},
   "outputs": [],
   "source": []
  },
  {
   "cell_type": "code",
   "execution_count": null,
   "metadata": {},
   "outputs": [],
   "source": [
    "test=grating\n",
    "ac=correlate2d(test,test)\n",
    "plt.imshow(ac)"
   ]
  },
  {
   "cell_type": "code",
   "execution_count": null,
   "metadata": {},
   "outputs": [],
   "source": [
    "def FFTplot(img):\n",
    "    a,b,_=img.shape\n",
    "    test = cv2.cvtColor(img, cv2.COLOR_BGR2GRAY)\n",
    "    plt.subplot(121)\n",
    "    plt.imshow(test)\n",
    "    ft = np.fft.ifftshift(test)\n",
    "    ft = np.fft.fft2(ft)\n",
    "    ft = np.fft.fftshift(ft)\n",
    "    plt.subplot(122)\n",
    "    plt.imshow(abs(ft))\n",
    "    plt.xlim([b/2-10, b/2+10])\n",
    "    plt.ylim([a/2-10, a/2+10])\n",
    "    return ft\n",
    "\n",
    "\n",
    "def iFFTplot(ft):\n",
    "    ft = np.fft.fftshift(ft)\n",
    "    ift = np.fft.ifft2(ft)\n",
    "    ift = np.fft.ifftshift(ift)\n",
    "    plt.imshow(abs(ift))\n",
    "    #plt.xlim([b/2-10, b/2+10])\n",
    "    #plt.ylim([a/2-10, a/2+10])\n",
    "    "
   ]
  },
  {
   "cell_type": "code",
   "execution_count": null,
   "metadata": {},
   "outputs": [],
   "source": [
    "from scipy.signal import correlate2d, fftconvolve\n",
    "def ACplot(img):\n",
    "    test = cv2.cvtColor(img, cv2.COLOR_BGR2GRAY)\n",
    "    ac=correlate2d(test,test)\n",
    "    plt.subplot(121)\n",
    "    plt.imshow(test)\n",
    "    plt.subplot(122)\n",
    "    plt.imshow(ac)"
   ]
  },
  {
   "cell_type": "code",
   "execution_count": null,
   "metadata": {},
   "outputs": [],
   "source": [
    "test = np.array([[2,1,2],[1,2,1],[2,1,2]])\n",
    "ac=correlate2d(test,test)\n",
    "plt.subplot(121)\n",
    "plt.imshow(test)\n",
    "plt.subplot(122)\n",
    "plt.imshow(ac)"
   ]
  },
  {
   "cell_type": "code",
   "execution_count": null,
   "metadata": {},
   "outputs": [],
   "source": [
    "a=FFTplot(rendered[1047:1072,894:919])"
   ]
  },
  {
   "cell_type": "code",
   "execution_count": null,
   "metadata": {},
   "outputs": [],
   "source": [
    "y=1074\n",
    "x=897\n",
    "FFTplot(rendered[y:y+32,x:x+32])"
   ]
  },
  {
   "cell_type": "code",
   "execution_count": null,
   "metadata": {},
   "outputs": [],
   "source": [
    "FFTplot(rendered[1230:1230+25,897:897+25])"
   ]
  },
  {
   "cell_type": "code",
   "execution_count": null,
   "metadata": {},
   "outputs": [],
   "source": [
    "ACplot(rendered[989:989+25,803:803+25])"
   ]
  },
  {
   "cell_type": "code",
   "execution_count": null,
   "metadata": {},
   "outputs": [],
   "source": [
    "rendered = cv2.imread(\"/Users/suestring/Desktop/Lab/Code/Hongyun/data/rendered/NA2.png\")\n",
    "#sub_rendered = rendered[500:700, 400:600]\n",
    "for i in range(1039, 1135, 30):\n",
    "    for j in range(886, 1047, 30):\n",
    "        plt.figure()\n",
    "        FFTplot(rendered[i:i+30, j:j+30])"
   ]
  },
  {
   "cell_type": "markdown",
   "metadata": {},
   "source": []
  },
  {
   "cell_type": "code",
   "execution_count": null,
   "metadata": {},
   "outputs": [],
   "source": [
    "[x for x in range(500, 1500, 100)]"
   ]
  },
  {
   "cell_type": "code",
   "execution_count": null,
   "metadata": {},
   "outputs": [],
   "source": [
    "FFTplot(\"/Users/suestring/Desktop/Lab/Code/Hongyun/data/rendered/NA2_500-700_400-600.png\")"
   ]
  },
  {
   "cell_type": "code",
   "execution_count": null,
   "metadata": {},
   "outputs": [],
   "source": [
    "import glob\n",
    "test_1d=glob.glob(\"/Users/suestring/Desktop/Lab/Code/Hongyun/data/test/1D/*.png\")\n",
    "test_2d=glob.glob(\"/Users/suestring/Desktop/Lab/Code/Hongyun/data/test/2D/*.png\")\n",
    "test_sparse=glob.glob(\"/Users/suestring/Desktop/Lab/Code/Hongyun/data/test/sparse/*.png\")\n"
   ]
  },
  {
   "cell_type": "code",
   "execution_count": null,
   "metadata": {},
   "outputs": [],
   "source": [
    "for i in test_1d:\n",
    "    test = cv2.imread(i)\n",
    "    plt.figure()\n",
    "    a=FFTplot(test)"
   ]
  },
  {
   "cell_type": "code",
   "execution_count": null,
   "metadata": {},
   "outputs": [],
   "source": [
    "np.unravel_index(np.argsort(abs(b), axis=None),b.shape)[0]"
   ]
  },
  {
   "cell_type": "code",
   "execution_count": null,
   "metadata": {},
   "outputs": [],
   "source": [
    "test=cv2.imread(\"/Users/suestring/Desktop/Lab/Code/Hongyun/data/test/1D/adducin_1_138_129_64.png\")\n",
    "ft=FFTplot(test)"
   ]
  },
  {
   "cell_type": "code",
   "execution_count": null,
   "metadata": {},
   "outputs": [],
   "source": [
    "ft[32,32]=0\n",
    "plt.imshow(abs(ft))\n",
    "ft_sort=np.unravel_index(np.argsort(-abs(ft), axis=None),ft.shape)\n",
    "\n",
    "for i in range(5):\n",
    "    nft=np.zeros([64,64])\n",
    "    nft[ft_sort[0][2*i:2*(i+1)],ft_sort[1][2*i:2*(i+1)]]=ft[ft_sort[0][2*i:2*(i+1)],ft_sort[1][2*i:2*(i+1)]]\n",
    "    plt.figure()\n",
    "    plt.subplot(1,2,1)\n",
    "    plt.imshow(abs(nft))\n",
    "    plt.subplot(1,2,2)\n",
    "    iFFTplot(nft)\n",
    "\n",
    "plt.figure()\n",
    "nft=np.zeros([64,64])\n",
    "nft[ft_sort[0][:2*(i+1)],ft_sort[1][:2*(i+1)]]=ft[ft_sort[0][:2*(i+1)],ft_sort[1][:2*(i+1)]]\n",
    "iFFTplot(nft)"
   ]
  },
  {
   "cell_type": "code",
   "execution_count": null,
   "metadata": {},
   "outputs": [],
   "source": [
    "test = rendered[875:875+64, 380:380+64]\n",
    "plt.imshow(test)"
   ]
  },
  {
   "cell_type": "code",
   "execution_count": null,
   "metadata": {},
   "outputs": [],
   "source": [
    "rendered = cv2.imread(\"/Users/suestring/Desktop/Lab/Code/Hongyun/data/rendered/axon_x20.png\")\n",
    "plt.figure(figsize=(20,20))\n",
    "#plt.imshow(rendered)\n",
    "test = rendered[875:875+64, 380:380+64]\n",
    "ft=FFTplot(test)\n",
    "ft[32,32]=0\n",
    "ft_sort=np.unravel_index(np.argsort(-abs(ft), axis=None),ft.shape)\n",
    "\n",
    "for i in range(10):\n",
    "    nft=np.zeros([64,64])\n",
    "    nft[ft_sort[0][2*i:2*(i+1)],ft_sort[1][2*i:2*(i+1)]]=ft[ft_sort[0][2*i:2*(i+1)],ft_sort[1][2*i:2*(i+1)]]\n",
    "    plt.figure()\n",
    "    plt.subplot(1,2,1)\n",
    "    plt.imshow(abs(nft))\n",
    "    plt.subplot(1,2,2)\n",
    "    iFFTplot(nft)\n",
    "\n",
    "plt.figure()\n",
    "nft=np.zeros([64,64])\n",
    "nft[ft_sort[0][:2*(i+1)],ft_sort[1][:2*(i+1)]]=ft[ft_sort[0][:2*(i+1)],ft_sort[1][:2*(i+1)]]\n",
    "iFFTplot(nft)"
   ]
  },
  {
   "cell_type": "code",
   "execution_count": null,
   "metadata": {},
   "outputs": [],
   "source": [
    "plt.figure()\n",
    "nft=np.zeros([64,64])\n",
    "#nft[ft_sort[0][2*(i+1):],ft_sort[1][2*(i+1):]]=ft[ft_sort[0][2*(i+1):],ft_sort[1][2*(i+1):]]\n",
    "nft[:,:]=ft[:,:]\n",
    "iFFTplot(nft)\n",
    "FFTplot()"
   ]
  },
  {
   "cell_type": "code",
   "execution_count": null,
   "metadata": {},
   "outputs": [],
   "source": [
    "b=np.zeros([64,64])\n",
    "#b[20:44,20:44]=a[20:44,20:44]\n",
    "b[28:36,28:36]=a[28:36,28:36] #np.zeros([4,4])\n",
    "iFFTplot(b)\n",
    "plt.figure()\n",
    "plt.imshow(b)"
   ]
  },
  {
   "cell_type": "code",
   "execution_count": null,
   "metadata": {},
   "outputs": [],
   "source": [
    "for i in test_2d:\n",
    "    test = cv2.imread(i)\n",
    "    plt.figure()\n",
    "    FFTplot(test)"
   ]
  },
  {
   "cell_type": "code",
   "execution_count": null,
   "metadata": {},
   "outputs": [],
   "source": []
  },
  {
   "cell_type": "code",
   "execution_count": null,
   "metadata": {},
   "outputs": [],
   "source": [
    "for i in test_sparse:\n",
    "    test = cv2.imread(i)\n",
    "    plt.figure()\n",
    "    FFTplot(test)"
   ]
  },
  {
   "cell_type": "code",
   "execution_count": null,
   "metadata": {},
   "outputs": [],
   "source": [
    "for i in test_1d:\n",
    "    test = cv2.imread(i)\n",
    "    plt.figure()\n",
    "    ACplot(test)"
   ]
  },
  {
   "cell_type": "code",
   "execution_count": null,
   "metadata": {},
   "outputs": [],
   "source": [
    "test_sim=glob.glob(\"/Users/suestring/Desktop/Lab/Code/Hongyun/data/test/*.jpg\")"
   ]
  },
  {
   "cell_type": "code",
   "execution_count": null,
   "metadata": {},
   "outputs": [],
   "source": [
    "def FFTplotlog(img):\n",
    "    a,b,_=img.shape\n",
    "    test = cv2.cvtColor(img, cv2.COLOR_BGR2GRAY)\n",
    "    plt.subplot(121)\n",
    "    plt.imshow(test)\n",
    "    ft = np.fft.ifftshift(test)\n",
    "    ft = np.fft.fft2(ft)\n",
    "    ft = np.fft.fftshift(ft)\n",
    "    plt.subplot(122)\n",
    "    plt.imshow(np.log10(abs(ft)))\n",
    "    plt.xlim([b/2-10, b/2+10])\n",
    "    plt.ylim([a/2-10, a/2+10])\n",
    "\n",
    "for i in test_sim:\n",
    "    test = cv2.imread(i)\n",
    "    plt.figure()\n",
    "    a=FFTplot(test)"
   ]
  },
  {
   "cell_type": "code",
   "execution_count": null,
   "metadata": {},
   "outputs": [],
   "source": [
    "plt.imshow(np.log10(abs(a[280:320,280:320])))"
   ]
  },
  {
   "cell_type": "code",
   "execution_count": null,
   "metadata": {},
   "outputs": [],
   "source": [
    "smlm=pd.read_table(\"/Users/suestring/Desktop/Lab/Code/Hongyun/data/test/adducin_2.txt\",header=0)"
   ]
  },
  {
   "cell_type": "code",
   "execution_count": null,
   "metadata": {},
   "outputs": [],
   "source": [
    "smlm.head()"
   ]
  },
  {
   "cell_type": "code",
   "execution_count": null,
   "metadata": {},
   "outputs": [],
   "source": []
  },
  {
   "cell_type": "code",
   "execution_count": null,
   "metadata": {},
   "outputs": [],
   "source": [
    "x1"
   ]
  },
  {
   "cell_type": "code",
   "execution_count": null,
   "metadata": {},
   "outputs": [],
   "source": [
    "rendered = cv2.imread(\"/Users/suestring/Desktop/Lab/Code/Hongyun/data/test/1D/adducin_2_111_101_64.png\")\n",
    "plt.figure(figsize=(20,20))\n",
    "plt.imshow(rendered)\n",
    "gray = cv2.cvtColor(rendered, cv2.COLOR_BGR2GRAY)\n",
    "blurred = cv2.GaussianBlur(gray, (5, 5), 0)\n",
    "thresh = cv2.threshold(blurred, 60, 255, cv2.THRESH_BINARY)[1]\n",
    "local=7\n",
    "ret1, th1 = cv2.threshold(blurred, 0, 255, cv2.THRESH_BINARY+cv2.THRESH_OTSU)\n",
    "th2 = cv2.adaptiveThreshold(blurred, 255, cv2.ADAPTIVE_THRESH_GAUSSIAN_C, cv2.THRESH_BINARY, local, 0)\n",
    "th3=th1&th2\n",
    "mask = np.ones(th3.shape[:2],dtype='uint8')*255\n",
    "k_size = 2\n",
    "iter_num = 2\n",
    "kernel = cv2.getStructuringElement(cv2.MORPH_ELLIPSE,(k_size,k_size))\n",
    "fg_ratio = 0.5\n",
    "kernel = np.ones((k_size,k_size),np.uint8)\n",
    "opening = cv2.morphologyEx(th3,cv2.MORPH_OPEN, kernel, iterations = iter_num)\n",
    "sure_bg = cv2.dilate(opening,kernel,iterations=1)\n",
    "erosion3 = cv2.erode(th3,kernel,iterations = iter_num)\n",
    "filtered = cv2.bitwise_and(sure_bg, sure_bg, mask=mask)\n",
    "dist = cv2.distanceTransform(filtered,cv2.DIST_L2,5)\n",
    "ret2, sure_fg = cv2.threshold(dist,fg_ratio*dist.max(),255,0)\n",
    "sure_fg = np.uint8(sure_fg)\n",
    "contours,_ = cv2.findContours(erosion3,cv2.RETR_EXTERNAL, cv2.CHAIN_APPROX_NONE)\n",
    "contour_centers = np.zeros([len(contours),2])\n",
    "\n",
    "for i in range(len(contours)):\n",
    "    contour_centers[i] = contours[i].reshape([-1,2]).mean(axis=0)\n",
    "\n",
    "plt.figure(figsize=[20,20])\n",
    "plt.imshow(rendered)\n",
    "plt.plot(\n",
    "    contour_centers[:, 0],\n",
    "    contour_centers[:, 1],\n",
    "    \".\",\n",
    "    markerfacecolor=\"purple\",\n",
    "    markersize=50,\n",
    ")"
   ]
  },
  {
   "cell_type": "code",
   "execution_count": null,
   "metadata": {},
   "outputs": [],
   "source": [
    "def normalize_n_blur(img):\n",
    "    ksize = 7\n",
    "    img_8 = cv2.normalize(img, None, 0, 255, norm_type=cv2.NORM_MINMAX, dtype=cv2.CV_8UC1) \n",
    "    #img_blur = cv2.medianBlur(img_8, ksize)\n",
    "    img_blur = img_8\n",
    "    return img_blur\n",
    "\n",
    "# TODO: add some knowledge-based filter such as the cell's area size with the microscope setting as input\n",
    "def is_cell_bad(cnt):\n",
    "    area = cv2.contourArea(cnt)\n",
    "    cell_size = 10000\n",
    "    if area < cell_size:\n",
    "        return 1\n",
    "    return 0\n",
    "# TODO: try or select a local number that makes more sense\n",
    "def cal_threshold(cells):\n",
    "    local = 555\n",
    "    return cv2.adaptiveThreshold(cells, 255, cv2.ADAPTIVE_THRESH_MEAN_C, cv2.THRESH_BINARY, local, 0)\n",
    "\n",
    "\n",
    "def cal_bg_n_fg(threshold):\n",
    "    k_size = 3\n",
    "    iteration_number = 2\n",
    "    fg_ratio = 0.5\n",
    "    kernel = np.ones((k_size,k_size),np.uint8)\n",
    "    opening = cv2.morphologyEx(threshold,cv2.MORPH_OPEN, kernel, iterations = iteration_number)\n",
    "    sure_bg = cv2.dilate(opening,kernel,iterations=10)\n",
    "    contours,_ = cv2.findContours(sure_bg,cv2.RETR_EXTERNAL, cv2.CHAIN_APPROX_NONE)\n",
    "    mask = np.ones(threshold.shape[:2],dtype='uint8')*255\n",
    "    # in case we need the area information\n",
    "    l_area = []  \n",
    "\n",
    "    # remove the bad cells\n",
    "    for cnt in contours:\n",
    "        l_area.append(cv2.contourArea(cnt))\n",
    "        if is_cell_bad(cnt):\n",
    "            cv2.drawContours(mask,[cnt],0,0,-1)\n",
    "        \n",
    "    filtered = cv2.bitwise_and(sure_bg, sure_bg, mask=mask)\n",
    "    dist = cv2.distanceTransform(filtered,cv2.DIST_L2,5)\n",
    "    ret2, sure_fg = cv2.threshold(dist,fg_ratio*dist.max(),255,0)\n",
    "    sure_fg = np.uint8(sure_fg)\n",
    "    return filtered, sure_fg\n",
    "\n",
    "def cal_markers(sure_bg, sure_fg, img):\n",
    "    bg_number = 10\n",
    "    unknown = cv2.subtract(sure_bg, sure_fg)\n",
    "    _, markers = cv2.connectedComponents(sure_fg)\n",
    "    markers = markers + bg_number  # to assign the background a different color\n",
    "    markers[unknown == 255] = 0\n",
    "    img3 = cv2.cvtColor(img,cv2.COLOR_GRAY2RGB)\n",
    "    markers = cv2.watershed(img3,markers)\n",
    "    return markers\n",
    "\n",
    "# TODO: choose a range that exclude the background\n",
    "def color_marker(markers):\n",
    "    return color.label2rgb(markers, bg_label=0)\n",
    "\n",
    "# TODO: track each step to find a better parameter set for our image recognition\n",
    "def watershed_only(img):\n",
    "    cells = normalize_n_blur(img)\n",
    "    # calculate the binary image using the threshold method we choose\n",
    "    threshold = cal_threshold(cells)\n",
    "    \n",
    "    # calculate the sure_bg and sure_fg\n",
    "    sure_bg, sure_fg = cal_bg_n_fg(threshold)\n",
    "    markers = cal_markers(sure_bg, sure_fg, cells)\n",
    "    return markers\n",
    "\n",
    "def watershed_with_nuclei(nuclei, img):\n",
    "    cells = normalize_n_blur(img)\n",
    "    nuclei_markers = watershed_only(nuclei)\n",
    "    threshold = cal_threshold(cells)\n",
    "    added = cv2.bitwise_and(nuclei_markers-10, nuclei_markers-10, mask=threshold)\n",
    "    _, sure_fg = cv2.threshold(np.uint8(added), 0, 255, cv2.THRESH_BINARY)\n",
    "    sure_bg, _ = cal_bg_n_fg(threshold)\n",
    "    markers = cal_markers(sure_bg, sure_fg, cells)\n",
    "    return markers"
   ]
  },
  {
   "cell_type": "code",
   "execution_count": null,
   "metadata": {},
   "outputs": [],
   "source": [
    "test=smlm[[\"Xc\",\"Yc\",\"Zc\"]]\n",
    "x0, x1, y0, y1 = 111, 117.4, 101, 107.4\n",
    "test1=test[(test[\"Xc\"]>x0) & (test[\"Xc\"]< x1) & (test[\"Yc\"]> y0) & (test[\"Yc\"] < y1)]\n",
    "X=test1[[\"Xc\",\"Yc\"]].to_numpy()\n",
    "db=HDBSCAN(min_cluster_size=10, max_cluster_size=40, min_samples=1, n_jobs=-1).fit(test1)\n",
    "labels=db.labels_\n",
    "n_clusters_ = len(set(labels)) - (1 if -1 in labels else 0)\n",
    "n_noise_ = list(labels).count(-1)\n",
    "\n",
    "print(\"Estimated number of clusters: %d\" % n_clusters_)\n",
    "print(\"Estimated number of noise points: %d\" % n_noise_)\n",
    "\n",
    "uniq_labels=set(labels)\n",
    "#core_samples_mask = np.zeros_like(labels, dtype=bool)\n",
    "#core_samples_mask[db.core_sample_indices_] = True\n",
    "plt.figure(figsize=(20,20))\n",
    "plt.scatter(test1[\"Xc\"],test1[\"Yc\"],marker=\".\")\n",
    "\n",
    "colors = [plt.cm.Spectral(each) for each in np.linspace(0, 1, len(uniq_labels))]\n",
    "for k, col in zip(uniq_labels, colors):\n",
    "    if k == -1:\n",
    "        # Black used for noise.\n",
    "        col = [0, 0, 0, 1]\n",
    "        class_member_mask = labels == k\n",
    "\n",
    "        xy = X[class_member_mask]\n",
    "        #xy_center=xy.mean(axis=0)\n",
    "        plt.plot(\n",
    "            xy[:, 0],\n",
    "            xy[:, 1],\n",
    "            \".\",\n",
    "            markerfacecolor=tuple(col),\n",
    "            markeredgecolor=\"k\",\n",
    "            markersize=10,\n",
    "        )\n",
    "        continue\n",
    "\n",
    "    class_member_mask = labels == k\n",
    "\n",
    "    xy = X[class_member_mask ]#& core_samples_mask]\n",
    "    xy_center=xy.mean(axis=0)\n",
    "    plt.plot(\n",
    "        xy[:, 0],\n",
    "        xy[:, 1],\n",
    "        \".\",\n",
    "        markerfacecolor=tuple(col),\n",
    "        markeredgecolor=\"k\",\n",
    "        markersize=20,\n",
    "    )\n",
    "    plt.plot(\n",
    "        xy_center[0],\n",
    "        xy_center[1],\n",
    "        \".\",\n",
    "        markerfacecolor=tuple(col),\n",
    "        markeredgecolor=\"k\",\n",
    "        markersize=50,\n",
    "    )\n",
    "\n",
    "    plt.text(\n",
    "        xy_center[0],\n",
    "        xy_center[1],\n",
    "        str(sum(class_member_mask)),\n",
    "        color = \"white\",\n",
    "        bbox=dict(\n",
    "            boxstyle=\"round\",\n",
    "            facecolor='black', \n",
    "            alpha=0.5\n",
    "        )\n",
    "    )\n",
    "\n",
    "    # xy = X[class_member_mask & ~core_samples_mask]\n",
    "    # plt.plot(\n",
    "    #     xy[:, 0],\n",
    "    #     xy[:, 1],\n",
    "    #     \".\",\n",
    "    #     markerfacecolor=tuple(col),\n",
    "    #     markeredgecolor=\"k\",\n",
    "    #     markersize=20,\n",
    "    # )\n",
    "\n",
    "plt.title(f\"Estimated number of clusters: {n_clusters_}\")\n",
    "plt.show()"
   ]
  },
  {
   "cell_type": "code",
   "execution_count": null,
   "metadata": {},
   "outputs": [],
   "source": [
    "\n",
    "plt.figure(figsize=(10,10))\n",
    "plt.imshow(rendered)\n",
    "plt.scatter((test1[\"Xc\"]-111)*10,(test1[\"Yc\"]-101)*10,marker=\".\")"
   ]
  },
  {
   "cell_type": "code",
   "execution_count": null,
   "metadata": {},
   "outputs": [],
   "source": [
    "plt.figure(figsize=(10,10))\n",
    "#plt.imshow(rendered)\n",
    "plt.scatter((test1[\"Xc\"]-111)*10,-(test1[\"Yc\"]-101)*10,marker=\"o\")"
   ]
  },
  {
   "cell_type": "code",
   "execution_count": null,
   "metadata": {},
   "outputs": [],
   "source": [
    "test=smlm[[\"Xc\",\"Yc\",\"Zc\"]]\n",
    "x0, x1, y0, y1 = 111, 117.4, 101, 107.4\n",
    "test1=test[(test[\"Xc\"]>x0) & (test[\"Xc\"]< x1) & (test[\"Yc\"]> y0) & (test[\"Yc\"] < y1)]\n",
    "X=test1[[\"Xc\",\"Yc\"]].to_numpy()\n",
    "db=HDBSCAN(min_cluster_size=10, max_cluster_size=40, min_samples=1, n_jobs=-1).fit(test1)\n",
    "labels=db.labels_\n",
    "n_clusters_ = len(set(labels)) - (1 if -1 in labels else 0)\n",
    "n_noise_ = list(labels).count(-1)\n",
    "\n",
    "print(\"Estimated number of clusters: %d\" % n_clusters_)\n",
    "print(\"Estimated number of noise points: %d\" % n_noise_)\n",
    "\n",
    "uniq_labels=set(labels)\n",
    "#core_samples_mask = np.zeros_like(labels, dtype=bool)\n",
    "#core_samples_mask[db.core_sample_indices_] = True\n",
    "plt.figure(figsize=(20,20))\n",
    "plt.scatter(test1[\"Xc\"],test1[\"Yc\"],marker=\".\")\n",
    "\n",
    "colors = [plt.cm.Spectral(each) for each in np.linspace(0, 1, len(uniq_labels))]\n",
    "for k, col in zip(uniq_labels, colors):\n",
    "    if k == -1:\n",
    "        # Black used for noise.\n",
    "        col = [0, 0, 0, 1]\n",
    "        class_member_mask = labels == k\n",
    "\n",
    "        xy = X[class_member_mask]\n",
    "        #xy_center=xy.mean(axis=0)\n",
    "        plt.plot(\n",
    "            xy[:, 0],\n",
    "            xy[:, 1],\n",
    "            \".\",\n",
    "            markerfacecolor=tuple(col),\n",
    "            markeredgecolor=\"k\",\n",
    "            markersize=10,\n",
    "        )\n",
    "        continue\n",
    "\n",
    "    class_member_mask = labels == k\n",
    "\n",
    "    xy = X[class_member_mask ]#& core_samples_mask]\n",
    "    xy_center=xy.mean(axis=0)\n",
    "    plt.plot(\n",
    "        xy[:, 0],\n",
    "        xy[:, 1],\n",
    "        \".\",\n",
    "        markerfacecolor=tuple(col),\n",
    "        markeredgecolor=\"k\",\n",
    "        markersize=20,\n",
    "    )\n",
    "    plt.plot(\n",
    "        xy_center[0],\n",
    "        xy_center[1],\n",
    "        \".\",\n",
    "        markerfacecolor=tuple(col),\n",
    "        markeredgecolor=\"k\",\n",
    "        markersize=50,\n",
    "    )\n",
    "\n",
    "    plt.text(\n",
    "        xy_center[0],\n",
    "        xy_center[1],\n",
    "        str(sum(class_member_mask)),\n",
    "        color = \"white\",\n",
    "        bbox=dict(\n",
    "            boxstyle=\"round\",\n",
    "            facecolor='black', \n",
    "            alpha=0.5\n",
    "        )\n",
    "    )\n",
    "\n",
    "    # xy = X[class_member_mask & ~core_samples_mask]\n",
    "    # plt.plot(\n",
    "    #     xy[:, 0],\n",
    "    #     xy[:, 1],\n",
    "    #     \".\",\n",
    "    #     markerfacecolor=tuple(col),\n",
    "    #     markeredgecolor=\"k\",\n",
    "    #     markersize=20,\n",
    "    # )\n",
    "\n",
    "plt.title(f\"Estimated number of clusters: {n_clusters_}\")\n",
    "plt.show()"
   ]
  },
  {
   "cell_type": "code",
   "execution_count": null,
   "metadata": {},
   "outputs": [],
   "source": [
    "smlm=pd.read_table(\"/Users/suestring/Desktop/Lab/Code/Hongyun/data/test/adducin_2.txt\",header=0)\n",
    "test=smlm[[\"Xc\",\"Yc\",\"Zc\"]]\n",
    "x0, x1, y0, y1 = 111, 117.4, 101, 107.4\n",
    "test1=test[(test[\"Xc\"]>=x0) & (test[\"Xc\"]<= x1) & (test[\"Yc\"]>= y0) & (test[\"Yc\"] <= y1)]\n",
    "plt.figure(figsize=(10,10))\n",
    "#plt.imshow(rendered)\n",
    "plt.scatter((test1[\"Xc\"]-111)*10,-(test1[\"Yc\"]-101)*10,marker=\"o\")"
   ]
  },
  {
   "cell_type": "code",
   "execution_count": null,
   "metadata": {},
   "outputs": [],
   "source": [
    "smlm=pd.read_table(\"/Users/suestring/Desktop/Lab/Code/Hongyun/data/test/adducin_2.txt\",header=0)\n",
    "test=smlm[[\"Xc\",\"Yc\",\"Zc\"]]\n",
    "x0, x1, y0, y1 = 110, 117.4, 100, 107.4\n",
    "test1=test[(test[\"Xc\"]>=x0) & (test[\"Xc\"]<= x1) & (test[\"Yc\"]>= y0) & (test[\"Yc\"] <= y1)]\n",
    "plt.figure(figsize=(10,10))\n",
    "#plt.imshow(rendered)\n",
    "plt.scatter((test1[\"Xc\"]-111)*10,-(test1[\"Yc\"]-101)*10,marker=\"o\")"
   ]
  },
  {
   "cell_type": "code",
   "execution_count": null,
   "metadata": {},
   "outputs": [],
   "source": [
    "#smlm=pd.read_table(\"/Users/suestring/Desktop/Lab/Code/Hongyun/data/STORM-AF647_0006_list_COR.txt\",header=0)\n",
    "#test=smlm[[\"Xc\",\"Yc\",\"Zc\"]]\n",
    "x0, x1, y0, y1 = 110.5, 116.9, 100.5, 106.9\n",
    "test1=test[(test[\"Xc\"]>=x0) & (test[\"Xc\"]<= x1) & (test[\"Yc\"]>= y0) & (test[\"Yc\"] <= y1)]\n",
    "plt.figure(figsize=(10,10))\n",
    "#plt.imshow(rendered)\n",
    "plt.scatter((test1[\"Xc\"]-111)*10,-(test1[\"Yc\"]-101)*10,marker=\".\")"
   ]
  },
  {
   "cell_type": "code",
   "execution_count": null,
   "metadata": {},
   "outputs": [],
   "source": [
    "test1[\"Zs\"]=test1[\"Zc\"]/160\n",
    "X=test1[[\"Xc\",\"Yc\"]].to_numpy()\n",
    "X1=test1[[\"Xc\",\"Yc\",\"Zs\"]].to_numpy()\n",
    "db=HDBSCAN(min_cluster_size=20, max_cluster_size=90, min_samples=1, n_jobs=-1).fit(X1)\n",
    "labels=db.labels_\n",
    "n_clusters_ = len(set(labels)) - (1 if -1 in labels else 0)\n",
    "n_noise_ = list(labels).count(-1)\n",
    "\n",
    "print(\"Estimated number of clusters: %d\" % n_clusters_)\n",
    "print(\"Estimated number of noise points: %d\" % n_noise_)\n",
    "\n",
    "uniq_labels=set(labels)\n",
    "#core_samples_mask = np.zeros_like(labels, dtype=bool)\n",
    "#core_samples_mask[db.core_sample_indices_] = True\n",
    "plt.figure(figsize=(20,20))\n",
    "plt.scatter(test1[\"Xc\"],test1[\"Yc\"],marker=\".\")\n",
    "\n",
    "colors = [plt.cm.Spectral(each) for each in np.linspace(0, 1, len(uniq_labels))]\n",
    "for k, col in zip(uniq_labels, colors):\n",
    "    if k == -1:\n",
    "        # Black used for noise.\n",
    "        col = [0, 0, 0, 1]\n",
    "        class_member_mask = labels == k\n",
    "\n",
    "        xy = X[class_member_mask]\n",
    "        #xy_center=xy.mean(axis=0)\n",
    "        plt.plot(\n",
    "            xy[:, 0],\n",
    "            xy[:, 1],\n",
    "            \".\",\n",
    "            markerfacecolor=tuple(col),\n",
    "            markeredgecolor=\"k\",\n",
    "            markersize=10,\n",
    "        )\n",
    "        continue\n",
    "\n",
    "    class_member_mask = labels == k\n",
    "\n",
    "    xy = X[class_member_mask ]#& core_samples_mask]\n",
    "    xy_center=xy.mean(axis=0)\n",
    "    plt.plot(\n",
    "        xy[:, 0],\n",
    "        xy[:, 1],\n",
    "        \".\",\n",
    "        markerfacecolor=tuple(col),\n",
    "        markeredgecolor=\"k\",\n",
    "        markersize=20,\n",
    "    )\n",
    "    plt.plot(\n",
    "        xy_center[0],\n",
    "        xy_center[1],\n",
    "        \".\",\n",
    "        markerfacecolor=tuple(col),\n",
    "        markeredgecolor=\"k\",\n",
    "        markersize=50,\n",
    "    )\n",
    "\n",
    "    plt.text(\n",
    "        xy_center[0],\n",
    "        xy_center[1],\n",
    "        str(sum(class_member_mask)),\n",
    "        color = \"white\",\n",
    "        bbox=dict(\n",
    "            boxstyle=\"round\",\n",
    "            facecolor='black', \n",
    "            alpha=0.5\n",
    "        )\n",
    "    )\n",
    "\n",
    "    # xy = X[class_member_mask & ~core_samples_mask]\n",
    "    # plt.plot(\n",
    "    #     xy[:, 0],\n",
    "    #     xy[:, 1],\n",
    "    #     \".\",\n",
    "    #     markerfacecolor=tuple(col),\n",
    "    #     markeredgecolor=\"k\",\n",
    "    #     markersize=20,\n",
    "    # )\n",
    "\n",
    "plt.title(f\"Estimated number of clusters: {n_clusters_}\")\n",
    "plt.gca().invert_yaxis()\n",
    "plt.show()"
   ]
  },
  {
   "cell_type": "code",
   "execution_count": null,
   "metadata": {},
   "outputs": [],
   "source": [
    "X=test1[[\"Xc\",\"Yc\"]].to_numpy()\n",
    "db=DBSCAN(eps=0.5,min_samples=1, n_jobs=-1).fit(X)\n",
    "labels=db.labels_\n",
    "n_clusters_ = len(set(labels)) - (1 if -1 in labels else 0)\n",
    "n_noise_ = list(labels).count(-1)\n",
    "\n",
    "print(\"Estimated number of clusters: %d\" % n_clusters_)\n",
    "print(\"Estimated number of noise points: %d\" % n_noise_)\n",
    "\n",
    "uniq_labels=set(labels)\n",
    "#core_samples_mask = np.zeros_like(labels, dtype=bool)\n",
    "#core_samples_mask[db.core_sample_indices_] = True\n",
    "plt.figure(figsize=(20,20))\n",
    "plt.scatter(test1[\"Xc\"],test1[\"Yc\"],marker=\".\")\n",
    "\n",
    "colors = [plt.cm.Spectral(each) for each in np.linspace(0, 1, len(uniq_labels))]\n",
    "for k, col in zip(uniq_labels, colors):\n",
    "    if k == -1:\n",
    "        # Black used for noise.\n",
    "        col = [0, 0, 0, 1]\n",
    "        class_member_mask = labels == k\n",
    "\n",
    "        xy = X[class_member_mask]\n",
    "        #xy_center=xy.mean(axis=0)\n",
    "        plt.plot(\n",
    "            xy[:, 0],\n",
    "            xy[:, 1],\n",
    "            \".\",\n",
    "            markerfacecolor=tuple(col),\n",
    "            markeredgecolor=\"k\",\n",
    "            markersize=10,\n",
    "        )\n",
    "        continue\n",
    "\n",
    "    class_member_mask = labels == k\n",
    "\n",
    "    xy = X[class_member_mask ]#& core_samples_mask]\n",
    "    xy_center=xy.mean(axis=0)\n",
    "    plt.plot(\n",
    "        xy[:, 0],\n",
    "        xy[:, 1],\n",
    "        \".\",\n",
    "        markerfacecolor=tuple(col),\n",
    "        markeredgecolor=\"k\",\n",
    "        markersize=20,\n",
    "    )\n",
    "    plt.plot(\n",
    "        xy_center[0],\n",
    "        xy_center[1],\n",
    "        \".\",\n",
    "        markerfacecolor=tuple(col),\n",
    "        markeredgecolor=\"k\",\n",
    "        markersize=50,\n",
    "    )\n",
    "\n",
    "    plt.text(\n",
    "        xy_center[0],\n",
    "        xy_center[1],\n",
    "        str(sum(class_member_mask)),\n",
    "        color = \"white\",\n",
    "        bbox=dict(\n",
    "            boxstyle=\"round\",\n",
    "            facecolor='black', \n",
    "            alpha=0.5\n",
    "        )\n",
    "    )\n",
    "\n",
    "    # xy = X[class_member_mask & ~core_samples_mask]\n",
    "    # plt.plot(\n",
    "    #     xy[:, 0],\n",
    "    #     xy[:, 1],\n",
    "    #     \".\",\n",
    "    #     markerfacecolor=tuple(col),\n",
    "    #     markeredgecolor=\"k\",\n",
    "    #     markersize=20,\n",
    "    # )\n",
    "\n",
    "plt.title(f\"Estimated number of clusters: {n_clusters_}\")\n",
    "plt.show()"
   ]
  },
  {
   "cell_type": "code",
   "execution_count": null,
   "metadata": {},
   "outputs": [],
   "source": [
    "rendered = cv2.imread(\"/Users/suestring/Desktop/Lab/Code/Hongyun/data/test/1D/adducin_2_111_101_64.png\",-1)\n",
    "plt.figure(figsize=(20,20))\n",
    "plt.imshow(rendered)"
   ]
  },
  {
   "cell_type": "code",
   "execution_count": null,
   "metadata": {},
   "outputs": [],
   "source": [
    "from scipy import ndimage as ndi\n",
    "import matplotlib.pyplot as plt\n",
    "from skimage.feature import peak_local_max\n",
    "from skimage import data, img_as_float"
   ]
  },
  {
   "cell_type": "code",
   "execution_count": null,
   "metadata": {},
   "outputs": [],
   "source": [
    "image_max = ndi.maximum_filter(rendered, size=3, mode='constant')\n",
    "coordinates = peak_local_max(rendered, min_distance=3)\n",
    "fig, axes = plt.subplots(1, 3, figsize=(8, 3), sharex=True, sharey=True)\n",
    "ax = axes.ravel()\n",
    "ax[0].imshow(rendered, cmap=plt.cm.gray)\n",
    "ax[0].axis('off')\n",
    "ax[0].set_title('Original')\n",
    "\n",
    "ax[1].imshow(image_max, cmap=plt.cm.gray)\n",
    "ax[1].axis('off')\n",
    "ax[1].set_title('Maximum filter')\n",
    "\n",
    "#ax[2].imshow(rendered, cmap=plt.cm.gray)\n",
    "ax[2].autoscale(False)\n",
    "ax[2].plot(coordinates[:, 1], coordinates[:, 0], 'r.')\n",
    "ax[2].axis('off')\n",
    "ax[2].set_title('Peak local max')\n",
    "\n",
    "fig.tight_layout()\n",
    "\n",
    "plt.show()"
   ]
  },
  {
   "cell_type": "code",
   "execution_count": null,
   "metadata": {},
   "outputs": [],
   "source": [
    "coordinates"
   ]
  },
  {
   "cell_type": "code",
   "execution_count": null,
   "metadata": {},
   "outputs": [],
   "source": []
  }
 ],
 "metadata": {
  "kernelspec": {
   "display_name": "Python 3 (ipykernel)",
   "language": "python",
   "name": "python3"
  },
  "language_info": {
   "codemirror_mode": {
    "name": "ipython",
    "version": 3
   },
   "file_extension": ".py",
   "mimetype": "text/x-python",
   "name": "python",
   "nbconvert_exporter": "python",
   "pygments_lexer": "ipython3",
   "version": "3.9.19"
  }
 },
 "nbformat": 4,
 "nbformat_minor": 2
}
