{
 "cells": [
  {
   "cell_type": "code",
   "execution_count": null,
   "metadata": {},
   "outputs": [],
   "source": [
    "import os, sys, re, cv2\n",
    "import matplotlib.pyplot as plt\n",
    "import numpy as np\n",
    "import seaborn as sns\n",
    "import pandas as pd\n",
    "import glob\n",
    "import scipy\n",
    "from PIL import Image\n",
    "import matplotlib.backends.backend_pdf\n",
    "from scipy.spatial import distance_matrix\n",
    "\n",
    "\n",
    "from scipy.signal import correlate2d, fftconvolve\n",
    "from numpy import flip, arange, reshape\n",
    "from matplotlib.patches import Rectangle\n",
    "from scipy import ndimage\n",
    "from sklearn.manifold import TSNE\n",
    "from sklearn import metrics\n",
    "from sklearn.cluster import DBSCAN, HDBSCAN\n",
    "plt.rcParams['image.cmap'] = 'gray'\n",
    "from render2D import grid2D\n",
    "from scipy.ndimage import maximum_filter\n",
    "from scipy.spatial import Delaunay, Voronoi, voronoi_plot_2d\n",
    "import pointpats\n",
    "\n",
    "from utils import *"
   ]
  },
  {
   "cell_type": "code",
   "execution_count": null,
   "metadata": {},
   "outputs": [],
   "source": [
    "soma = cv2.imread(\"../data/rendered/soma/1226_5.png\")\n",
    "plt.figure(figsize=[10,10])\n",
    "plt.imshow(soma[700:1500,1000:1900])\n",
    "#soma"
   ]
  },
  {
   "cell_type": "markdown",
   "metadata": {},
   "source": [
    "# Functions"
   ]
  },
  {
   "cell_type": "markdown",
   "metadata": {},
   "source": [
    "## Preprocess the image to localizations"
   ]
  },
  {
   "cell_type": "code",
   "execution_count": null,
   "metadata": {},
   "outputs": [],
   "source": [
    "def adapt_cluster(img):\n",
    "    gray = cv2.cvtColor(img, cv2.COLOR_BGR2GRAY)\n",
    "    local = 3\n",
    "    th=cv2.adaptiveThreshold(gray, 255, cv2.ADAPTIVE_THRESH_GAUSSIAN_C, cv2.THRESH_BINARY, local, 0)\n",
    "    contours,_ = cv2.findContours(th,cv2.RETR_EXTERNAL, cv2.CHAIN_APPROX_NONE)\n",
    "    contour_centers = np.zeros([len(contours),2])\n",
    "    for i in range(len(contours)):\n",
    "        contour_centers[i] = contours[i].reshape([-1,2]).mean(axis=0)\n",
    "    \n",
    "    plt.figure(figsize=[20,20])\n",
    "    plt.imshow(img)\n",
    "    plt.plot(\n",
    "        contour_centers[:, 0],\n",
    "        contour_centers[:, 1],\n",
    "        \".\",\n",
    "        markerfacecolor=\"purple\",\n",
    "        markersize=10,\n",
    "    )\n",
    "    return contour_centers\n",
    "\n",
    "def autocontrast(img, thre=5):\n",
    "    '''\n",
    "    img is a one-channel image\n",
    "    thre in 0-100\n",
    "    '''\n",
    "    up = np.percentile(img,100-thre)\n",
    "    low = np.percentile(img,thre)\n",
    "    #print(up, low)\n",
    "    img = 255*(img-low)/(up-low)\n",
    "    img[img>255]=255\n",
    "    img[img<0]=0\n",
    "    return img.astype(np.uint8)\n",
    "\n",
    "def lmax_loc(loc_file, regions, rimg, adapt=55, local=7, plot=0, verbose=0, sm=4):\n",
    "    if loc_file is not None:\n",
    "        smlm=pd.read_table(loc_file,header=0)\n",
    "        test=smlm[[\"Xc\",\"Yc\",\"Zc\"]]\n",
    "        img = np.zeros([regions[1]-regions[0], regions[3]-regions[2]],dtype=np.int32)\n",
    "\n",
    "        xc=test[\"Xc\"].tolist()\n",
    "        yc=test[\"Yc\"].tolist()\n",
    "        xc=np.array([ int(x*10-regions[0]) for x in xc]).astype(np.int32)-5\n",
    "        yc=np.array([ int(x*10-regions[2]) for x in yc]).astype(np.int32)-5\n",
    "        img=grid2D(img,xc,yc,regions[1]-regions[0], regions[3]-regions[2],len(xc))\n",
    "        img=np.array(img)\n",
    "    else:\n",
    "        if len(rimg.shape)==3:\n",
    "            img=cv2.cvtColor(rimg, cv2.COLOR_BGR2GRAY)\n",
    "        img=rimg.T\n",
    "    plt.figure(figsize=[20,20])\n",
    "    blur=autocontrast(img.T)\n",
    "    blur=cv2.blur(blur,(4,4))\n",
    "    #blur=fftconvolve(img.T,cv2.getStructuringElement(cv2.MORPH_ELLIPSE , (3,3)), mode='same')\n",
    "    #blur=(255*blur/np.max(blur)).astype(np.uint8)\n",
    "    th=cv2.adaptiveThreshold(blur, 255, cv2.ADAPTIVE_THRESH_GAUSSIAN_C, cv2.THRESH_BINARY, adapt, 0)\n",
    "    #th1=cv2.threshold(blur.astype(np.uint8), 0, 255, cv2.THRESH_BINARY+cv2.THRESH_OTSU)[1]\n",
    "    # filter out the small ones\n",
    "    kernel=np.ones([sm,sm])\n",
    "    th1=cv2.erode(th,kernel)\n",
    "    th2=cv2.dilate(th1,kernel)\n",
    "    lmax = blur*(blur == maximum_filter(blur, footprint=np.ones((local,local))))\n",
    "    #plt.figure(figsize=[20,20])\n",
    "    #plt.imshow(th)\n",
    "    #cell_mask = getCellMask(blur)\n",
    "    contours,_ = cv2.findContours(lmax.astype(np.uint8)&th2,cv2.RETR_EXTERNAL, cv2.CHAIN_APPROX_NONE)\n",
    "    contour_centers = np.zeros([len(contours),2])\n",
    "    for i in range(len(contours)):\n",
    "        contour_centers[i] = contours[i].reshape([-1,2]).mean(axis=0)\n",
    "\n",
    "    if plot==1:\n",
    "        plt.figure(figsize=[20,20])\n",
    "        #plt.imshow(blur)\n",
    "        plt.imshow(rimg)\n",
    "        plt.plot(\n",
    "            contour_centers[:, 0],\n",
    "            contour_centers[:, 1],\n",
    "            \".\",\n",
    "            markerfacecolor=\"purple\",\n",
    "            markersize=10,\n",
    "        )\n",
    "    if verbose==1:\n",
    "        plt.figure()\n",
    "        plt.subplots(2,3)\n",
    "        i=0\n",
    "        for timg in [img.T, blur, th, th1, th2, lmax]:\n",
    "            i+=1\n",
    "            plt.subplot(2,3,i)\n",
    "            plt.imshow(timg)\n",
    "    # plt.figure(figsize=[20,20])\n",
    "    # #plt.imshow(blur)\n",
    "    # plt.imshow(img.T)\n",
    "    # plt.plot(\n",
    "    #     contour_centers[:, 0],\n",
    "    #     contour_centers[:, 1],\n",
    "    #     \".\",\n",
    "    #     markerfacecolor=\"purple\",\n",
    "    #     markersize=10,\n",
    "    # )\n",
    "    return blur,contour_centers\n",
    "\n",
    "\n",
    "def dbscan(loc_file, regions, rimg, min_c=10, max_c=100):\n",
    "    smlm=pd.read_table(loc_file,header=0)\n",
    "    test=smlm[[\"Xc\",\"Yc\"]]#,\"Zc\"]]\n",
    "    #img = np.zeros([regions[1]-regions[0], regions[3]-regions[2]],dtype=np.int32)    \n",
    "    xc=test[\"Xc\"].tolist()\n",
    "    yc=test[\"Yc\"].tolist()\n",
    "    xc=np.array([ (x*10-regions[0]) for x in xc])-5\n",
    "    yc=np.array([ (x*10-regions[2]) for x in yc])-5\n",
    "    X=np.stack((xc,yc),axis=-1)\n",
    "    X = np.array([xy for xy in X if xy[0] > 0 and xy[0] < regions[1]-regions[0] and xy[1] > 0 and xy[1] < regions[3]-regions[2]])\n",
    "    \n",
    "    db=HDBSCAN(min_cluster_size=min_c, max_cluster_size=max_c, min_samples=1, n_jobs=-1).fit(X)\n",
    "    labels=db.labels_\n",
    "    n_clusters_ = len(set(labels)) - (1 if -1 in labels else 0)\n",
    "    n_noise_ = list(labels).count(-1)\n",
    "\n",
    "    print(\"Estimated number of clusters: %d\" % n_clusters_)\n",
    "    print(\"Estimated number of noise points: %d\" % n_noise_)\n",
    "\n",
    "    uniq_labels=set(labels)\n",
    "    #core_samples_mask = np.zeros_like(labels, dtype=bool)\n",
    "    #core_samples_mask[db.core_sample_indices_] = True\n",
    "    plt.figure(figsize=(20,20))\n",
    "    plt.scatter(X[:,0],X[:,1],marker=\".\")\n",
    "\n",
    "    colors = [plt.cm.Spectral(each) for each in np.linspace(0, 1, len(uniq_labels))]\n",
    "    for k, col in zip(uniq_labels, colors):\n",
    "        if k == -1:\n",
    "            # Black used for noise.\n",
    "            col = [0, 0, 0, 1]\n",
    "            class_member_mask = labels == k\n",
    "\n",
    "            xy = X[class_member_mask]\n",
    "            #xy_center=xy.mean(axis=0)\n",
    "            plt.plot(\n",
    "                xy[:, 0],\n",
    "                xy[:, 1],\n",
    "                \".\",\n",
    "                markerfacecolor=tuple(col),\n",
    "                markeredgecolor=\"k\",\n",
    "                markersize=10,\n",
    "            )\n",
    "            continue\n",
    "\n",
    "        class_member_mask = labels == k\n",
    "\n",
    "        xy = X[class_member_mask]#& core_samples_mask]\n",
    "        xy_center=xy.mean(axis=0)\n",
    "        plt.plot(\n",
    "            xy[:, 0],\n",
    "            xy[:, 1],\n",
    "            \".\",\n",
    "            markerfacecolor=tuple(col),\n",
    "            markeredgecolor=\"k\",\n",
    "            markersize=20,\n",
    "        )\n",
    "        plt.plot(\n",
    "            xy_center[0],\n",
    "            xy_center[1],\n",
    "            \".\",\n",
    "            markerfacecolor=tuple(col),\n",
    "            markeredgecolor=\"k\",\n",
    "            markersize=50,\n",
    "        )\n",
    "\n",
    "        plt.text(\n",
    "            xy_center[0],\n",
    "            xy_center[1],\n",
    "            str(sum(class_member_mask)),\n",
    "            color = \"white\",\n",
    "            bbox=dict(\n",
    "                boxstyle=\"round\",\n",
    "                facecolor='black', \n",
    "                alpha=0.5\n",
    "            )\n",
    "        )\n",
    "\n",
    "        # xy = X[class_member_mask & ~core_samples_mask]\n",
    "        # plt.plot(\n",
    "        #     xy[:, 0],\n",
    "        #     xy[:, 1],\n",
    "        #     \".\",\n",
    "        #     markerfacecolor=tuple(col),\n",
    "        #     markeredgecolor=\"k\",\n",
    "        #     markersize=20,\n",
    "        # )\n",
    "\n",
    "    plt.title(f\"Estimated number of clusters: {n_clusters_}\")\n",
    "    plt.show()\n",
    "    plt.figure(figsize=[20,20])\n",
    "    plt.imshow(rimg)\n",
    "    uniq_labels=set(labels)\n",
    "    xy_centers=[]\n",
    "    for k, col in zip(uniq_labels, colors):\n",
    "        class_member_mask = labels == k\n",
    "\n",
    "        xy = X[class_member_mask]#& core_samples_mask]\n",
    "        xy_center=xy.mean(axis=0)\n",
    "        plt.plot(\n",
    "            xy_center[0],\n",
    "            xy_center[1],\n",
    "            \".\",\n",
    "            markerfacecolor=\"purple\",\n",
    "            markersize=10,\n",
    "        )\n",
    "        xy_centers.append(xy_center)\n",
    "    return xy_centers"
   ]
  },
  {
   "cell_type": "markdown",
   "metadata": {},
   "source": [
    "## Link related functions"
   ]
  },
  {
   "cell_type": "code",
   "execution_count": null,
   "metadata": {},
   "outputs": [],
   "source": [
    "def convertMatrix2List(links):\n",
    "    n_vx = len(links)\n",
    "    link_list = []\n",
    "    for i in range(n_vx):\n",
    "        for j in range(i+1,n_vx):\n",
    "            if links[i][j] == 1:\n",
    "                link_list.append([i,j])\n",
    "    return link_list\n",
    "\n",
    "def convertList2Matrix(link_list):\n",
    "    n_vx = np.max(sum(link_list, []))+1\n",
    "    links = np.zeros([n_vx,n_vx])\n",
    "    for link in link_list:\n",
    "        links[link[0]][link[1]]=links[link[1]][link[0]]=1\n",
    "    return links\n",
    "\n",
    "\n",
    "def getTrianglesFromList(link_list):\n",
    "    if len(link_list) == 0:\n",
    "        return []\n",
    "    n_vx = np.max(sum(link_list, []))+1\n",
    "    links = convertList2Matrix(link_list)\n",
    "    tri_list = []\n",
    "    for link in link_list:\n",
    "        for i in range(n_vx):\n",
    "            if i in link:\n",
    "                continue\n",
    "            if links[i][link[0]] == 1 and links[i][link[1]] == 1:\n",
    "                if [ link[0], link[1], i ] not in tri_list and [ link[1], link[0], i ] not in tri_list and [ link[1], i, link[0] ] not in tri_list and [link[0], i, link[1]] not in tri_list:\n",
    "                    tri_list.append([i, link[0], link[1]])\n",
    "                    \n",
    "    return tri_list\n",
    "\n",
    "def visualize(vxs, links):\n",
    "    plt.figure(figsize=[10,10])\n",
    "    vxs=np.array(vxs)\n",
    "    n_vx=len(vxs)\n",
    "    plt.plot(\n",
    "        vxs[:, 0],\n",
    "        vxs[:, 1],\n",
    "        \".\",\n",
    "        markerfacecolor=\"purple\",\n",
    "        markersize=10,\n",
    "    )\n",
    "    for i in range(n_vx):\n",
    "        for j in range(i+1, n_vx):\n",
    "            if links[i][j]==1:\n",
    "                plt.plot([vxs[i][0],vxs[j][0]],[vxs[i][1],vxs[j][1]], color=\"r\")\n",
    "    return 1\n",
    "\n",
    "\n",
    "def getTrianglesCentroid(tri_list, vxs):\n",
    "    return [(vxs[tri[0]]+vxs[tri[1]]+vxs[tri[2]]) / 3 for tri in tri_list]\n",
    "        \n",
    "def getTrianglesCircumcenter(tri):\n",
    "    ax = tri[0][0]\n",
    "    ay = tri[0][1]\n",
    "    bx = tri[1][0]\n",
    "    by = tri[1][1]\n",
    "    cx = tri[2][0]\n",
    "    cy = tri[2][1]\n",
    "    \n",
    "    d = 2 * (ax * (by - cy) + bx * (cy - ay) + cx * (ay - by))\n",
    "    ux = ((ax * ax + ay * ay) * (by - cy) + (bx * bx + by * by) * (cy - ay) + (cx * cx + cy * cy) * (ay - by)) / d\n",
    "    uy = ((ax * ax + ay * ay) * (cx - bx) + (bx * bx + by * by) * (ax - cx) + (cx * cx + cy * cy) * (bx - ax)) / d\n",
    "    return [ux, uy]\n",
    "\n",
    "def performance(test, gt):\n",
    "    correct = test[test==gt]\n",
    "    wrong = test[test!=gt]\n",
    "    FP = sum(wrong)/2\n",
    "    TP = sum(correct)/2\n",
    "    TN = len(correct)/2-TP\n",
    "    FN = len(wrong)/2-FP\n",
    "    precision = TP/(TP+FP)\n",
    "    recall = TP/(TP+FN)\n",
    "    accuracy = (TP+TN)/(TP+TN+FP+FN)\n",
    "    return(accuracy, precision, recall)\n",
    "\n",
    "def generateLinks(vxs, img=None, thre=100, plot=1):\n",
    "    # first step\n",
    "    n_vx = len(vxs)\n",
    "    tri = Delaunay(vxs)\n",
    "    small_tri = [ x for x in tri.simplices if np.linalg.norm(vxs[x[0]]-vxs[x[1]])<= thre and np.linalg.norm(vxs[x[2]]-vxs[x[1]])<= thre and np.linalg.norm(vxs[x[0]]-vxs[x[2]])<= thre]\n",
    "    links = np.zeros([n_vx, n_vx])\n",
    "    for x in small_tri:\n",
    "        links[x[0]][x[1]]=links[x[1]][x[0]]=links[x[0]][x[2]]=links[x[2]][x[0]]=links[x[1]][x[2]]=links[x[2]][x[1]]=1\n",
    "    if plot:\n",
    "        plt.figure(figsize=[10,10])\n",
    "        if img:\n",
    "            plt.imshow(img)\n",
    "        plt.triplot(vxs[:,0],vxs[:,1],small_tri, c=\"g\")\n",
    "    return links\n",
    "\n",
    "def HeatmapOfTris(vxs, tri_list, grid_size=64, steps=16):\n",
    "    xn, yn = np.max(vxs, axis=0)\n",
    "    tri_cents = getTrianglesCentroid(tri_list, vxs)\n",
    "    x_l = [ x for x in range(0,int(xn)-grid_size+1, steps)]\n",
    "    y_l = [ y for y in range(0,int(yn)-grid_size+1, steps)]\n",
    "    heatmap = np.zeros([len(x_l), len(y_l)])\n",
    "    for i in range(len(x_l)):\n",
    "        for j in range(len(y_l)):\n",
    "            xi = x_l[i]\n",
    "            yj = y_l[j]\n",
    "            sub_tris = [ tri for tri in tri_cents if tri[0]>=xi and tri[0]<xi+steps and tri[1]>=yj and tri[1]<yj+steps ]\n",
    "            heatmap[i,j] = len(sub_tris)\n",
    "    return heatmap\n",
    "\n",
    "def Ripley_k(vxs, d):\n",
    "    num_d = len(d)\n",
    "    n_vx = len(vxs)\n",
    "    k = np.zeros(num_d)\n",
    "    dist_matrix = distance_matrix(vxs, vxs)\n",
    "    bbox = np.max(vxs, axis=0)-np.min(vxs, axis=0)\n",
    "    area = bbox[0]*bbox[1]    \n",
    "    for i in range(num_d):\n",
    "        k[i] = (np.sum(dist_matrix < d[i])-n_vx) / n_vx**2 * area\n",
    "    return k\n",
    "\n",
    "def Heatmaps(vxs, grid_size=64, steps=16, method=\"default\", links=None, xyrange=None, **args):\n",
    "    if not xyrange:\n",
    "        xn, yn = np.max(vxs, axis=0)\n",
    "    else: \n",
    "        xn, yn = xyrange\n",
    "    n_vx = len(vxs)\n",
    "    x_l = [ x for x in range(0,int(xn)-grid_size+1, steps)]\n",
    "    y_l = [ y for y in range(0,int(yn)-grid_size+1, steps)]\n",
    "    heatmap = np.zeros([len(x_l), len(y_l)])\n",
    "    if method == \"connects\":\n",
    "        connects = np.sum(links, 0)\n",
    "    elif method == \"tris\":\n",
    "        tri_list = getTrianglesFromList(convertMatrix2List(links))\n",
    "        vxs = getTrianglesCentroid(tri_list, vxs)\n",
    "        n_vx = len(vxs)\n",
    "    for i in range(len(x_l)):\n",
    "        for j in range(len(y_l)):\n",
    "            xi = x_l[i]\n",
    "            yj = y_l[j]\n",
    "            # range_xy = [xi, xi+steps, yj, yj+steps]\n",
    "            sub_i=[ i for i in range(n_vx) if vxs[i][0]>=xi and vxs[i][0]<xi+grid_size and vxs[i][1]>=yj and vxs[i][1]<yj+grid_size]\n",
    "            if not sub_i:\n",
    "                continue\n",
    "            if method == \"ripley\":\n",
    "                sub_vxs = [vxs[i] for i in sub_i]\n",
    "                heatmap[i,j] = Ripley_k(sub_vxs, **args)\n",
    "            elif method == \"default\" or method == \"density\":\n",
    "                heatmap[i,j] = len(sub_i)\n",
    "            elif method == \"voronoi_vc\":\n",
    "                sub_vxs = [vxs[i] for i in sub_i]\n",
    "                heatmap[i,j] = Voronoi_cv(sub_vxs, **args)\n",
    "            elif method == \"voronoi_edges\":\n",
    "                sub_vxs = [vxs[i] for i in sub_i]\n",
    "                heatmap[i,j] = Voronoi_edges(sub_vxs, **args)\n",
    "            elif method == \"radial_distribution\":\n",
    "                sub_vxs = [vxs[i] for i in sub_i]\n",
    "                heatmap[i,j] = plotPairCorrelationFunction(sub_vxs, grid_size, rMax=300/16, dr=1, plot=0)\n",
    "            elif method == \"connects\":\n",
    "                heatmap[i,j] = np.mean([connects[i] for i in sub_i])\n",
    "            elif method == \"tris\":\n",
    "                heatmap[i,j] = len(sub_i)\n",
    "    return heatmap\n",
    "\n",
    "def polygon_area(vxs):\n",
    "    vxs = vxs.T\n",
    "    x=vxs[0]\n",
    "    y=vxs[1]\n",
    "    correction = x[-1] * y[0] - y[-1]* x[0]\n",
    "    main_area = np.dot(x[:-1], y[1:]) - np.dot(y[:-1], x[1:])\n",
    "    return 0.5*np.abs(main_area + correction)\n",
    "\n",
    "def Voronoi_cv(vxs):\n",
    "    vor = Voronoi(vxs)\n",
    "\n",
    "    # Analyze Voronoi cells\n",
    "    regions = [vor.vertices[region] for region in vor.regions if -1 not in region and len(region) > 0]\n",
    "    areas = [polygon_area(region) for region in regions]\n",
    "\n",
    "    # Calculate coefficient of variation (CV) of cell areas\n",
    "    mean_area = np.mean(areas)\n",
    "    std_area = np.std(areas)\n",
    "    cv_area = std_area / mean_area\n",
    "    return cv_area\n",
    "\n",
    "def Voronoi_edges(vxs):\n",
    "    vor = Voronoi(vxs)\n",
    "    # Average number of edges per cell\n",
    "    num_edges = [len(region) for region in vor.regions if -1 not in region and len(region) > 0]\n",
    "    avg_num_edges = np.mean(num_edges)\n",
    "    return avg_num_edges\n",
    "\n",
    "# TODO: improve reduceLink!\n",
    "def reduceLink(links, vxs, len_unstretched=50):\n",
    "    balance, total_balance = plotBalance(links, vxs, 0, len_unstretched)\n",
    "    n_links = links.copy()\n",
    "    while True:\n",
    "        # generate the improvement matrix\n",
    "        improve_links=np.zeros(links.shape)\n",
    "        for i in range(n_vx):\n",
    "            # can be optimized by store max_improve and only the max_improve point\n",
    "            for j in range(i+1, n_vx):\n",
    "                if links[i][j]==1:\n",
    "                    tmp_dist = np.linalg.norm(vxs[i]-vxs[j])\n",
    "                    tmp_angle=angle_of_line(vxs[i],vxs[j])\n",
    "                    if tmp_dist > len_unstretched:\n",
    "                        tmp_b0=balance[i][0]-(tmp_dist-len_unstretched)*math.cos(tmp_angle)\n",
    "                        tmp_b1=balance[i][1]-(tmp_dist-len_unstretched)*math.sin(tmp_angle)\n",
    "                        tmp_b2=balance[j][0]-(tmp_dist-len_unstretched)*math.cos(tmp_angle)\n",
    "                        tmp_b3=balance[j][1]-(tmp_dist-len_unstretched)*math.sin(tmp_angle)\n",
    "                        tmp_improve = total_balance[i]+total_balance[j] - tmp_b0**2+tmp_b1**2+tmp_b2**2+tmp_b3**2\n",
    "                        if tmp_improve > 0:\n",
    "                            improve_links[i][j]=tmp_improve\n",
    "        affected_vxs=np.zeros(vxs.shape)\n",
    "    return(n_links)\n",
    "\n",
    "def HeatmapOfConnects(vxs, links, grid_size=64, steps=16):\n",
    "    # Average connnection number of vertex within the grid\n",
    "    xn, yn = np.max(vxs, axis=0)\n",
    "    n_vx = len(vxs)\n",
    "    connects = np.sum(links, 0)\n",
    "    x_l = [ x for x in range(0,int(xn)-grid_size+1, steps)]\n",
    "    y_l = [ y for y in range(0,int(yn)-grid_size+1, steps)]\n",
    "    heatmap = np.zeros([len(x_l), len(y_l)])\n",
    "    for i in range(len(x_l)):\n",
    "        for j in range(len(y_l)):\n",
    "            xi = x_l[i]\n",
    "            yj = y_l[j]\n",
    "            range_xy = [xi, xi+steps, yj, yj+steps]\n",
    "            sub_vxs=[ i for i in range(n_vx) if vxs[i][0]>=xi and vxs[i][0]<xi+steps and vxs[i][1]>=yj and vxs[i][1]<yj+steps]\n",
    "            if not sub_vxs:\n",
    "                continue\n",
    "            heatmap[i,j] = np.mean([connects[i] for i in sub_vxs])\n",
    "    return heatmap\n",
    "\n",
    "def AreaCoveredByTriangles(tri_list,vxs):\n",
    "    return np.sum([calculateTriArea2(vxs[tri[0]], vxs[tri[1]], vxs[tri[2]]) for tri in tri_list])\n",
    "\n",
    "def calculateTriArea(p0,p1,p2):\n",
    "    l1 = np.sqrt((p0[0] - p1[0])**2 + (p0[1] - p1[1])**2)\n",
    "    l2 = np.sqrt((p1[0] - p2[0])**2 + (p1[1] - p2[1])**2)\n",
    "    l3 = np.sqrt((p0[0] - p2[0])**2 + (p0[1] - p2[1])**2)\n",
    "    p = (l1 + l2 + l3)/2\n",
    "    return np.sqrt(p * (p - l1) * (p - l2) * (p - l3))\n",
    "\n",
    "def calculateTriArea2(p0,p1,p2):\n",
    "    return np.abs(0.5 * (p0[0] * (p1[1] - p2[1]) + p1[0] * (p2[1] - p0[1]) + p2[0]* (p0[1] - p1[1])))\n",
    "\n",
    "def AreaOfCell(img):\n",
    "    k_size=7\n",
    "    kernel = cv2.getStructuringElement(cv2.MORPH_ELLIPSE,(k_size,k_size))\n",
    "    tmp = cv2.dilate(img, kernel, 3)\n",
    "    contours = cv2.findContours(tmp.astype(np.uint8),cv2.RETR_EXTERNAL, cv2.CHAIN_APPROX_NONE)[0]\n",
    "    cell_thre=4000\n",
    "    cell=np.zeros(tmp.shape)\n",
    "    for cnt in contours:\n",
    "        if cv2.contourArea(cnt) > cell_thre:\n",
    "            cv2.drawContours(cell, [cnt], 0, 1, -1)\n",
    "    return cell, np.sum(cell)\n",
    "\n",
    "def getLargeTri(vxs, small_tri):\n",
    "    large_tri=[]\n",
    "    for stri in small_tri:\n",
    "        a = vxs[stri[0]]\n",
    "        b = vxs[stri[1]]\n",
    "        c = vxs[stri[2]]\n",
    "        large_tri.append(a+b-c)\n",
    "        large_tri.append(a+c-b)\n",
    "        large_tri.append(b+c-a)\n",
    "        #large_tri.append([a+b-c, a+c-b, b+c-a])\n",
    "\n",
    "    large_tri = np.array(large_tri)\n",
    "    plt.figure(figsize=[10,10])\n",
    "    plt.imshow(em)\n",
    "    plt.plot(\n",
    "        large_tri[:,0],\n",
    "        large_tri[:,1],\n",
    "        \".\",\n",
    "        markerfacecolor=\"purple\",\n",
    "        markersize=10,\n",
    "        )\n",
    "    return large_tri\n",
    "\n",
    "# TODO:\n",
    "def performance_vxs(vxs, gt, tolerance=1):\n",
    "    # For 2DC\n",
    "    # vxs sort\n",
    "    # gt sort\n",
    "    # compare and categorize\n",
    "    # get data\n",
    "    correct = test[test==gt]\n",
    "    wrong = test[test!=gt]\n",
    "    FP = sum(wrong)/2\n",
    "    TP = sum(correct)/2\n",
    "    TN = len(correct)/2-TP\n",
    "    FN = len(wrong)/2-FP\n",
    "    precision = TP/(TP+FP)\n",
    "    recall = TP/(TP+FN)\n",
    "    accuracy = (TP+TN)/(TP+TN+FP+FN)\n",
    "    return(accuracy, precision, recall)"
   ]
  },
  {
   "cell_type": "markdown",
   "metadata": {},
   "source": [
    "# Point pattern plots"
   ]
  },
  {
   "cell_type": "code",
   "execution_count": null,
   "metadata": {},
   "outputs": [],
   "source": [
    "def getCellBoundariesFromImg(img_path):\n",
    "    img = cv2.imread(img_path)\n",
    "    gray = cv2.cvtColor(img, cv2.COLOR_BGR2GRAY)\n",
    "    cell = getCellMask(gray)\n",
    "    contours = cv2.findContours(cell.astype(np.uint8),cv2.RETR_EXTERNAL, cv2.CHAIN_APPROX_NONE)[0]\n",
    "    bbox = []\n",
    "    n=0\n",
    "    for cnt in contours:\n",
    "        n+=1\n",
    "        y,x,h,w = cv2.boundingRect(cnt)\n",
    "        plt.gca().add_patch(Rectangle((y,x),h,w,linewidth=1,edgecolor='r',facecolor='none'))\n",
    "        plt.text(y+h/2, x+w/2, str(n),color=\"r\", fontsize=\"large\")\n",
    "        bbox.append([y,y+h,x,x+w])\n",
    "    return bbox\n",
    "\n",
    "def getCellMask(img):\n",
    "    blurred = cv2.GaussianBlur(img, (5, 5), 0)\n",
    "    th1 = cv2.threshold(blurred, 0, 255, cv2.THRESH_BINARY+cv2.THRESH_OTSU)[1]\n",
    "    iter_num = 3\n",
    "    k_size = 9\n",
    "    cell_thre = 50000\n",
    "    kernel = cv2.getStructuringElement(cv2.MORPH_ELLIPSE,(k_size,k_size))\n",
    "    dilated = cv2.dilate(th1,kernel,iterations = iter_num)\n",
    "    \n",
    "    contours = cv2.findContours(dilated.astype(np.uint8),cv2.RETR_EXTERNAL, cv2.CHAIN_APPROX_NONE)[0]\n",
    "    # drop the ones that don't connect the cell body\n",
    "    # which means only remain the ones that larger than cell body\n",
    "    cell=np.zeros(img.shape)\n",
    "    k_size = 7\n",
    "    kernel = cv2.getStructuringElement(cv2.MORPH_ELLIPSE,(k_size,k_size))\n",
    "    bbox = []\n",
    "    n=0\n",
    "    for cnt in contours:\n",
    "        if cv2.contourArea(cnt) > cell_thre:\n",
    "            cv2.drawContours(cell, [cnt], 0, 1, -1)\n",
    "    return cell\n",
    "\n",
    "def plot_ktest(vxs, support=(1,300,20), title=None,n_simulations=100):\n",
    "    test = pointpats.k_test(vxs, support = support,keep_simulations=True,n_simulations=n_simulations)\n",
    "    plt.figure(figsize=[10,10])\n",
    "    plt.plot(test.support, test.simulations.T, color='k', alpha=.01)\n",
    "    plt.plot(test.support, test.statistic, color='orangered')\n",
    "\n",
    "    plt.scatter(test.support, test.statistic, \n",
    "                cmap='viridis', c=test.pvalue < .05,\n",
    "                zorder=4 # make sure they plot on top\n",
    "            )\n",
    "\n",
    "    plt.xlabel('Distance(nm)')\n",
    "    plt.ylabel('K Function')\n",
    "    if title:\n",
    "        plt.title('K Function Plot of '+ title)\n",
    "    else:\n",
    "        plt.title('K Function Plot')\n",
    "    plt.show()\n",
    "\n",
    "def plot_ltest(vxs, support=(1,300,20), title=None, n_simulations=10):\n",
    "    test = pointpats.l_test(vxs, support = support,keep_simulations=True,n_simulations=n_simulations, linearized=True)\n",
    "    plt.figure(figsize=[10,10])\n",
    "    #r_data = np.repeat(test.support, n_simulations).reshape(-1,n_simulations)\n",
    "    plt.plot(test.support, test.simulations.T, color='k', alpha=.01)\n",
    "    plt.plot(test.support, test.statistic, color='orangered')\n",
    "\n",
    "    plt.scatter(test.support, test.statistic, \n",
    "                cmap='viridis', c=test.pvalue < .05,\n",
    "                zorder=4 # make sure they plot on top\n",
    "            )\n",
    "\n",
    "    plt.xlabel('Distance(nm)')\n",
    "    plt.ylabel('L Function')\n",
    "    if title:\n",
    "        plt.title('L Function Plot of '+ title)\n",
    "    else:\n",
    "        plt.title('L Function Plot')\n",
    "    plt.show()\n",
    "    return test.pvalue\n",
    "\n",
    "def plotPairCorrelationFunction(vxs, S, rMax=300, dr=1, plot=1):\n",
    "    \"\"\"Compute the two-dimensional pair correlation function, also known\n",
    "    as the radial distribution function, for a set of circular particles\n",
    "    contained in a square region of a plane.  This simple function finds\n",
    "    reference particles such that a circle of radius rMax drawn around the\n",
    "    particle will fit entirely within the square, eliminating the need to\n",
    "    compensate for edge effects.  If no such particles exist, an error is\n",
    "    returned. Try a smaller rMax...or write some code to handle edge effects! ;)\n",
    "\n",
    "    Arguments:\n",
    "        x               an array of x positions of centers of particles\n",
    "        y               an array of y positions of centers of particles\n",
    "        S               length of each side of the square region of the plane\n",
    "        rMax            outer diameter of largest annulus\n",
    "        dr              increment for increasing radius of annulus\n",
    "\n",
    "    Returns a tuple: (g, radii, interior_indices)\n",
    "        g(r)            a numpy array containing the correlation function g(r)\n",
    "        radii           a numpy array containing the radii of the\n",
    "                        annuli used to compute g(r)\n",
    "        reference_indices   indices of reference particles\n",
    "    \"\"\"\n",
    "    # Number of particles in ring/area of ring/number of reference particles/number density\n",
    "    # area of ring = pi*(r_outer**2 - r_inner**2)\n",
    "\n",
    "    # Find particles which are close enough to the box center that a circle of radius\n",
    "    # rMax will not cross any edge of the box\n",
    "    x = vxs[:,0]\n",
    "    y = vxs[:,1]\n",
    "    bools1 = x > rMax\n",
    "    bools2 = x < (S - rMax)\n",
    "    bools3 = y > rMax\n",
    "    bools4 = y < (S - rMax)\n",
    "    interior_indices, = np.where(bools1 * bools2 * bools3 * bools4)\n",
    "    num_interior_particles = len(interior_indices)\n",
    "\n",
    "    if num_interior_particles < 1:\n",
    "        raise  RuntimeError (\"No particles found for which a circle of radius rMax\\\n",
    "                will lie entirely within a square of side length S.  Decrease rMax\\\n",
    "                or increase the size of the square.\")\n",
    "\n",
    "    edges = np.arange(0., rMax + 1.1 * dr, dr)\n",
    "    num_increments = len(edges) - 1\n",
    "    g = np.zeros([num_interior_particles, num_increments])\n",
    "    radii = np.zeros(num_increments)\n",
    "    numberDensity = len(x) / S**2\n",
    "\n",
    "    # Compute pairwise correlation for each interior particle\n",
    "    for p in range(num_interior_particles):\n",
    "        index = interior_indices[p]\n",
    "        d = np.sqrt((x[index] - x)**2 + (y[index] - y)**2)\n",
    "        d[index] = 2 * rMax\n",
    "\n",
    "        (result, bins) = np.histogram(d, bins=edges)\n",
    "        g[p, :] = result/numberDensity\n",
    "\n",
    "    # Average g(r) for all interior particles and compute radii\n",
    "    g_average = np.zeros(num_increments)\n",
    "    for i in range(num_increments):\n",
    "        radii[i] = (edges[i] + edges[i+1]) / 2.\n",
    "        rOuter = edges[i + 1]\n",
    "        rInner = edges[i]\n",
    "        g_average[i] = np.mean(g[:, i]) / (np.pi * (rOuter**2 - rInner**2))\n",
    "\n",
    "    if plot==1:\n",
    "        plt.figure(figsize=[10,10])\n",
    "        plt.plot(radii,g_average)\n",
    "        plt.xlabel('Distance')\n",
    "        plt.ylabel('g(r)')\n",
    "        plt.title('Radial Distribution Function')\n",
    "        plt.axhline(y=1, color='r', linestyle='--', label=\"Complete Spatial Randomness\")\n",
    "    return (g_average, radii, interior_indices)\n",
    "\n",
    "\n",
    "def hist3KNN(vxs, bins=20):\n",
    "    labels=[\"First Nearest Neighbour\", \"Second Nearest Neighbour\", \"Third Nearest Neighbour\"]\n",
    "    dist = distance_matrix(vxs, vxs)\n",
    "    s_dist = np.sort(dist,axis=1)\n",
    "    plt.figure(figsize=[15,5])\n",
    "    for i in range(3):\n",
    "        plt.subplot(1,3,i+1)\n",
    "        plt.hist([s_dist[x,i+1] for x in range(len(vxs))], bins=bins)\n",
    "        plt.title(\"Distribution of \" + labels[i]+\" Distance\")\n",
    "        plt.xlabel(\"Distance(nm)\")\n",
    "        plt.ylabel(\"Counts\")\n",
    "    plt.figure(figsize=[10,10])\n",
    "    for i in range(3):\n",
    "        plt.hist([s_dist[x,i+1] for x in range(len(vxs))], bins=bins, alpha=0.5)\n",
    "        plt.legend(labels)\n",
    "    plt.figure(figsize=[10,10])\n",
    "    plt.title(\"Average Nearest Neighbour Distance\")\n",
    "    plt.xlabel(\"Neighbour Order\")\n",
    "    plt.ylabel(\"Distance(nm)\")\n",
    "    ann = np.mean(s_dist, axis=0)\n",
    "    plt.plot(ann[0:10])\n",
    "    return s_dist\n",
    "\n",
    "\n",
    "def plotAllStatsForVXS(vxs, lmax=300, title=None, dr=10, n=100):\n",
    "    # Nearest Neighbor Related stats: 1,2,3 and ANN in one function\n",
    "    _ = hist3KNN(vxs, bins=range(1, lmax, dr))\n",
    "\n",
    "    # Ripley's K related stats\n",
    "    plot_ktest(vxs,support=(1, lmax, dr),title=title, n_simulations=n)\n",
    "    plot_ltest(vxs,support=(1, lmax, dr),title=title, n_simulations=n) # distance-free\n",
    "\n",
    "    # Pair Correlation function\n",
    "    S = np.min(np.max(vxs, axis=0))\n",
    "    _ = plotPairCorrelationFunction(vxs, S, lmax, dr=dr)\n",
    "\n",
    "\n",
    "def plotAllStatsForLinks(vxs, links, lmax=300, title=None, dr=10, n=100):\n",
    "    link_list = convertMatrix2List(links)\n",
    "    tri_list = getTrianglesFromList(link_list)\n",
    "    tri_vxs = getTrianglesCentroid(tri_list, vxs)\n",
    "    plotAllStatsForVXS(tri_vxs, lmax=lmax, title=title, dr=dr, n=n)\n",
    "\n",
    "def simulateRandomStats(counts, grid_size=64, thre=14, rk_d=20, plot=0):\n",
    "    vxs = np.random.rand(counts,2)*grid_size\n",
    "    links = generateLinks(vxs, thre=thre, plot=0)\n",
    "    mean_connects = np.mean(np.sum(links, 0))\n",
    "    tris = len(getTrianglesFromList(convertMatrix2List(links)))\n",
    "    r_k = Ripley_k(vxs,[rk_d])\n",
    "    if plot==1:\n",
    "        visualize(vxs,links)\n",
    "    return mean_connects, tris, r_k[0]"
   ]
  },
  {
   "cell_type": "code",
   "execution_count": null,
   "metadata": {},
   "outputs": [],
   "source": [
    "density=Heatmaps(vxs)"
   ]
  },
  {
   "cell_type": "code",
   "execution_count": null,
   "metadata": {},
   "outputs": [],
   "source": [
    "def simulateRandomStats(counts, grid_size=64, thre=14, rk_d=20, plot=0):\n",
    "    vxs = np.random.rand(counts,2)*grid_size\n",
    "    links = generateLinks(vxs, thre=thre, plot=0)\n",
    "    mean_connects = np.mean(np.sum(links, 0))\n",
    "    tris = len(getTrianglesFromList(convertMatrix2List(links)))\n",
    "    r_k = Ripley_k(vxs,[rk_d])\n",
    "    if plot==1:\n",
    "        visualize(vxs,links)\n",
    "    return [mean_connects, tris, r_k[0]]\n",
    "\n",
    "table = np.zeros([3,60])\n",
    "for count in range(3,61):\n",
    "    for i in range(100):\n",
    "        tmp = simulateRandomStats(count,rk_d=5)\n",
    "        for j in range(3):\n",
    "            table[j,count-1]+=tmp[j]\n",
    "\n",
    "table/=100"
   ]
  },
  {
   "cell_type": "code",
   "execution_count": null,
   "metadata": {},
   "outputs": [],
   "source": [
    "plt.plot(table.T)"
   ]
  },
  {
   "cell_type": "code",
   "execution_count": null,
   "metadata": {},
   "outputs": [],
   "source": [
    "table = np.zeros([3,60])\n",
    "for i in range(100):\n",
    "    for j in range(3)\n",
    "        table[] += tmp[:,i,1]"
   ]
  },
  {
   "cell_type": "code",
   "execution_count": null,
   "metadata": {},
   "outputs": [],
   "source": [
    "plt.imshow(img)\n",
    "vxs = lmax_loc()\n",
    "sub_regions=[[],[]]\n",
    "\n",
    "for i in range(len(sub_regions)):\n",
    "    sub_vxs="
   ]
  },
  {
   "cell_type": "code",
   "execution_count": null,
   "metadata": {},
   "outputs": [],
   "source": [
    "prefix = \"D:/Yuan/MPS_project/data/rendered/soma/1226_10\"\n",
    "bbox = getCellBoundariesFromImg(prefix+\".png\")\n",
    "pixel_size=16\n",
    "img = cv2.imread(prefix+\".png\")\n",
    "rimg = img[box[2]:box[3],box[0]:box[1]]\n",
    "vxs2 = lmax_loc(loc_file=None, box, rimg)[1]"
   ]
  },
  {
   "cell_type": "code",
   "execution_count": null,
   "metadata": {},
   "outputs": [],
   "source": [
    "# prefix = \"D:/Yuan/MPS_project/data/rendered/soma/1226_10\"\n",
    "# bbox = getCellBoundariesFromImg(prefix+\".png\")\n",
    "# pixel_size=16\n",
    "# img = cv2.imread(prefix+\".png\")\n",
    "\n",
    "#loc_file = prefix+\".txt\"\n",
    "#rimg = img[box[2]:box[3],box[0]:box[1]]\n",
    "#vxs = lmax_loc(loc_file, box, rimg)[1]\n",
    "links = generateLinks(vxs, thre=14, plot=0)  #224\n",
    "connects = Heatmaps(vxs, links=links, method=\"connects\")\n",
    "tris = Heatmaps(vxs,links=links, method=\"tris\")\n",
    "rk = Heatmaps(vxs,method=\"ripley\", d=[5])\n",
    "density = Heatmaps(vxs)"
   ]
  },
  {
   "cell_type": "code",
   "execution_count": null,
   "metadata": {},
   "outputs": [],
   "source": [
    "#links = generateLinks(vxs, thre=20, plot=0)\n",
    "#connects = Heatmaps(vxs, links=links, method=\"connects\")\n",
    "#tris = Heatmaps(vxs,links=links, method=\"tris\")\n",
    "rk = Heatmaps(vxs,method=\"ripley\", d=[14])\n",
    "#density = Heatmaps(vxs)"
   ]
  },
  {
   "cell_type": "code",
   "execution_count": null,
   "metadata": {},
   "outputs": [],
   "source": [
    "plt.imshow(density.T)"
   ]
  },
  {
   "cell_type": "code",
   "execution_count": null,
   "metadata": {},
   "outputs": [],
   "source": [
    "prefix=\"../data/rendered/soma/1226_5\"\n",
    "rendered = cv2.imread(prefix+\".png\")\n",
    "test =cv2.cvtColor(rendered, cv2.COLOR_BGR2GRAY)\n",
    "test1=test[600:1500,1000:1800]"
   ]
  },
  {
   "cell_type": "code",
   "execution_count": null,
   "metadata": {},
   "outputs": [],
   "source": [
    "vxs = lmax_loc(None,None,test1,adapt=55, local=7)[1]"
   ]
  },
  {
   "cell_type": "code",
   "execution_count": null,
   "metadata": {},
   "outputs": [],
   "source": [
    "links=generateLinks(vxs, thre=20)\n"
   ]
  },
  {
   "cell_type": "code",
   "execution_count": null,
   "metadata": {},
   "outputs": [],
   "source": [
    "#links=generateLinks(vxs[1], thre=20)\n",
    "connects=Heatmaps(vxs, grid_size=64, steps=16, links=links, method=\"connects\")"
   ]
  },
  {
   "cell_type": "code",
   "execution_count": null,
   "metadata": {},
   "outputs": [],
   "source": [
    "def sumMat(img, c, kernel_size=64, steps=16, method=\"default\"):\n",
    "    if len(img.shape)==3:\n",
    "        img = cv2.cvtColor(img, cv2.COLOR_BGR2GRAY)\n",
    "    xn, yn=img.shape\n",
    "    x_l = [ x for x in range(0,xn-kernel_size+1, steps)]\n",
    "    y_l = [ y for y in range(0,yn-kernel_size+1, steps)]\n",
    "    print(len(x_l), len(y_l))\n",
    "    matrix = np.zeros([xn, yn])\n",
    "    kernel = np.ones([kernel_size,kernel_size])\n",
    "    xc, yc=c.shape\n",
    "    print(xc, yc)\n",
    "    if method == \"gaussian\":\n",
    "        g = cv2.getGaussianKernel(kernel_size, sigma=0)\n",
    "        kernel = g*g.T\n",
    "    elif method == \"flattop\":\n",
    "        g = cv2.getGaussianKernel(kernel_size, sigma=kernel_size/2)\n",
    "        kernel = g*g.T\n",
    "    for i in range(xc):\n",
    "        for j in range(yc):\n",
    "            if(c[i,j]>0):\n",
    "                xi = x_l[i]\n",
    "                yj = y_l[j]\n",
    "                matrix[xi:xi+kernel_size,yj:yj+kernel_size] += c[i,j]*kernel\n",
    "    return matrix\n",
    "for method in [\"default\", \"gaussian\",\"flattop\"]:\n",
    "    a = sumMat(test1.T, tris, method=method)\n",
    "    plt.figure(figsize=[10,10])\n",
    "    plt.imshow(test1)\n",
    "    plt.imshow(a.T, vmin=np.max(a)/3*2, vmax=np.max(a), alpha=0.3,cmap=\"rainbow\")"
   ]
  },
  {
   "cell_type": "code",
   "execution_count": null,
   "metadata": {},
   "outputs": [],
   "source": [
    "tris = Heatmaps(vxs,links=links, method=\"tris\")\n",
    "plt.imshow(tris.T)"
   ]
  },
  {
   "cell_type": "code",
   "execution_count": null,
   "metadata": {},
   "outputs": [],
   "source": [
    "scipy.stats.pearsonr(density.flatten(),connects.flatten())"
   ]
  },
  {
   "cell_type": "code",
   "execution_count": null,
   "metadata": {},
   "outputs": [],
   "source": [
    "density=Heatmaps(vxs)\n",
    "plt.imshow(density.T)"
   ]
  },
  {
   "cell_type": "code",
   "execution_count": null,
   "metadata": {},
   "outputs": [],
   "source": [
    "links=generateLinks(vxs, thre=14)\n",
    "visualize(vxs, links)"
   ]
  },
  {
   "cell_type": "code",
   "execution_count": null,
   "metadata": {},
   "outputs": [],
   "source": [
    "vxs = lmax_loc(prefix+\".txt\",[1000,1800,600,1500],test1,adapt=33, local=11)"
   ]
  },
  {
   "cell_type": "code",
   "execution_count": null,
   "metadata": {},
   "outputs": [],
   "source": [
    "loc_file=prefex+\".txt\""
   ]
  },
  {
   "cell_type": "code",
   "execution_count": null,
   "metadata": {},
   "outputs": [],
   "source": [
    "# table = np.zeros([3,60])\n",
    "# for count in range(3,61):\n",
    "#     for i in range(100):\n",
    "#         tmp = simulateRandomStats(count,rk_d=5)\n",
    "#         for j in range(3):\n",
    "#             table[j,count-1]+=tmp[j]\n",
    "#     table/=100\n",
    "\n",
    "h,w = density.shape\n",
    "c=np.zeros([3,h,w])\n",
    "for i in range(3):\n",
    "    for hi in range(h):\n",
    "        for wi in range(w):\n",
    "            c[i,hi,wi] = table[i,int(density[hi,wi])]"
   ]
  },
  {
   "cell_type": "code",
   "execution_count": null,
   "metadata": {},
   "outputs": [],
   "source": [
    "#all_hm = [connects, tris, rk, density,connects-c[0,:,:],connects-c[1,:,:],connects-c[2,:,:]]\n",
    "all_hm = [connects, tris, rk, density,connects/(c[0,:,:]+1),tris/(c[1,:,:]+1),rk/(c[2,:,:]+1)]\n",
    "\n",
    "for hm in all_hm:\n",
    "    plt.figure()\n",
    "    plt.imshow(hm.T)"
   ]
  },
  {
   "cell_type": "code",
   "execution_count": null,
   "metadata": {},
   "outputs": [],
   "source": [
    "df=pd.DataFrame([ x.flatten() for x in all_hm ])"
   ]
  },
  {
   "cell_type": "code",
   "execution_count": null,
   "metadata": {},
   "outputs": [],
   "source": [
    "df=pd.DataFrame([[1+x,2,3] for x in range(5)])\n",
    "corr = df.T.corr()\n",
    "sns.heatmap(corr, cmap=\"Blues\", annot=True)"
   ]
  },
  {
   "cell_type": "code",
   "execution_count": null,
   "metadata": {},
   "outputs": [],
   "source": [
    "import seaborn as sns\n",
    "corr = df.T.corr()\n",
    "sns.heatmap(corr, cmap=\"Blues\", annot=False)"
   ]
  },
  {
   "cell_type": "code",
   "execution_count": null,
   "metadata": {},
   "outputs": [],
   "source": [
    "plt.hist(density.flatten())"
   ]
  },
  {
   "cell_type": "code",
   "execution_count": null,
   "metadata": {},
   "outputs": [],
   "source": [
    "visualize(vxs,links)"
   ]
  },
  {
   "cell_type": "code",
   "execution_count": null,
   "metadata": {},
   "outputs": [],
   "source": [
    "countss = [x for x in range(3,60)]\n",
    "n = 100\n",
    "tmp = np.zeros([len(countss), n, 3])\n",
    "for i in range(len(countss)):\n",
    "    for j in range(n):\n",
    "        #print(simulateRandomStats(countss[i]))\n",
    "        tmp[i,j] = simulateRandomStats(countss[i],thre=14, rk_d=5)"
   ]
  },
  {
   "cell_type": "code",
   "execution_count": null,
   "metadata": {},
   "outputs": [],
   "source": [
    "simulateRandomStats(40, thre=14, plot=0)"
   ]
  },
  {
   "cell_type": "code",
   "execution_count": null,
   "metadata": {},
   "outputs": [],
   "source": [
    "plt.figure(figsize=[10,10])\n",
    "plt.plot(density.flatten(), connects.flatten(),\".\")\n",
    "_=plt.plot(countss,tmp[:,:,0],'o',markerfacecolor=\"grey\", alpha=0.5,markeredgecolor=\"None\")\n",
    "plt.title(\"Average Links per Junction vs. Density (Real Data vs. Random Data)\")\n",
    "plt.figure(figsize=[10,10])\n",
    "plt.plot(density.flatten(), tris.flatten(),\".\")\n",
    "_=plt.plot(countss,tmp[:,:,1],'o',markerfacecolor=\"grey\", alpha=0.5, markeredgecolor=\"None\")\n",
    "plt.title(\"Number of Linked Triangles vs. Density (Real Data vs. Random Data)\")\n",
    "\n",
    "plt.figure(figsize=[10,10])\n",
    "plt.plot(density.flatten(), rk.flatten(),\".\")\n",
    "_=plt.plot(countss,tmp[:,:,2],'o',markerfacecolor=\"grey\",alpha=0.5, markeredgecolor=\"None\")\n",
    "plt.title(\"Ripley'K at d=5 vs. Density (Real Data vs. Random Data)\")\n"
   ]
  },
  {
   "cell_type": "code",
   "execution_count": null,
   "metadata": {},
   "outputs": [],
   "source": [
    "pixel_size=16\n",
    "#plot_ktest(vxs*pixel_size, support=(1,300,20))\n",
    "hist3KNN(vxs*pixel_size, bins=range(1,300,10))"
   ]
  },
  {
   "cell_type": "code",
   "execution_count": null,
   "metadata": {},
   "outputs": [],
   "source": [
    "prefix = \"D:/Yuan/MPS_project/data/rendered/Tcell/A7\"\n",
    "bbox = getCellBoundariesFromImg(prefix+\".png\")\n",
    "pixel_size=16\n",
    "img = cv2.imread(prefix+\".png\")\n",
    "for box in bbox:\n",
    "    loc_file = prefix+\".txt\"\n",
    "    rimg = img[box[2]:box[3],box[0]:box[1]]\n",
    "    vxs1 = lmax_loc(loc_file, box, rimg)[1]\n",
    "    #vxs2 = dbscan(loc_file, box, rimg)\n",
    "    plotAllStatsForVXS(np.array(vxs1)*pixel_size, title=\"Lmax_loc\", n=10)\n",
    "    #plotAllStatsForVXS(np.array(vxs2)*pixel_size, title=\"DBscan\")\n"
   ]
  },
  {
   "cell_type": "code",
   "execution_count": null,
   "metadata": {},
   "outputs": [],
   "source": [
    "loc_file = prefix+\".txt\"\n",
    "rimg = img[box[2]:box[3],box[0]:box[1]]\n",
    "for sm in range(1,5):\n",
    "    #vxs1 = lmax_loc(loc_file, box, rimg, sm=sm)[1]\n",
    "    vxs2 = dbscan(loc_file, box, rimg)\n",
    "    plotAllStatsForVXS(np.array(vxs2)*pixel_size, title=\"DBscan\", n=10)"
   ]
  },
  {
   "cell_type": "code",
   "execution_count": null,
   "metadata": {},
   "outputs": [],
   "source": [
    "prefix = \"D:/Yuan/MPS_project/data/rendered/soma/0227_21\"\n",
    "bbox = getCellBoundariesFromImg(prefix+\".png\")\n",
    "pixel_size=16\n",
    "img = cv2.imread(prefix+\".png\")\n",
    "for box in [bbox[1]]:\n",
    "    loc_file = prefix+\".txt\"\n",
    "    rimg = img[box[2]:box[3],box[0]:box[1]]\n",
    "    for sm in range(1,2):\n",
    "        vxs1 = lmax_loc(loc_file, box, rimg, sm=sm)[1]\n",
    "        #vxs2 = dbscan(loc_file, box, rimg)\n",
    "        plotAllStatsForVXS(np.array(vxs1)*pixel_size, title=\"Lmax_loc\", n=10)\n",
    "    #plotAllStatsForVXS(np.array(vxs2)*pixel_size, title=\"DBscan\")"
   ]
  },
  {
   "cell_type": "code",
   "execution_count": null,
   "metadata": {},
   "outputs": [],
   "source": [
    "np.max(vxs)"
   ]
  },
  {
   "cell_type": "code",
   "execution_count": null,
   "metadata": {},
   "outputs": [],
   "source": [
    "sdist=hist3KNN(vxs, bins=50)"
   ]
  },
  {
   "cell_type": "code",
   "execution_count": null,
   "metadata": {},
   "outputs": [],
   "source": [
    "#dist = [[np.linalg.norm(i-j) for i in vxs] for j in vxs ]\n",
    "#dist[sdist[:,1]]\n",
    "[dist[i][sdist[i,1]] for i in range(len(vxs))]"
   ]
  },
  {
   "cell_type": "code",
   "execution_count": null,
   "metadata": {},
   "outputs": [],
   "source": [
    "# Test Function\n",
    "link_list = [[0,1],[1,2],[2,3],[3,4],[2,4],[2,5],[5,6],[5,7],[5,8],[5,9],[7,8],[8,9],[9,6]]\n",
    "tri_list  = getTrianglesFromList(link_list)\n",
    "getTrianglesCentroid(tri_list, vxs)"
   ]
  },
  {
   "cell_type": "markdown",
   "metadata": {},
   "source": [
    "## Playground"
   ]
  },
  {
   "cell_type": "code",
   "execution_count": null,
   "metadata": {},
   "outputs": [],
   "source": [
    "smlm=pd.read_table(loc_file,header=0)\n",
    "test=smlm[[\"Xc\",\"Yc\"]]#,\"Zc\"]]\n",
    "#img = np.zeros([regions[1]-regions[0], regions[3]-regions[2]],dtype=np.int32)\n",
    "xc=test[\"Xc\"].tolist()\n",
    "yc=test[\"Yc\"].tolist()\n",
    "xc=np.array([ (x*10-regions[0]) for x in xc])-5\n",
    "yc=np.array([ (x*10-regions[2]) for x in yc])-5\n",
    "X=np.stack((xc,yc),axis=-1)\n",
    "X = np.array([xy for xy in X if xy[0] > 0 and xy[0] < regions[1]-regions[0] and xy[1] > 0 and xy[1] < regions[3]-regions[2]])"
   ]
  },
  {
   "cell_type": "code",
   "execution_count": null,
   "metadata": {},
   "outputs": [],
   "source": [
    "xc=test2[\"Xc\"].tolist()\n",
    "yc=test2[\"Yc\"].tolist()\n",
    "xc=np.array([ (x*10-regions[0]) for x in xc])-5\n",
    "yc=np.array([ (x*10-regions[2]) for x in yc])-5\n",
    "np.stack((xc,yc),axis=-1)"
   ]
  },
  {
   "cell_type": "code",
   "execution_count": null,
   "metadata": {
    "metadata": {}
   },
   "outputs": [],
   "source": [
    "loc_file=\"../data/rendered/soma/1226_5.txt\"\n",
    "smlm=pd.read_table(loc_file,header=0)\n",
    "test=smlm[[\"Xc\",\"Yc\",\"Zc\"]]\n",
    "#regions=[1000, 1900, 700, 1500]  \n",
    "#img = np.zeros([regions[1]-regions[0], regions[3]-regions[2]],dtype=np.int32)\n",
    "xc=test[\"Xc\"].tolist()\n",
    "yc=test[\"Yc\"].tolist()"
   ]
  },
  {
   "cell_type": "code",
   "execution_count": null,
   "metadata": {},
   "outputs": [],
   "source": [
    "vxs=c2"
   ]
  },
  {
   "cell_type": "code",
   "execution_count": null,
   "metadata": {},
   "outputs": [],
   "source": [
    "soma = cv2.imread(\"../data/rendered/soma/1226_5.png\")\n",
    "loc_file=\"../data/rendered/soma/1226_5.txt\"\n",
    "regions=[1000, 1900, 700, 1500]      #x1, x2, y1, y2\n",
    "for regions in [[1000, 1900, 700, 1500] ]:#[1200,1500,1100,1400]]:#[[1050, 1200, 1000, 1100]]: #[1000, 1900, 700, 1500],\n",
    "    #c1 = adapt_cluster(soma[regions[2]:regions[3],regions[0]:regions[1]])\n",
    "    for adapt in [55]:\n",
    "        img,c2 = lmax_loc(loc_file,regions,soma[regions[2]:regions[3],regions[0]:regions[1]],adapt=adapt)"
   ]
  },
  {
   "cell_type": "code",
   "execution_count": null,
   "metadata": {},
   "outputs": [],
   "source": [
    "vxs=c2"
   ]
  },
  {
   "cell_type": "code",
   "execution_count": null,
   "metadata": {},
   "outputs": [],
   "source": [
    "regions=[1000, 1900, 700, 1500]      #x1, x2, y1, y2\n",
    "#for regions in [[1050, 1200, 1000, 1100]]: #[1000, 1900, 700, 1500],\n",
    "img,c2 = lmax_loc(loc_file,regions,soma[regions[2]:regions[3],regions[0]:regions[1]])"
   ]
  },
  {
   "cell_type": "code",
   "execution_count": null,
   "metadata": {},
   "outputs": [],
   "source": [
    "#from scipy.spatial import Delaunay\n",
    "points = c2\n",
    "tri = Delaunay(points)\n",
    "fig = plt.figure(figsize=[20,20])\n",
    "ax = fig.add_subplot(111)\n",
    "plt.triplot(points[:,0], points[:,1], tri.simplices)\n",
    "plt.plot(points[:,0], points[:,1],'o')\n",
    "ax.set_aspect('equal', adjustable='box')\n",
    "plt.show()"
   ]
  },
  {
   "cell_type": "code",
   "execution_count": null,
   "metadata": {},
   "outputs": [],
   "source": [
    "img = cv2.imread(\"../data/rendered/Tcell/inactivated/AF647_adducin CF597R_b2spec/adducin_647_1.png\", -1)\n",
    "loc_file=\"../data/rendered/Tcell/inactivated/AF647_adducin CF597R_b2spec/STORM-AF647_0001_list_COR.txt\"\n",
    "regions=[1000,1500,1000,1500]\n",
    "img,c2 = lmax_loc(loc_file,regions,img[regions[2]:regions[3],regions[0]:regions[1]])"
   ]
  },
  {
   "cell_type": "code",
   "execution_count": null,
   "metadata": {},
   "outputs": [],
   "source": [
    "regions=[1600,2600,1400,2400]\n",
    "r1=adducin[regions[2]:regions[3],regions[0]:regions[1]].copy()\n",
    "r2=b2spec[regions[2]:regions[3],regions[0]:regions[1]].copy()\n",
    "y=400\n",
    "x=600\n",
    "plt.figure(figsize=[20,20])\n",
    "plt.gca().add_patch(Rectangle((y,x),200,200,linewidth=3,edgecolor='r',facecolor='none'))\n",
    "plt.imshow(r1)\n",
    "plt.figure(figsize=[20,20])\n",
    "plt.gca().add_patch(Rectangle((y,x),200,200,linewidth=3,edgecolor='r',facecolor='none'))\n",
    "plt.imshow(r2)\n",
    "g1=cv2.cvtColor(r1, cv2.COLOR_BGR2GRAY)\n",
    "g2=cv2.cvtColor(r2, cv2.COLOR_BGR2GRAY)\n",
    "plt.figure(figsize=[20,20])\n",
    "plt.gca().add_patch(Rectangle((y,x),200,200,linewidth=1,edgecolor='r',facecolor='none'))\n",
    "plt.imshow(cv2.merge([(g1/2).astype(np.uint8),g2*2,np.zeros(g1.shape).astype(np.uint8)]))"
   ]
  },
  {
   "cell_type": "code",
   "execution_count": null,
   "metadata": {},
   "outputs": [],
   "source": [
    "plt.figure(figsize=[20,20])\n",
    "plt.imshow(b2spec[2000:2200,2000:2200])\n",
    "plt.figure(figsize=[20,20])\n",
    "plt.imshow(adducin[2000:2200,2000:2200])\n",
    "\n",
    "regions=[2000,2200,2000,2200]\n",
    "r1=adducin[regions[2]:regions[3],regions[0]:regions[1]].copy()\n",
    "r2=b2spec[regions[2]:regions[3],regions[0]:regions[1]].copy()\n",
    "g1=cv2.cvtColor(r1, cv2.COLOR_BGR2GRAY)\n",
    "g2=cv2.cvtColor(r2, cv2.COLOR_BGR2GRAY)\n",
    "plt.figure(figsize=[20,20])\n",
    "plt.imshow(cv2.merge([(g1/2).astype(np.uint8),g2*2,np.zeros(g1.shape).astype(np.uint8)]))"
   ]
  },
  {
   "cell_type": "code",
   "execution_count": null,
   "metadata": {},
   "outputs": [],
   "source": [
    "img,c2 = lmax_loc(loc_file=None,regions=regions,rimg=r1, adapt=adapt, local=5)\n",
    "img1,c3 = lmax_loc(loc_file=None,regions=regions,rimg=r2, adapt=adapt)\n",
    "\n",
    "cs=[c2,c3]\n",
    "colors=[\"red\",\"green\"]\n",
    "plt.figure(figsize=[20,20])\n",
    "for i in range(2):\n",
    "    c=cs[i]\n",
    "    #plt.imshow(blur)\n",
    "    plt.plot(\n",
    "        c[:, 0],\n",
    "        c[:, 1],\n",
    "        \".\",\n",
    "        markerfacecolor=colors[i],\n",
    "        markersize=20,\n",
    "    )"
   ]
  },
  {
   "cell_type": "code",
   "execution_count": null,
   "metadata": {},
   "outputs": [],
   "source": [
    "def isClose(c, p0, p1, threshold=3):\n",
    "    x=(p0[0]+p1[0])/2\n",
    "    y=(p0[1]+p1[1])/2\n",
    "    for v in c:\n",
    "        if abs(v[0]-x) < threshold and abs(v[1]-y) < threshold:\n",
    "            return True\n",
    "\n",
    "pixel_size=7.2\n",
    "thre = [50/pixel_size,180/pixel_size]\n",
    "\n",
    "points=c2.copy()\n",
    "dist = [[np.linalg.norm(i-j) for i in points] for j in points ]\n",
    "s_dist=np.argsort(dist,axis=1)\n",
    "k=7\n",
    "nearest_k = s_dist[:,:k]\n",
    "\n",
    "plt.figure(figsize=[20,20])\n",
    "n_vx = len(points)\n",
    "for i in range(n_vx):\n",
    "    for j in range(n_vx):\n",
    "        if dist[i][j] <= thre[1] and dist[i][j] > thre[0]:\n",
    "            t_dist=dist[i][j]\n",
    "            if isClose(c3, points[i], points[j]):\n",
    "                plt.plot([points[i][0],points[j][0]], [points[i][1],points[j][1]])\n",
    "\n",
    "ax = plt.gca()\n",
    "ax.set_aspect('equal', adjustable='box')\n",
    "\n",
    "cs=[c2,c3]\n",
    "colors=[\"red\",\"green\"]\n",
    "for i in range(2):\n",
    "    c=cs[i]\n",
    "    #plt.imshow(blur)\n",
    "    plt.plot(\n",
    "        c[:, 0],\n",
    "        c[:, 1],\n",
    "        \".\",\n",
    "        markerfacecolor=colors[i],\n",
    "        markersize=20,\n",
    "    )"
   ]
  },
  {
   "cell_type": "code",
   "execution_count": null,
   "metadata": {},
   "outputs": [],
   "source": [
    "\n",
    "pixel_size=7.2\n",
    "thre = [100/pixel_size,300/pixel_size]\n",
    "k=5\n",
    "nearest_k = s_dist[:,:k]\n",
    "\n",
    "plt.figure(figsize=[20,20])\n",
    "n_vx = len(points)\n",
    "for i in range(n_vx):\n",
    "    for j in range(k):\n",
    "        if dist[nearest_k[i][j]][i] <= thre[1] and dist[nearest_k[i][j]][i] > thre[0]:\n",
    "            #t_dist=dist[i][j]\n",
    "            plt.plot([points[i][0],points[nearest_k[i][j]][0]], [points[i][1],points[nearest_k[i][j]][1]])\n",
    "\n",
    "\n",
    "cs=[c2,c3]\n",
    "colors=[\"red\",\"green\"]\n",
    "for i in range(1):\n",
    "    c=cs[i]\n",
    "    #plt.imshow(blur)\n",
    "    plt.plot(\n",
    "        c[:, 0],\n",
    "        c[:, 1],\n",
    "        \".\",\n",
    "        markerfacecolor=colors[i],\n",
    "        markersize=20,\n",
    "    )"
   ]
  },
  {
   "cell_type": "code",
   "execution_count": null,
   "metadata": {},
   "outputs": [],
   "source": [
    "sum_dist"
   ]
  },
  {
   "cell_type": "code",
   "execution_count": null,
   "metadata": {},
   "outputs": [],
   "source": [
    "t=[x[1]*7.2 for x in sum_dist]\n",
    "plt.hist(t)"
   ]
  },
  {
   "cell_type": "code",
   "execution_count": null,
   "metadata": {},
   "outputs": [],
   "source": [
    "t=[x[2]*7.2 for x in sum_dist]\n",
    "plt.hist(t)"
   ]
  },
  {
   "cell_type": "code",
   "execution_count": null,
   "metadata": {},
   "outputs": [],
   "source": [
    "t=[x[2]*7.2 for x in sum_dist]\n",
    "plt.hist(t)"
   ]
  },
  {
   "cell_type": "code",
   "execution_count": null,
   "metadata": {},
   "outputs": [],
   "source": [
    "sum_dist=np.sort(dist,axis=1)"
   ]
  },
  {
   "cell_type": "code",
   "execution_count": null,
   "metadata": {},
   "outputs": [],
   "source": [
    "adducin = cv2.imread(\"../data/rendered/Tcell/inactivated/AF647_adducin CF597R_b2spec/cell 2/STORM-AF647_0003 after drift cor.jpg\", -1)\n",
    "b2spec = cv2.imread(\"../data/rendered/Tcell/inactivated/AF647_adducin CF597R_b2spec/cell 2/STORM-CF597R_0003 after registration.jpg\", -1)\n",
    "\n",
    "#loc_file=\"../data/rendered/Tcell/inactivated/AF647_adducin CF597R_b2spec/STORM-AF647_0001_list_COR.txt\"\n",
    "regions=[1750,1950,2100,2300]\n",
    "adapt=55\n",
    "img,c2 = lmax_loc(loc_file=None,regions=regions,rimg=adducin[regions[2]:regions[3],regions[0]:regions[1]], adapt=adapt)\n",
    "img,c2 = lmax_loc(loc_file=None,regions=regions,rimg=2*b2spec[regions[2]:regions[3],regions[0]:regions[1]], adapt=adapt)"
   ]
  },
  {
   "cell_type": "code",
   "execution_count": null,
   "metadata": {},
   "outputs": [],
   "source": [
    "\n",
    "# rimg=r1\n",
    "# img=cv2.cvtColor(rimg, cv2.COLOR_BGR2GRAY)\n",
    "# img=img.T\n",
    "# plt.figure(figsize=[20,20])\n",
    "# blur=fftconvolve(img.T,cv2.getStructuringElement(cv2.MORPH_ELLIPSE , (3,3)), mode='same')\n",
    "# blur=(255*blur/np.max(blur)).astype(np.uint8)\n",
    "# th=cv2.adaptiveThreshold(blur, 255, cv2.ADAPTIVE_THRESH_GAUSSIAN_C, cv2.THRESH_BINARY, adapt, 0)\n",
    "# #th1=cv2.threshold(blur.astype(np.uint8), 0, 255, cv2.THRESH_BINARY+cv2.THRESH_OTSU)[1]\n",
    "# lmax = blur*(blur == maximum_filter(blur, footprint=np.ones((5,5))))\n",
    "\n",
    "# #plt.figure(figsize=[20,20])\n",
    "# #plt.imshow(th)\n",
    "# contours,_ = cv2.findContours(lmax.astype(np.uint8)&th,cv2.RETR_EXTERNAL, cv2.CHAIN_APPROX_NONE)\n",
    "# contour_centers = np.zeros([len(contours),2])\n",
    "# for i in range(len(contours)):\n",
    "#     contour_centers[i] = contours[i].reshape([-1,2]).mean(axis=0)\n",
    "\n",
    "# plt.figure(figsize=[20,20])\n",
    "# #plt.imshow(blur)\n",
    "#plt.imshow(rimg)\n",
    "blur = cv2.blur(img, (3,3))  \n",
    "\n",
    "lmax = blur*(blur == maximum_filter(blur, footprint=np.ones((5,5))))\n",
    "plt.imshow(lmax)\n",
    "plt.figure()\n",
    "plt.imshow(lmax.astype(np.uint8)&th)\n",
    "# plt.plot(\n",
    "#     contour_centers[:, 0],\n",
    "#     contour_centers[:, 1],\n",
    "#     \".\",\n",
    "#     markerfacecolor=\"purple\",\n",
    "#     markersize=10,\n",
    "# )\n",
    "# plt.figure(figsize=[20,20])\n",
    "# #plt.imshow(blur)\n",
    "# plt.imshow(img.T)\n",
    "# plt.plot(\n",
    "#     contour_centers[:, 0],\n",
    "#     contour_centers[:, 1],\n",
    "#     \".\",\n",
    "#     markerfacecolor=\"purple\",\n",
    "#     markersize=10,\n",
    "# )\n",
    "\n",
    "# blur=fftconvolve(img.T,cv2.getStructuringElement(cv2.MORPH_ELLIPSE , (3,3)), mode='same')\n",
    "# blur=(255*blur/np.max(blur)).astype(np.uint8)\n",
    "# plt.figure(figsize=[20,20])\n",
    "# plt.imshow(blur)\n",
    "# #for t in [img, blur, blur.astype(np.uint8), th]:\n",
    "# for adapt in [55, 77, 11, 333]:\n",
    "#     plt.figure(figsize=[20,20])\n",
    "#     #plt.imshow(blur)\n",
    "#     th=cv2.adaptiveThreshold(blur, 255, cv2.ADAPTIVE_THRESH_GAUSSIAN_C, cv2.THRESH_BINARY, adapt, 0)\n",
    "\n",
    "#     plt.imshow(th)\n",
    "# plt.figure(figsize=[20,20])\n",
    "# ret1, th1 = cv2.threshold(blur, 0, 255, cv2.THRESH_BINARY+cv2.THRESH_OTSU)\n",
    "# plt.imshow(th1)\n",
    "# plt.figure(figsize=[20,20])\n",
    "# # plt.imshow(lmax)\n",
    "# plt.imshow(th1)\n",
    "# plt.figure()\n",
    "# a=cv2.erode(th1,np.ones([4,4]))\n",
    "# plt.imshow(a)\n",
    "# plt.figure()\n",
    "# plt.imshow(cv2.dilate(a,np.ones([4,4])))\n",
    "\n"
   ]
  },
  {
   "cell_type": "code",
   "execution_count": null,
   "metadata": {},
   "outputs": [],
   "source": [
    "plt.imshow((255*blur/np.max(blur)).astype(np.uint8))"
   ]
  },
  {
   "cell_type": "markdown",
   "metadata": {},
   "source": []
  },
  {
   "cell_type": "code",
   "execution_count": null,
   "metadata": {},
   "outputs": [],
   "source": [
    "import math\n",
    "\n",
    "points=c2\n",
    "dist = [[np.linalg.norm(i-j) for i in points] for j in points ]\n",
    "s_dist=np.argsort(dist,axis=1)\n",
    "k=7\n",
    "nearest_k = s_dist[:,:k]\n",
    "\n",
    "\n",
    "k=7\n",
    "m=5\n",
    "n_mol=len(c2)\n",
    "c_class=np.zeros(n_mol)\n",
    "angles=np.zeros([n_mol,k-1])\n",
    "lengths=np.zeros([n_mol,k-1])\n",
    "for i in range(n_mol):\n",
    "    tmp_angles=[-200 for i in range(k)]\n",
    "    tmp_lengths=[0 for i in range(k)]\n",
    "    for j in range(k):\n",
    "        if i==nearest_k[i][j]:\n",
    "            continue\n",
    "        else:\n",
    "            tmp_angles[j]=angle_of_line(c2[nearest_k[i][j]],c2[i])\n",
    "            tmp_lengths[j]=dist[nearest_k[i][j]][i]\n",
    "    tmp_angles=np.sort(tmp_angles)\n",
    "    tmp = tmp_angles[2:k]-tmp_angles[1:k-1]\n",
    "    angles[i]=np.append(tmp,(360+tmp_angles[1]-tmp_angles[k-1])%360)\n",
    "    lengths[i]=np.sort(tmp_lengths)[1:]\n",
    "#    angles[i]=np.sort(tmp_angles)[1:m+1]"
   ]
  },
  {
   "cell_type": "code",
   "execution_count": null,
   "metadata": {},
   "outputs": [],
   "source": [
    "thre = [160/16,200/16]\n",
    "\n",
    "fig = plt.figure(figsize=[20,15])\n",
    "\n",
    "# dist = [[np.linalg.norm(i-j) for i in points] for j in points ]\n",
    "# s_dist=np.argsort(dist,axis=1)\n",
    "# k=7\n",
    "# nearest_k = s_dist[:,:k]\n",
    "plt.plot(\n",
    "    points[:, 0],\n",
    "    points[:, 1],\n",
    "    \".\",\n",
    "    markerfacecolor=\"red\",\n",
    "    markersize=3,\n",
    ")\n",
    "n_vx = len(points)\n",
    "for i in range(n_vx):\n",
    "    for j in range(n_vx):\n",
    "        if dist[i][j] <= thre[1] and dist[i][j] > thre[0]:\n",
    "            t_dist=dist[i][j]\n",
    "            plt.plot([points[i][0],points[j][0]], [points[i][1],points[j][1]], color=cmap((t_dist-thre[0])/(thre[1]-thre[0])))\n",
    "\n",
    "ax = plt.gca()\n",
    "ax.set_aspect('equal', adjustable='box')"
   ]
  },
  {
   "cell_type": "code",
   "execution_count": null,
   "metadata": {},
   "outputs": [],
   "source": [
    "import math\n",
    "def angle_of_line(xy0, xy1):\n",
    "    xy=xy1-xy0\n",
    "    return math.atan2(-xy[1], xy[0])\n",
    "\n",
    "thre = [70/16,200/16]\n",
    "\n",
    "#fig = plt.figure(figsize=[20,15])\n",
    "\n",
    "dist = [[np.linalg.norm(i-j) for i in points] for j in points ]\n",
    "s_dist=np.argsort(dist,axis=1)\n",
    "k=7\n",
    "\n",
    "plt.figure(figsize=[20,20])\n",
    "nearest_k = s_dist[:,:k]\n",
    "plt.plot(\n",
    "    points[:, 0],\n",
    "    points[:, 1],\n",
    "    \".\",\n",
    "    markerfacecolor=\"red\",\n",
    "    markersize=3,\n",
    ")\n",
    "n_vx = len(points)\n",
    "cmap = matplotlib.cm.get_cmap('Spectral')\n",
    "balance = [[0,0] for x in range(n_vx)]\n",
    "thre_b = 9\n",
    "for i in range(n_vx):\n",
    "    for j in range(k):\n",
    "        if i==nearest_k[i][j]:\n",
    "            continue\n",
    "        else:\n",
    "            t_dist=dist[i][nearest_k[i][j]]\n",
    "            if t_dist <= thre[1] and t_dist > thre[0]:\n",
    "                tmp_angle=angle_of_line(points[nearest_k[i][j]],points[i])\n",
    "                balance[i][0]+=(t_dist-thre[0])*math.cos(tmp_angle)\n",
    "                balance[i][1]+=(t_dist-thre[0])*math.sin(tmp_angle)\n",
    "                plt.plot([points[i][0],points[nearest_k[i][j]][0]], [points[i][1],points[nearest_k[i][j]][1]], color=cmap((t_dist-thre[0])/(thre[1]-thre[0])))\n",
    "    if balance[i][0]**2+balance[i][1]**2 >= thre_b:\n",
    "        plt.plot(points[i,0],points[i,1],\".\",markerfacecolor=\"blue\",markersize=10)\n",
    "    else:\n",
    "        plt.plot(points[i,0],points[i,1],\".\",markerfacecolor=\"red\",markersize=10)\n",
    "\n",
    "ax = plt.gca()\n",
    "ax.set_aspect('equal', adjustable='box')"
   ]
  },
  {
   "cell_type": "code",
   "execution_count": null,
   "metadata": {},
   "outputs": [],
   "source": [
    "#from scipy.spatial import Voronoi, voronoi_plot_2d\n",
    "# we can try voronoi later\n",
    "vor = Voronoi(c2)\n",
    "fig = plt.figure(figsize=[20,15])\n",
    "ax = fig.add_subplot(111)\n",
    "fig = voronoi_plot_2d(vor, ax=ax, show_vertices=False, line_colors='orange', line_width=2, line_alpha=0.6, point_size=2)\n",
    "balance=np.array(balance)\n",
    "for r in range(len(vor.point_region)):\n",
    "    region = vor.regions[vor.point_region[r]]\n",
    "    if not -1 in region:\n",
    "        polygon = [vor.vertices[i] for i in region]\n",
    "        plt.fill(*zip(*polygon), color=cmap((balance[r,0]**2+balance[r,1]**2)/100))\n",
    "ax.set_aspect('equal', adjustable='box')\n",
    "plt.show()"
   ]
  },
  {
   "cell_type": "code",
   "execution_count": null,
   "metadata": {},
   "outputs": [],
   "source": [
    "vor"
   ]
  },
  {
   "cell_type": "code",
   "execution_count": null,
   "metadata": {},
   "outputs": [],
   "source": [
    "plt.hist([np.sqrt(x[0]**2+x[1]**2) for x in balance],bins=50)"
   ]
  },
  {
   "cell_type": "code",
   "execution_count": null,
   "metadata": {},
   "outputs": [],
   "source": [
    "plt.figure(figsize=[20,20])\n",
    "plt.scatter(balance[:,0],balance[:,1])"
   ]
  },
  {
   "cell_type": "code",
   "execution_count": null,
   "metadata": {},
   "outputs": [],
   "source": [
    "for min_c in [20,30,40]:\n",
    "    for max_c in [200,300]:\n",
    "        a=dbscan(loc_file,regions,soma[regions[2]:regions[3],regions[0]:regions[1]],min_c=min_c,max_c=max_c)"
   ]
  },
  {
   "cell_type": "code",
   "execution_count": null,
   "metadata": {},
   "outputs": [],
   "source": [
    "\n",
    "t = blur*(blur == maximum_filter(blur, footprint=np.ones((3,3))))\n",
    "plt.figure(figsize=[20,20]) \n",
    "plt.imshow(t)   "
   ]
  },
  {
   "cell_type": "code",
   "execution_count": null,
   "metadata": {},
   "outputs": [],
   "source": [
    "\n",
    "t = blur*(blur == maximum_filter(blur, footprint=np.ones((3,3))))\n",
    "contours,_ = cv2.findContours(t.astype(np.uint8),cv2.RETR_EXTERNAL, cv2.CHAIN_APPROX_NONE)\n",
    "contour_centers = np.zeros([len(contours),2])\n",
    "for i in range(len(contours)):\n",
    "    contour_centers[i] = contours[i].reshape([-1,2]).mean(axis=0)\n",
    "\n",
    "plt.figure(figsize=[20,20])\n",
    "#plt.imshow(blur)\n",
    "plt.imshow(soma[700:1500,1000:1900])\n",
    "plt.plot(\n",
    "    contour_centers[:, 0],\n",
    "    contour_centers[:, 1],\n",
    "    \".\",\n",
    "    markerfacecolor=\"purple\",\n",
    "    markersize=10,\n",
    ")"
   ]
  },
  {
   "cell_type": "code",
   "execution_count": null,
   "metadata": {},
   "outputs": [],
   "source": [
    "cv2.getStructuringElement(cv2.MORPH_ELLIPSE , (3,3))\n"
   ]
  },
  {
   "cell_type": "code",
   "execution_count": null,
   "metadata": {},
   "outputs": [],
   "source": [
    "plt.imshow(img.astype(np.uint8))"
   ]
  },
  {
   "cell_type": "code",
   "execution_count": null,
   "metadata": {},
   "outputs": [],
   "source": [
    "plt.imshow(img.astype(np.uint8))"
   ]
  },
  {
   "cell_type": "code",
   "execution_count": null,
   "metadata": {},
   "outputs": [],
   "source": [
    "img.shape"
   ]
  },
  {
   "cell_type": "code",
   "execution_count": null,
   "metadata": {},
   "outputs": [],
   "source": [
    "#a=soma[700:1500,1000:1900]\n",
    "plt.imshow(cv2.merge([a[295:395,45:195],5*img.astype(np.uint8),5*img.astype(np.uint8)]))"
   ]
  },
  {
   "cell_type": "code",
   "execution_count": null,
   "metadata": {},
   "outputs": [],
   "source": [
    "\n",
    "plt.imshow(cv2.merge([a[300:400,50:200],5*img.astype(np.uint8),5*img.astype(np.uint8)]))"
   ]
  },
  {
   "cell_type": "code",
   "execution_count": null,
   "metadata": {},
   "outputs": [],
   "source": [
    "img.dtype"
   ]
  },
  {
   "cell_type": "code",
   "execution_count": null,
   "metadata": {},
   "outputs": [],
   "source": [
    "c=a[300:400,50:200]\n",
    "c.dtype"
   ]
  },
  {
   "cell_type": "code",
   "execution_count": null,
   "metadata": {},
   "outputs": [],
   "source": [
    "import scipy.signal\n",
    "\n",
    "\n",
    "b=scipy.signal.correlate2d(img,a[300:400,50:200],mode=\"same\")"
   ]
  },
  {
   "cell_type": "code",
   "execution_count": null,
   "metadata": {},
   "outputs": [],
   "source": [
    "b"
   ]
  },
  {
   "cell_type": "code",
   "execution_count": null,
   "metadata": {},
   "outputs": [],
   "source": [
    "np.where(b==b.max())"
   ]
  },
  {
   "cell_type": "code",
   "execution_count": null,
   "metadata": {},
   "outputs": [],
   "source": [
    "a = cv2.cvtColor(a, cv2.COLOR_BGR2GRAY)\n",
    "b=a[300:400,49:189]"
   ]
  },
  {
   "cell_type": "code",
   "execution_count": null,
   "metadata": {},
   "outputs": [],
   "source": [
    "np.where(b==b.max())"
   ]
  },
  {
   "cell_type": "code",
   "execution_count": null,
   "metadata": {},
   "outputs": [],
   "source": [
    "\n",
    "plt.figure(figsize=[20,20])\n",
    "a=soma[700:1500,1000:1900]\n",
    "plt.imshow(a[300:400,50:200])"
   ]
  },
  {
   "cell_type": "code",
   "execution_count": null,
   "metadata": {},
   "outputs": [],
   "source": [
    "path=\"../data/rendered/Tcell/inactivated/AF647_adducin CF597R_b2spec/cell \"\n",
    "cells = [3,4,5,6,7,8,9]\n",
    "for i in [0]:\n",
    "    img_paths = glob.glob(path+str(cells[i])+\"/*.jpg\") \n",
    "    adducin = cv2.imread(img_paths[0])\n",
    "    b2spec = cv2.imread(img_paths[1])\n",
    "\n",
    "adducin = cv2.imread(\"../data/rendered/Tcell/inactivated/AF647_adducin CF597R_b2spec/cell 2/STORM-AF647_0003 after drift cor.jpg\", -1)\n",
    "b2spec = cv2.imread(\"../data/rendered/Tcell/inactivated/AF647_adducin CF597R_b2spec/cell 2/STORM-CF597R_0003 after registration.jpg\", -1)\n",
    "\n",
    "#loc_file=\"../data/rendered/Tcell/inactivated/AF647_adducin CF597R_b2spec/STORM-AF647_0001_list_COR.txt\"\n",
    "regions=[1750,1950,2100,2300]\n",
    "adapt=55\n",
    "img,c2 = lmax_loc(loc_file=None,regions=regions,rimg=adducin[regions[2]:regions[3],regions[0]:regions[1]], adapt=adapt)\n",
    "img,c2 = lmax_loc(loc_file=None,regions=regions,rimg=2*b2spec[regions[2]:regions[3],regions[0]:regions[1]], adapt=adapt)"
   ]
  },
  {
   "cell_type": "code",
   "execution_count": null,
   "metadata": {},
   "outputs": [],
   "source": []
  },
  {
   "cell_type": "code",
   "execution_count": null,
   "metadata": {},
   "outputs": [],
   "source": [
    "em = cv2.imread(\"../data/EM/1.png\")"
   ]
  },
  {
   "cell_type": "code",
   "execution_count": null,
   "metadata": {},
   "outputs": [],
   "source": [
    "plt.figure(figsize=[20,20])\n",
    "plt.imshow(em)"
   ]
  },
  {
   "cell_type": "code",
   "execution_count": null,
   "metadata": {},
   "outputs": [],
   "source": [
    "em.shape\n",
    "\n",
    "g_em=cv2.cvtColor(em, cv2.COLOR_BGR2GRAY)"
   ]
  },
  {
   "cell_type": "code",
   "execution_count": null,
   "metadata": {},
   "outputs": [],
   "source": [
    "#plt.imshow(autocontrast(em,20))\n",
    "\n",
    "\n",
    "plt.subplots(2,2,figsize=(10,10))\n",
    "local = [11,33,77,111]\n",
    "for i in range(4):\n",
    "    plt.subplot(2,2,i+1)\n",
    "    img = cv2.adaptiveThreshold(g_em.astype(np.uint8), 255, cv2.ADAPTIVE_THRESH_GAUSSIAN_C, cv2.THRESH_BINARY, local[i], 0)\n",
    "    plt.imshow(img)\n"
   ]
  },
  {
   "cell_type": "code",
   "execution_count": null,
   "metadata": {},
   "outputs": [],
   "source": [
    "blur=cv2.blur(g_em,(3,3))\n",
    "local = [11,33,77,111]\n",
    "plt.subplots(2,2,figsize=(10,10))\n",
    "for i in range(4):\n",
    "    plt.subplot(2,2,i+1)\n",
    "    img = cv2.adaptiveThreshold(blur.astype(np.uint8), 255, cv2.ADAPTIVE_THRESH_GAUSSIAN_C, cv2.THRESH_BINARY, local[i], 0)\n",
    "    plt.imshow(img)\n"
   ]
  },
  {
   "cell_type": "code",
   "execution_count": null,
   "metadata": {},
   "outputs": [],
   "source": [
    "local=[9]\n",
    "plt.figure(figsize=[20,20])\n",
    "plt.subplot(1,2,1)\n",
    "img = cv2.adaptiveThreshold(g_em.astype(np.uint8), 255, cv2.ADAPTIVE_THRESH_GAUSSIAN_C, cv2.THRESH_BINARY, local[0], 0)\n",
    "plt.imshow(img)\n",
    "plt.subplot(1,2,2)\n",
    "img = cv2.adaptiveThreshold(blur.astype(np.uint8), 255, cv2.ADAPTIVE_THRESH_GAUSSIAN_C, cv2.THRESH_BINARY, local[0], 0)\n",
    "plt.imshow(img)"
   ]
  },
  {
   "cell_type": "code",
   "execution_count": null,
   "metadata": {},
   "outputs": [],
   "source": [
    "plt.imshow(marker)\n",
    "plt.plot(\n",
    "    contour_centers[:, 0],\n",
    "    contour_centers[:, 1],\n",
    "    \".\",\n",
    "    markerfacecolor=\"purple\",\n",
    "    markersize=10,\n",
    "    )"
   ]
  },
  {
   "cell_type": "code",
   "execution_count": null,
   "metadata": {},
   "outputs": [],
   "source": []
  },
  {
   "cell_type": "code",
   "execution_count": null,
   "metadata": {},
   "outputs": [],
   "source": [
    "plt.imshow(gt_sp[:,:,1]-gt_sp[:,:,0])\n",
    "plt.plot(\n",
    "    contour_centers[:, 0],\n",
    "    contour_centers[:, 1],\n",
    "    \".\",\n",
    "    markerfacecolor=\"purple\",\n",
    "    markersize=10,\n",
    "    )"
   ]
  },
  {
   "cell_type": "code",
   "execution_count": null,
   "metadata": {},
   "outputs": [],
   "source": [
    "gt_sp = cv2.imread(\"../data/em/2_marked_final.png\", -1)\n",
    "plt.imshow(gt_sp)\n",
    "marker_sp=gt_sp[:,:,1]-gt_sp[:,:,0]\n",
    "n_vx = len(contour_centers)\n",
    "vxs = contour_centers.copy()\n",
    "links = np.zeros([n_vx, n_vx-1])\n",
    "#dist = [[np.linalg.norm(i-j) for i in vxs] for j in vxs ]"
   ]
  },
  {
   "cell_type": "code",
   "execution_count": null,
   "metadata": {},
   "outputs": [],
   "source": [
    "em = cv2.imread(\"../data/em/2.png\", -1)\n",
    "gt = cv2.imread(\"../data/em/2_marked.png\", -1)\n",
    "plt.imshow(gt[:,:,2]-gt[:,:,1])\n",
    "marker = gt[:,:,2]-gt[:,:,1]\n",
    "contours = cv2.findContours(marker.astype(np.uint8),cv2.RETR_EXTERNAL, cv2.CHAIN_APPROX_NONE)[0]\n",
    "contour_centers = np.zeros([len(contours)-1,2])\n",
    "for i in range(len(contours)-1):\n",
    "    contour_centers[i] = contours[i+1].reshape([-1,2]).mean(axis=0)\n",
    "\n",
    "vxs=contour_centers\n",
    "n_vx = len(vxs)\n",
    "gt_sp = cv2.imread(\"../data/em/2_marked_final.png\", -1)\n",
    "plt.figure(figsize=[10,10])\n",
    "plt.imshow(em)\n",
    "marker_sp=gt_sp[:,:,1]-gt_sp[:,:,0]\n",
    "links = np.zeros([n_vx, n_vx])\n",
    "close_mid=np.zeros(marker_sp.T.shape)\n",
    "for i in range(n_vx):\n",
    "    close_mid[vxs[i][0].astype(int),vxs[i][1].astype(int)] = 1\n",
    "\n",
    "close_mid = fftconvolve(close_mid, np.ones([10,10]), mode='same')\n",
    "\n",
    "#plt.figure(figsize=[10,10])\n",
    "#plt.imshow(close_mid.T)\n",
    "dist = distance_matrix(vxs, vxs)\n",
    "for i in range(n_vx):\n",
    "    for j in range(i+1,n_vx):\n",
    "        if dist[i][j] < 110:\n",
    "            if sum_line_cnct(marker_sp.T, vxs[i].astype(int),vxs[j].astype(int))>=dist[i][j]*0.7:\n",
    "                if sum_line_cnt(close_mid, vxs[i].astype(int),vxs[j].astype(int))[0] <3:\n",
    "                    links[i,j]=links[j][i]=1\n",
    "                    plt.plot([vxs[i][0],vxs[j][0]],[vxs[i][1],vxs[j][1]], color=\"r\")\n",
    "                #else:\n",
    "                #    plt.plot([vxs[i][0],vxs[j+1][0]],[vxs[i][1],vxs[j+1][1]], color=\"b\")\n",
    "\n",
    "plt.plot(\n",
    "    contour_centers[:, 0],\n",
    "    contour_centers[:, 1],\n",
    "    \".\",\n",
    "    markerfacecolor=\"purple\",\n",
    "    markersize=10,\n",
    "    )"
   ]
  },
  {
   "cell_type": "code",
   "execution_count": null,
   "metadata": {},
   "outputs": [],
   "source": [
    "[x for x in vxs if x[0]>600 and x[1]>0]"
   ]
  },
  {
   "cell_type": "code",
   "execution_count": null,
   "metadata": {},
   "outputs": [],
   "source": [
    "link_list = convertMatrix2List(links)\n",
    "vxs_dc = []\n",
    "for link in link_list:\n",
    "    vxs_dc.append((vxs[link[0]]+vxs[link[1]])/2)    \n",
    "vxs_dc = np.array(vxs_dc)"
   ]
  },
  {
   "cell_type": "code",
   "execution_count": null,
   "metadata": {},
   "outputs": [],
   "source": [
    "plotAllStatsForVXS(vxs,lmax=150,dr=10, n=10,title=\"Red blood cell\")"
   ]
  },
  {
   "cell_type": "code",
   "execution_count": null,
   "metadata": {},
   "outputs": [],
   "source": [
    "plt.figure(figsize=[10,10])\n",
    "\n",
    "plt.imshow(em)\n",
    "plt.plot(\n",
    "    vxs_dc[:,0],\n",
    "    vxs_dc[:,1],\n",
    "    \".\",\n",
    "    markerfacecolor=\"purple\",\n",
    "    markersize=10,\n",
    "    )\n",
    "ax = plt.gca()\n",
    "for vx_dc in vxs_dc:\n",
    "    size=30\n",
    "    circle = plt.Circle((vx_dc[0], vx_dc[1]), size, color=\"r\", fill=False)\n",
    "    ax.add_artist(circle)"
   ]
  },
  {
   "cell_type": "code",
   "execution_count": null,
   "metadata": {},
   "outputs": [],
   "source": [
    "plt.figure(figsize=[10,10])\n",
    "\n",
    "plt.imshow(em)\n",
    "tri = Delaunay(vxs_dc)\n",
    "thre = 30\n",
    "small_tri = [ x for x in tri.simplices if np.linalg.norm(vxs_dc[x[0]]-vxs_dc[x[1]])<= thre and np.linalg.norm(vxs_dc[x[2]]-vxs_dc[x[1]])<= thre and np.linalg.norm(vxs_dc[x[0]]-vxs_dc[x[2]])<= thre]\n",
    "\n",
    "plt.triplot(vxs_dc[:,0], vxs_dc[:,1], small_tri)\n"
   ]
  },
  {
   "cell_type": "code",
   "execution_count": null,
   "metadata": {},
   "outputs": [],
   "source": [
    "# length short to long, connect follow delaunary criteria, but only one triangle permitted\n",
    "plt.figure(figsize=[10,10])\n",
    "\n",
    "plt.imshow(em)\n",
    "tri = Delaunay(vxs_dc)\n",
    "thre = 30\n",
    "small_tri = [ x for x in tri.simplices if np.linalg.norm(vxs_dc[x[0]]-vxs_dc[x[1]])<= thre and np.linalg.norm(vxs_dc[x[2]]-vxs_dc[x[1]])<= thre and np.linalg.norm(vxs_dc[x[0]]-vxs_dc[x[2]])<= thre]\n",
    "\n",
    "plt.triplot(vxs_dc[:,0], vxs_dc[:,1], small_tri)\n",
    "\n",
    "def max_len(tri):\n",
    "    a = np.linalg.norm(vxs_dc[tri[0]]-vxs_dc[tri[1]])\n",
    "    b = np.linalg.norm(vxs_dc[tri[2]]-vxs_dc[tri[1]])\n",
    "    c = np.linalg.norm(vxs_dc[tri[0]]-vxs_dc[tri[2]])\n",
    "    if a > b:\n",
    "        tmax = a\n",
    "    else:\n",
    "        tmax = b\n",
    "    if tmax > c:\n",
    "        return tmax\n",
    "    else:\n",
    "        return c\n",
    "\n",
    "x = sorted(tri.simplices, key=max_len)"
   ]
  },
  {
   "cell_type": "code",
   "execution_count": null,
   "metadata": {},
   "outputs": [],
   "source": [
    "n_vx = len(vxs_dc)\n",
    "st_link = np.zeros([n_vx, n_vx])\n",
    "y = []\n",
    "thre = 55\n",
    "for st in x:\n",
    "    if max_len(st) > thre:\n",
    "        break\n",
    "    if st_link[st[0],st[1]]==1 or st_link[st[2],st[1]]==1 or st_link[st[0],st[2]]==1:\n",
    "        continue\n",
    "    if np.sum(st_link[st[0],:])==4 or np.sum(st_link[st[1],:])==4 or np.sum(st_link[st[2],:])==4:\n",
    "        continue\n",
    "    else:\n",
    "        st_link[st[0], st[1]]=st_link[st[1], st[0]]=1\n",
    "        st_link[st[2], st[1]]=st_link[st[1], st[2]]=1\n",
    "        st_link[st[0], st[2]]=st_link[st[2], st[0]]=1\n",
    "        y.append(st)\n",
    "\n",
    "# each vertices at most 2 triangle\n",
    "\n",
    "# error 2 is triable too"
   ]
  },
  {
   "cell_type": "code",
   "execution_count": null,
   "metadata": {},
   "outputs": [],
   "source": [
    "plt.figure(figsize=[10,10])\n",
    "plt.imshow(em)\n",
    "plt.triplot(vxs_dc[:,0], vxs_dc[:,1], y)\n"
   ]
  },
  {
   "cell_type": "code",
   "execution_count": null,
   "metadata": {},
   "outputs": [],
   "source": [
    "# Find circlecenters\n",
    "circums = [ getTrianglesCircumcenter(stri) for stri in small_tri ]"
   ]
  },
  {
   "cell_type": "code",
   "execution_count": null,
   "metadata": {},
   "outputs": [],
   "source": [
    "# use small triangle to find nodes\n",
    "\n",
    "tri = Delaunay(vxs_dc)\n",
    "thre = 30\n",
    "small_tri = [ x for x in tri.simplices if np.linalg.norm(vxs_dc[x[0]]-vxs_dc[x[1]])<= thre and np.linalg.norm(vxs_dc[x[2]]-vxs_dc[x[1]])<= thre and np.linalg.norm(vxs_dc[x[0]]-vxs_dc[x[2]])<= thre]\n",
    "large_tri = getLargeTri(vxs_dc, small_tri)\n",
    "\n"
   ]
  },
  {
   "cell_type": "code",
   "execution_count": null,
   "metadata": {},
   "outputs": [],
   "source": []
  },
  {
   "cell_type": "code",
   "execution_count": null,
   "metadata": {},
   "outputs": [],
   "source": [
    "# find outcenter for triangles"
   ]
  },
  {
   "cell_type": "code",
   "execution_count": null,
   "metadata": {},
   "outputs": [],
   "source": [
    "dist_distribution=[]\n",
    "for i in range(n_vx):\n",
    "    for j in range(i+1, n_vx):\n",
    "        if links[i][j]==1:\n",
    "            dist_distribution.append(np.linalg.norm(points[i]-points[j]))"
   ]
  },
  {
   "cell_type": "code",
   "execution_count": null,
   "metadata": {},
   "outputs": [],
   "source": [
    "plt.hist(dist_distribution, bins=20)\n",
    "plt.hist(fp, bins=20)\n",
    "plt.title(\"Histogram of Spectrin Length Distribution\")\n",
    "plt.xlabel(\"Lengths (Pixels)\")\n",
    "plt.ylabel(\"Counts\")\n",
    "plt.legend([\"True distribution\",\"False distribution\"])"
   ]
  },
  {
   "cell_type": "code",
   "execution_count": null,
   "metadata": {},
   "outputs": [],
   "source": [
    "links_distribution=np.sum(links,0)\n",
    "plt.hist(links_distribution, bins=7)\n",
    "plt.title(\"Histogram of Branches per Junction\")\n",
    "plt.xlabel(\"Junction Numbers\")\n",
    "plt.ylabel(\"Counts\")"
   ]
  },
  {
   "cell_type": "code",
   "execution_count": null,
   "metadata": {},
   "outputs": [],
   "source": [
    "np.unique(links_distribution)"
   ]
  },
  {
   "cell_type": "code",
   "execution_count": null,
   "metadata": {},
   "outputs": [],
   "source": [
    "\n",
    "def sum_line_cnt(img, p0, p1):\n",
    "    \"\"\"Generate pixel coordinates of the line from (x0, y0) to (x1, y1) using Bresenham's algorithm.\"\"\"\n",
    "    pixels = []\n",
    "    cnt = 0\n",
    "    flag = 0\n",
    "    x0 = p0[0]\n",
    "    y0 = p0[1]\n",
    "    x1 = p1[0]\n",
    "    y1 = p1[1]\n",
    "\n",
    "    # Determine differences and steps\n",
    "    #print(x0, x1, y0, y1)\n",
    "    dx = abs(x1 - x0)\n",
    "    dy = -abs(y1 - y0)\n",
    "    sx = 1 if x0 < x1 else -1\n",
    "    sy = 1 if y0 < y1 else -1\n",
    "    err = dx + dy\n",
    "\n",
    "    while True:\n",
    "        pixels.append((x0, y0))  # Add the current pixel to the list\n",
    "        if np.around(img[x0][y0])==1 and flag==0:\n",
    "            cnt+=1\n",
    "            flag=1\n",
    "        elif np.around(img[x0][y0])==0 and flag==1:\n",
    "            flag=0\n",
    "        if x0 == x1 and y0 == y1:\n",
    "            break\n",
    "        e2 = 2 * err\n",
    "        if e2 >= dy:  # error accumulated exceeds the threshold\n",
    "            err += dy\n",
    "            x0 += sx\n",
    "        if e2 <= dx:  # error accumulated exceeds the threshold\n",
    "            err += dx\n",
    "            y0 += sy\n",
    "\n",
    "    return cnt, pixels\n",
    "\n",
    "def sum_line_cnct(img, p0, p1):\n",
    "    \"\"\"Generate pixel coordinates of the line from (x0, y0) to (x1, y1) using Bresenham's algorithm.\"\"\"\n",
    "    #pixels = []\n",
    "    max_sum = 0\n",
    "    sum = 0\n",
    "    x0 = p0[0]\n",
    "    y0 = p0[1]\n",
    "    x1 = p1[0]\n",
    "    y1 = p1[1]\n",
    "\n",
    "    # Determine differences and steps\n",
    "    #print(x0, x1, y0, y1)\n",
    "    dx = abs(x1 - x0)\n",
    "    dy = -abs(y1 - y0)\n",
    "    sx = 1 if x0 < x1 else -1\n",
    "    sy = 1 if y0 < y1 else -1\n",
    "    err = dx + dy\n",
    "    \n",
    "    while True:\n",
    "        #pixels.append((x0, y0))  # Add the current pixel to the list\n",
    "        if img[x0][y0]>0:\n",
    "            sum += img[x0][y0]>0\n",
    "        else:\n",
    "            if max_sum < sum:\n",
    "                max_sum = sum\n",
    "            sum = 0\n",
    "        if x0 == x1 and y0 == y1:\n",
    "            break\n",
    "        e2 = 2 * err\n",
    "        if e2 >= dy:  # error accumulated exceeds the threshold\n",
    "            err += dy\n",
    "            x0 += sx\n",
    "        if e2 <= dx:  # error accumulated exceeds the threshold\n",
    "            err += dx\n",
    "            y0 += sy\n",
    "\n",
    "    \n",
    "    if max_sum < sum:\n",
    "        max_sum = sum\n",
    "    return max_sum\n"
   ]
  },
  {
   "cell_type": "code",
   "execution_count": null,
   "metadata": {},
   "outputs": [],
   "source": [
    "\n",
    "tri = Delaunay(vxs)\n",
    "\n",
    "points=vxs\n",
    "fig = plt.figure(figsize=[10,10])\n",
    "ax = fig.add_subplot(111)\n",
    "\n",
    "plt.imshow(em)\n",
    "#plt.triplot(points[:,0], points[:,1], tri.simplices)\n",
    "plt.plot(points[:,0], points[:,1],'o')\n",
    "perf1 = []\n",
    "thres = [x * 5 for x in range(7, 25)]\n",
    "thres = [100]\n",
    "for thre in thres:\n",
    "    small_tri = [ x for x in tri.simplices if np.linalg.norm(points[x[0]]-points[x[1]])<= thre and np.linalg.norm(points[x[2]]-points[x[1]])<= thre and np.linalg.norm(points[x[0]]-points[x[2]])<= thre]\n",
    "    link_dl = np.zeros([n_vx, n_vx])\n",
    "    # for x in tri.simplices:\n",
    "    #     if np.linalg.norm(points[x[0]]-points[x[1]])<= thre:\n",
    "    #         link_dl[x[0]][x[1]]=link_dl[x[1]][x[0]]=1\n",
    "    #     if np.linalg.norm(points[x[0]]-points[x[2]])<= thre:\n",
    "    #         link_dl[x[0]][x[2]]=link_dl[x[2]][x[0]]=1\n",
    "    #     if np.linalg.norm(points[x[0]]-points[x[1]])<= thre:\n",
    "    #         link_dl[x[1]][x[2]]=link_dl[x[2]][x[1]]=1\n",
    "\n",
    "    for x in small_tri:\n",
    "        link_dl[x[0]][x[1]]=link_dl[x[1]][x[0]]=link_dl[x[0]][x[2]]=link_dl[x[2]][x[0]]=link_dl[x[1]][x[2]]=link_dl[x[2]][x[1]]=1\n",
    "    perf1.append(performance(link_dl, links))\n",
    "    plt.triplot(points[:,0], points[:,1], small_tri, c=\"g\")\n",
    "    ax.set_aspect('equal', adjustable='box')\n",
    "\n",
    "fp=[]\n",
    "for i in range(n_vx):\n",
    "    for j in range(i+1, n_vx):\n",
    "        if link_dl[i][j]==1 and links[i][j]==0:\n",
    "            plt.plot([vxs[i][0],vxs[j][0]],[vxs[i][1],vxs[j][1]], color=\"r\")\n",
    "            fp.append(dist[i][j])\n",
    "        elif link_dl[i][j]==0 and links[i][j]==1:\n",
    "            plt.plot([vxs[i][0],vxs[j][0]],[vxs[i][1],vxs[j][1]], '--', color=\"r\")\n",
    "\n",
    "colors=[plt.cm.Accent(i) for i in np.linspace(0, 1, 8)]\n",
    "for i in range(n_vx):\n",
    "    plt.plot(points[i,0], points[i,1],'o',c=colors[int(links_distribution[i])])\n",
    "\n"
   ]
  },
  {
   "cell_type": "code",
   "execution_count": null,
   "metadata": {},
   "outputs": [],
   "source": [
    "links_distribution[i]"
   ]
  },
  {
   "cell_type": "code",
   "execution_count": null,
   "metadata": {},
   "outputs": [],
   "source": [
    "plt.hist(fp,bins=20)"
   ]
  },
  {
   "cell_type": "code",
   "execution_count": null,
   "metadata": {},
   "outputs": [],
   "source": [
    "\n",
    "ax=plt.gca()\n",
    "ax.set_prop_cycle('color',[plt.cm.Accent(i) for i in np.linspace(0, 1, 3)])\n",
    "plt.plot(thres, perf)\n",
    "plt.plot(thres, perf1,'--')\n",
    "\n",
    "plt.legend([\"Accuracy\", \"Precision\", \"Recall\", \"Accuracy for triangles\", \"Precision for triangles\", \"Recall for triangles\"])\n",
    "#plt.yscale('log',base=10) \n",
    "plt.xlabel(\"Upper bound(pixels)\")\n",
    "plt.title(\"Effect of upper bound changes to the Delaunary result preformance\")"
   ]
  },
  {
   "cell_type": "code",
   "execution_count": null,
   "metadata": {},
   "outputs": [],
   "source": [
    "link_dl = np.zeros([n_vx, n_vx])\n",
    "for x in small_tri:\n",
    "    link_dl[x[0]][x[1]]=link_dl[x[0]][x[2]]=link_dl[x[1]][x[0]]=link_dl[x[1]][x[2]]=link_dl[x[2]][x[1]]=link_dl[x[2]][x[0]]=1\n",
    "performance(link_dl, links)"
   ]
  },
  {
   "cell_type": "code",
   "execution_count": null,
   "metadata": {},
   "outputs": [],
   "source": [
    "from scipy.spatial import Delaunay\n",
    "tri = Delaunay(vxs)\n",
    "\n",
    "points=vxs\n",
    "fig = plt.figure(figsize=[10,10])\n",
    "ax = fig.add_subplot(111)\n",
    "\n",
    "links_att = np.zeros([n_vx, n_vx])\n"
   ]
  },
  {
   "cell_type": "code",
   "execution_count": null,
   "metadata": {},
   "outputs": [],
   "source": [
    "def ccw(A,B,C):\n",
    "    return (C[1]-A[1]) * (B[0]-A[0]) > (B[1]-A[1]) * (C[0]-A[0])\n",
    "\n",
    "# Return true if line segments AB and CD intersect\n",
    "def intersect(A,B,C,D):\n",
    "    return ccw(A,C,D) != ccw(B,C,D) and ccw(A,B,C) != ccw(A,B,D)\n",
    "\n",
    "\n",
    "\n",
    "perf_th = []\n",
    "plt.figure(figsize=[10,10])\n",
    "plt.imshow(em)\n",
    "#ks=[ x for x in range(1,8)]\n",
    "ks=[x+1 for x in range(10)]\n",
    "for k in ks:\n",
    "    s_dist=np.argsort(dist,axis=1)\n",
    "    nearest_k = s_dist[:,:k]\n",
    "    link_th = np.zeros([n_vx, n_vx])\n",
    "    for i in range(n_vx):\n",
    "        cnt=0\n",
    "        for j in range(k):\n",
    "            jk = nearest_k[i][j]\n",
    "            flag=0\n",
    "            if dist[i][jk] < 110:\n",
    "                if sum_line_cnt(close_mid, vxs[i].astype(int),vxs[jk].astype(int))[0] <3:\n",
    "                    link_th[i][jk]=link_th[jk][i]=1\n",
    "                    plt.plot([vxs[i][0],vxs[jk][0]],[vxs[i][1],vxs[jk][1]], color=\"g\")\n",
    "    perf_th.append(performance(link_th, links))\n",
    "    # for i in range(n_vx):\n",
    "    #     for j in range(i+1, n_vx):\n",
    "    #         if link_th[i][j]==1 and links[i][j]==0:\n",
    "    #             plt.plot([vxs[i][0],vxs[j][0]],[vxs[i][1],vxs[j][1]], color=\"r\")\n",
    "    #         elif link_th[i][j]==0 and links[i][j]==1:\n",
    "    #             plt.plot([vxs[i][0],vxs[j][0]],[vxs[i][1],vxs[j][1]], '--', color=\"r\")\n",
    "\n",
    "\n",
    "for i in range(n_vx):\n",
    "    for j in range(k):\n",
    "        jk = nearest_k[i][j]\n",
    "        if link_th[i][j]==0\n",
    "    if intersect(vxs[lines[0]],vxs[lines[1]],vxs[i],vxs[jk]):\n",
    "    flag=1\n",
    "    break\n"
   ]
  },
  {
   "cell_type": "code",
   "execution_count": null,
   "metadata": {},
   "outputs": [],
   "source": [
    "\n",
    "ax=plt.gca()\n",
    "ax.set_prop_cycle('color',[plt.cm.Accent(i) for i in np.linspace(0, 1, 3)])\n",
    "plt.plot(ks, perf_th)\n",
    "\n",
    "plt.legend([\"Accuracy\", \"Precision\", \"Recall\"])\n",
    "#plt.yscale('log',base=10) \n",
    "plt.xlabel(\"The K shortest\")\n",
    "plt.title(\"Effect of K  to the K nearest neighbour connection preformance\")"
   ]
  },
  {
   "cell_type": "code",
   "execution_count": null,
   "metadata": {},
   "outputs": [],
   "source": [
    "perf_th[7:]"
   ]
  },
  {
   "cell_type": "code",
   "execution_count": null,
   "metadata": {},
   "outputs": [],
   "source": [
    "\n",
    "import math\n",
    "def angle_of_line(xy0, xy1):\n",
    "    xy=xy1-xy0\n",
    "    return math.atan2(-xy[1], xy[0])\n",
    "\n",
    "def plotBalance(links, vxs, plot=1, len_unstretched=50):\n",
    "    n_vx=len(vxs)\n",
    "    balance = [[0,0] for x in range(n_vx)]\n",
    "    for i in range(n_vx):\n",
    "        for j in range(i+1,n_vx):\n",
    "            if links[i][j] == 1:\n",
    "                tmp_dist = np.linalg.norm(vxs[i]-vxs[j])\n",
    "                tmp_angle=angle_of_line(vxs[i],vxs[j])\n",
    "                if tmp_dist > len_unstretched:\n",
    "                    balance[i][0]+=(tmp_dist-len_unstretched)*math.cos(tmp_angle)\n",
    "                    balance[i][1]+=(tmp_dist-len_unstretched)*math.sin(tmp_angle)\n",
    "                if plot == 1:\n",
    "                    plt.plot([vxs[i][0],vxs[j][0]], [vxs[i][1],vxs[j][1]], color=\"g\")#cmap((t_dist-thre[0])/(thre[1]-thre[0])))\n",
    "    colors=[plt.cm.cool(i) for i in np.linspace(0, 1, 10)]\n",
    "    total_balance = [ x[0]**2 + x[1]**2 for x in balance ]\n",
    "    t_balance = total_balance/np.max(total_balance)\n",
    "    if plot == 1:\n",
    "        for i in range(n_vx):\n",
    "            plt.plot(vxs[i,0],vxs[i,1],\".\",markerfacecolor=plt.cm.cool(t_balance[i]), markeredgecolor=plt.cm.cool(t_balance[i]), markersize=10)\n",
    "        ax = plt.gca()\n",
    "        ax.set_aspect('equal', adjustable='box')\n",
    "    return balance, total_balance"
   ]
  },
  {
   "cell_type": "code",
   "execution_count": null,
   "metadata": {},
   "outputs": [],
   "source": [
    "b_t,_=plotBalance(links, vxs)"
   ]
  },
  {
   "cell_type": "code",
   "execution_count": null,
   "metadata": {},
   "outputs": [],
   "source": [
    "b_t,_=plotBalance(link_rd, vxs)"
   ]
  },
  {
   "cell_type": "code",
   "execution_count": null,
   "metadata": {},
   "outputs": [],
   "source": [
    "performance(link_dl, links)"
   ]
  },
  {
   "cell_type": "code",
   "execution_count": null,
   "metadata": {},
   "outputs": [],
   "source": [
    "len_unstretched = 50\n",
    "#b_n=plotBalance(link_dl, vxs)\n",
    "def reduceLink(links, vxs, len_unstretched=50):\n",
    "    balance, total_balance = plotBalance(links, vxs, 0, len_unstretched)\n",
    "    n_links = links.copy()\n",
    "    while True:\n",
    "        # generate the improvement matrix\n",
    "        improve_links=np.zeros(links.shape)\n",
    "        for i in range(n_vx):\n",
    "            # can be optimized by store max_improve and only the max_improve point\n",
    "            for j in range(i+1, n_vx):\n",
    "                if links[i][j]==1:\n",
    "                    tmp_dist = np.linalg.norm(vxs[i]-vxs[j])\n",
    "                    tmp_angle=angle_of_line(vxs[i],vxs[j])\n",
    "                    if tmp_dist > len_unstretched:\n",
    "                        tmp_b0=balance[i][0]-(tmp_dist-len_unstretched)*math.cos(tmp_angle)\n",
    "                        tmp_b1=balance[i][1]-(tmp_dist-len_unstretched)*math.sin(tmp_angle)\n",
    "                        tmp_b2=balance[j][0]-(tmp_dist-len_unstretched)*math.cos(tmp_angle)\n",
    "                        tmp_b3=balance[j][1]-(tmp_dist-len_unstretched)*math.sin(tmp_angle)\n",
    "                        tmp_improve = total_balance[i]+total_balance[j] - tmp_b0**2+tmp_b1**2+tmp_b2**2+tmp_b3**2\n",
    "                        if tmp_improve > 0:\n",
    "                            improve_links[i][j]=tmp_improve\n",
    "        affected_vxs=np.zeros(vxs.shape)\n",
    "        \n",
    "    return(n_links)\n",
    "\n",
    "# or start from the most unbalanced point"
   ]
  },
  {
   "cell_type": "code",
   "execution_count": null,
   "metadata": {},
   "outputs": [],
   "source": [
    "from matplotlib.lines import Line2D\n",
    "import matplotlib.patches as mpatches\n",
    "\n",
    "def plotComparison(links1, links2, vxs, colors=[plt.cm.Accent(i) for i in np.linspace(0, 1, 3)]):\n",
    "    # common links in green\n",
    "    # links1 only in red\n",
    "    # links2 only in dashed red\n",
    "    plt.figure(figsize=[10,10])\n",
    "    n_vx = len(links1)\n",
    "    for i in range(n_vx):\n",
    "        for j in range(i+1, n_vx):\n",
    "            if links1[i][j]==1 and links2[i][j]==1:\n",
    "                plt.plot([vxs[i][0],vxs[j][0]],[vxs[i][1],vxs[j][1]], color=colors[0])\n",
    "            elif links1[i][j]==1 and links2[i][j]==0:\n",
    "                plt.plot([vxs[i][0],vxs[j][0]],[vxs[i][1],vxs[j][1]], color=colors[1])\n",
    "            elif links1[i][j]==0 and links2[i][j]==1:\n",
    "                plt.plot([vxs[i][0],vxs[j][0]],[vxs[i][1],vxs[j][1]], color=colors[2])\n",
    "\n",
    "    b1 = plotBalance(links1, vxs, plot=0, len_unstretched=50)[1]\n",
    "    b2 = plotBalance(links2, vxs, plot=0, len_unstretched=50)[1]\n",
    "\n",
    "    for i in range(n_vx):\n",
    "        if b1[i] > b2[i]:\n",
    "            plt.plot(points[i,0], points[i,1],'o',c=colors[2])\n",
    "        elif b1[i] < b2[i]:\n",
    "            plt.plot(points[i,0], points[i,1],'o',c=colors[1])\n",
    "        else:\n",
    "            plt.plot(points[i,0], points[i,1],'o',c=colors[0])\n",
    "\n",
    "    handles, labels = plt.gca().get_legend_handles_labels()\n",
    "    ax = plt.gca()\n",
    "    ax.set_aspect('equal', adjustable='box')\n",
    "    line0 = Line2D([0], [0], label='Common', color=colors[0])\n",
    "    line1 = Line2D([0], [0], label='Links1 only', color=colors[1])\n",
    "    line2 = Line2D([0], [0], label='Links2 only', color=colors[2])\n",
    "    point0 = Line2D([0], [0], label='Common Vertex', marker='o', markersize=10, \n",
    "            markeredgecolor=colors[0], markerfacecolor=colors[0], linestyle='')\n",
    "    point1 = Line2D([0], [0], label='Links1 Better Vertex', marker='o', markersize=10, \n",
    "            markeredgecolor=colors[1], markerfacecolor=colors[1], linestyle='')\n",
    "    point2 = Line2D([0], [0], label='Links2 Better Vertex', marker='o', markersize=10, \n",
    "            markeredgecolor=colors[2], markerfacecolor=colors[2], linestyle='')\n",
    "\n",
    "    # add manual symbols to auto legend\n",
    "    handles.extend([line0, line1, line2, point0, point1, point2])\n",
    "    plt.legend(handles=handles)"
   ]
  },
  {
   "cell_type": "code",
   "execution_count": null,
   "metadata": {},
   "outputs": [],
   "source": [
    "plotComparison(links, link_dl, vxs)"
   ]
  },
  {
   "cell_type": "code",
   "execution_count": null,
   "metadata": {},
   "outputs": [],
   "source": [
    "plotComparison(link_rd, links, vxs)"
   ]
  },
  {
   "cell_type": "code",
   "execution_count": null,
   "metadata": {},
   "outputs": [],
   "source": [
    "#(0.9942022714981071, 0.8013355592654424, 0.9696969696969697)\n",
    "link_rd=reduceLink(link_dl, vxs, len_unstretched=50)\n",
    "performance(link_rd, links)"
   ]
  },
  {
   "cell_type": "code",
   "execution_count": null,
   "metadata": {},
   "outputs": [],
   "source": [
    "x=plotBalance(link_rd, vxs)"
   ]
  },
  {
   "cell_type": "code",
   "execution_count": null,
   "metadata": {},
   "outputs": [],
   "source": [
    "np.sum(np.array(x).flatten())"
   ]
  },
  {
   "cell_type": "code",
   "execution_count": null,
   "metadata": {},
   "outputs": [],
   "source": [
    "x=plotBalance(link_dl, vxs)"
   ]
  },
  {
   "cell_type": "code",
   "execution_count": null,
   "metadata": {},
   "outputs": [],
   "source": [
    "plt.imshow(img[regions[2]:regions[3],regions[0]:regions[1]])"
   ]
  },
  {
   "cell_type": "markdown",
   "metadata": {},
   "source": [
    "# Run on a lot of images"
   ]
  },
  {
   "cell_type": "code",
   "execution_count": null,
   "metadata": {},
   "outputs": [],
   "source": [
    "img = cv2.imread(\"../data/rendered/Tcell/inactivated/AF647_adducin CF597R_b2spec/adducin_647_1.png\", -1)\n",
    "loc_file=\"../data/rendered/Tcell/inactivated/AF647_adducin CF597R_b2spec/STORM-AF647_0001_list_COR.txt\"\n",
    "regions=[1000,1500,1000,1500]\n",
    "img,vxs = lmax_loc(loc_file,regions,img[regions[2]:regions[3],regions[0]:regions[1]])\n",
    "links=generateLinks(vxs, img, thre=220/16)\n",
    "link_list = convertMatrix2List(links)\n",
    "tri_list = getTrianglesFromList(link_list)\n",
    "h1 = HeatmapOfTris(vxs, tri_list)\n",
    "h2 = HeatmapOfConnects(vxs, links)\n",
    "print(\"Average junction connections:\", np.mean(np.sum(links, 0)))\n",
    "at = AreaCoveredByTriangles(tri_list, vxs)\n",
    "ac = AreaOfCell(img)\n",
    "print(\"Coverage percentage of connected Triangles:\", 100*at/ac, \"%\")\n",
    "plt.figure(figsize=[10,10])\n",
    "plt.imshow(h1.T)\n",
    "plt.figure(figsize=[10,10])\n",
    "plt.imshow(h2.T)\n",
    "plt.figure(figsize=[10,10])\n",
    "plt.plot(h1.flatten(), h2.flatten(),'.')\n",
    "plt.xlabel(\"Triangle Numbers\")\n",
    "plt.ylabel(\"Average Junction Connections\")\n",
    "plt.title(\"The correlation is: \"+str(np.corrcoef(h1.flatten(),h2.flatten())[0][1]))"
   ]
  },
  {
   "cell_type": "code",
   "execution_count": null,
   "metadata": {},
   "outputs": [],
   "source": [
    "# img = cv2.imread(\"../data/rendered/Tcell/inactivated/AF647_adducin CF597R_b2spec/adducin_647_1.png\", -1)\n",
    "# loc_file=\"../data/rendered/Tcell/inactivated/AF647_adducin CF597R_b2spec/STORM-AF647_0001_list_COR.txt\"\n",
    "# regions=[1000,1500,1000,1500]\n",
    "img = cv2.imread(\"../data/rendered/Tcell/inactivated/AF647_adducin CF597R_b2spec/adducin_647_2.png\", -1)\n",
    "loc_file=\"../data/rendered/Tcell/inactivated/AF647_adducin CF597R_b2spec/STORM-AF647_0002_list_COR.txt\"\n",
    "regions=[564,564+681,696,696+687]\n",
    "img,vxs = lmax_loc(loc_file,regions,img[regions[2]:regions[3],regions[0]:regions[1]])\n",
    "links=generateLinks(vxs, img, thre=220/16)\n",
    "link_list = convertMatrix2List(links)\n",
    "tri_list = getTrianglesFromList(link_list)\n",
    "h1 = HeatmapOfTris(vxs, tri_list)\n",
    "h2 = HeatmapOfConnects(vxs, links)\n",
    "print(\"Average junction connections:\", np.mean(np.sum(links, 0)))\n",
    "at = AreaCoveredByTriangles(tri_list, vxs)\n",
    "ac = AreaOfCell(img)\n",
    "print(\"Coverage percentage of connected Triangles:\", 100*at/ac, \"%\")\n",
    "plt.figure(figsize=[10,10])\n",
    "plt.imshow(h1.T)\n",
    "plt.figure(figsize=[10,10])\n",
    "plt.imshow(h2.T)\n",
    "plt.figure(figsize=[10,10])\n",
    "plt.plot(h1.flatten(), h2.flatten(),'.')\n",
    "plt.xlabel(\"Triangle Numbers\")\n",
    "plt.ylabel(\"Average Junction Connections\")\n",
    "plt.title(\"The correlation is: \"+str(np.corrcoef(h1.flatten(),h2.flatten())[0][1]))"
   ]
  },
  {
   "cell_type": "code",
   "execution_count": null,
   "metadata": {},
   "outputs": [],
   "source": [
    "img = cv2.imread(\"../data/rendered/Tcell/inactivated/AF647_adducin CF597R_b2spec/adducin_647_5.png\", -1)\n",
    "loc_file=\"../data/rendered/Tcell/inactivated/AF647_adducin CF597R_b2spec/STORM-AF647_0005_list_COR.txt\"\n",
    "regions=[687,687+825,792,792+777]\n",
    "img,vxs = lmax_loc(loc_file,regions,img[regions[2]:regions[3],regions[0]:regions[1]])\n",
    "cell_mask = AreaOfCell(img)[0]\n",
    "vxs = np.array([x for x in vxs if cell_mask[int(x[1])][int(x[0])]>0])\n",
    "links=generateLinks(vxs, img, thre=220/16)\n",
    "link_list = convertMatrix2List(links)\n",
    "tri_list = getTrianglesFromList(link_list)\n",
    "h1 = HeatmapOfTris(vxs, tri_list)\n",
    "h2 = HeatmapOfConnects(vxs, links)\n",
    "print(\"Average junction connections:\", np.mean(np.sum(links, 0)))\n",
    "at = AreaCoveredByTriangles(tri_list, vxs)\n",
    "ac = AreaOfCell(img)[1]\n",
    "print(\"Coverage percentage of connected Triangles:\", 100*at/ac, \"%\")\n",
    "plt.figure(figsize=[10,10])\n",
    "plt.imshow(h1.T)\n",
    "plt.figure(figsize=[10,10])\n",
    "plt.imshow(h2.T)\n",
    "plt.figure(figsize=[10,10])\n",
    "plt.plot(h1.flatten(), h2.flatten(),'.')\n",
    "plt.xlabel(\"Triangle Numbers\")\n",
    "plt.ylabel(\"Average Junction Connections\")\n",
    "plt.title(\"The correlation is: \"+str(np.corrcoef(h1.flatten(),h2.flatten())[0][1]))"
   ]
  },
  {
   "cell_type": "code",
   "execution_count": null,
   "metadata": {},
   "outputs": [],
   "source": [
    "img = cv2.imread(\"../data/rendered/soma/1226_5.png\", -1)\n",
    "loc_file=\"../data/rendered/soma/1226_5.txt\"\n",
    "regions=[996,996+855,717,717+744]\n",
    "img,vxs = lmax_loc(loc_file,regions,img[regions[2]:regions[3],regions[0]:regions[1]])\n",
    "cell_mask = AreaOfCell(img)[0]\n",
    "vxs = np.array([x for x in vxs if cell_mask[int(x[1])][int(x[0])]>0])\n",
    "links=generateLinks(vxs, img, thre=220/16)\n",
    "link_list = convertMatrix2List(links)\n",
    "tri_list = getTrianglesFromList(link_list)\n",
    "h1 = HeatmapOfTris(vxs, tri_list)\n",
    "h2 = HeatmapOfConnects(vxs, links)\n",
    "print(\"Average junction connections:\", np.mean(np.sum(links, 0)))\n",
    "at = AreaCoveredByTriangles(tri_list, vxs)\n",
    "ac = AreaOfCell(img)[1]\n",
    "print(\"Coverage percentage of connected Triangles:\", 100*at/ac, \"%\")\n",
    "plt.figure(figsize=[10,10])\n",
    "plt.imshow(h1.T)\n",
    "plt.figure(figsize=[10,10])\n",
    "plt.imshow(h2.T)\n",
    "plt.figure(figsize=[10,10])\n",
    "plt.plot(h1.flatten(), h2.flatten(),'.')\n",
    "plt.xlabel(\"Triangle Numbers\")\n",
    "plt.ylabel(\"Average Junction Connections\")\n",
    "plt.title(\"The correlation is: \"+str(np.corrcoef(h1.flatten(),h2.flatten())[0][1]))"
   ]
  },
  {
   "cell_type": "code",
   "execution_count": null,
   "metadata": {},
   "outputs": [],
   "source": [
    "img = cv2.imread(\"../data/rendered/soma/1226_9.png\", -1)\n",
    "loc_file=\"../data/rendered/soma/1226_9.txt\"\n",
    "regions=[741,741+1188,669,669+843]\n",
    "img,vxs = lmax_loc(loc_file,regions,img[regions[2]:regions[3],regions[0]:regions[1]])\n",
    "cell_mask = AreaOfCell(img)[0]\n",
    "vxs = np.array([x for x in vxs if cell_mask[int(x[1])][int(x[0])]>0])\n",
    "links=generateLinks(vxs, img, thre=220/16)\n",
    "link_list = convertMatrix2List(links)\n",
    "tri_list = getTrianglesFromList(link_list)\n",
    "h1 = HeatmapOfTris(vxs, tri_list)\n",
    "h2 = HeatmapOfConnects(vxs, links)\n",
    "print(\"Average junction connections:\", np.mean(np.sum(links, 0)))\n",
    "at = AreaCoveredByTriangles(tri_list, vxs)\n",
    "ac = AreaOfCell(img)[1]\n",
    "print(\"Coverage percentage of connected Triangles:\", 100*at/ac, \"%\")\n",
    "plt.figure(figsize=[10,10])\n",
    "plt.imshow(h1.T)\n",
    "plt.figure(figsize=[10,10])\n",
    "plt.imshow(h2.T)\n",
    "plt.figure(figsize=[10,10])\n",
    "plt.plot(h1.flatten(), h2.flatten(),'.')\n",
    "plt.xlabel(\"Triangle Numbers\")\n",
    "plt.ylabel(\"Average Junction Connections\")\n",
    "plt.title(\"The correlation is: \"+str(np.corrcoef(h1.flatten(),h2.flatten())[0][1]))"
   ]
  },
  {
   "cell_type": "code",
   "execution_count": null,
   "metadata": {},
   "outputs": [],
   "source": [
    "plt.imshow(autocontrast(h1.T))\n",
    "plt.figure()\n",
    "plt.imshow(autocontrast(h2.T))"
   ]
  },
  {
   "cell_type": "code",
   "execution_count": null,
   "metadata": {},
   "outputs": [],
   "source": [
    "plt.hist(h1.flatten())"
   ]
  },
  {
   "cell_type": "code",
   "execution_count": null,
   "metadata": {},
   "outputs": [],
   "source": [
    "plt.hist(h2.flatten())"
   ]
  },
  {
   "cell_type": "code",
   "execution_count": null,
   "metadata": {},
   "outputs": [],
   "source": []
  },
  {
   "cell_type": "code",
   "execution_count": null,
   "metadata": {},
   "outputs": [],
   "source": [
    "vxs"
   ]
  },
  {
   "cell_type": "code",
   "execution_count": null,
   "metadata": {},
   "outputs": [],
   "source": [
    "smlm=pd.read_table(loc_file,header=0)\n",
    "test=smlm[[\"Xc\",\"Yc\",\"Zc\"]]\n",
    "img = np.zeros([regions[1]-regions[0], regions[3]-regions[2]],dtype=np.int32)\n",
    "\n",
    "xc=test[\"Xc\"].tolist()\n",
    "yc=test[\"Yc\"].tolist()\n",
    "xc=np.array([ int(x*10-regions[0]) for x in xc]).astype(np.int32)-5\n",
    "yc=np.array([ int(x*10-regions[2]) for x in yc]).astype(np.int32)-5\n",
    "img=grid2D(img,xc,yc,regions[1]-regions[0], regions[3]-regions[2],len(xc))"
   ]
  },
  {
   "cell_type": "code",
   "execution_count": null,
   "metadata": {},
   "outputs": [],
   "source": [
    "np.min(blur)"
   ]
  },
  {
   "cell_type": "code",
   "execution_count": null,
   "metadata": {},
   "outputs": [],
   "source": [
    "blur=cv2.blur(np.array(img).T,(4,4))"
   ]
  },
  {
   "cell_type": "markdown",
   "metadata": {},
   "source": [
    "# Summary the link results"
   ]
  },
  {
   "cell_type": "code",
   "execution_count": null,
   "metadata": {},
   "outputs": [],
   "source": []
  },
  {
   "cell_type": "markdown",
   "metadata": {},
   "source": [
    "# Random Forest Attempts"
   ]
  },
  {
   "cell_type": "code",
   "execution_count": null,
   "metadata": {},
   "outputs": [],
   "source": [
    "d = {'vx1_x': np.repeat([vxs[x][0] for x in range(n_vx)], n_vx), 'vx1_y': np.repeat([vxs[x][1] for x in range(n_vx)], n_vx), 'vx2_x': np.tile([vxs[x][0] for x in range(n_vx)], n_vx), 'vx2_y': np.tile([vxs[x][1] for x in range(n_vx)], n_vx),'length': np.array(dist).flatten()}\n",
    "X = pd.DataFrame(data=d)"
   ]
  },
  {
   "cell_type": "code",
   "execution_count": null,
   "metadata": {},
   "outputs": [],
   "source": [
    "link = {'connect': np.array(links).flatten()}\n",
    "y = np.array(links).flatten()\n"
   ]
  },
  {
   "cell_type": "code",
   "execution_count": null,
   "metadata": {},
   "outputs": [],
   "source": [
    "from sklearn.ensemble import RandomForestClassifier\n",
    "clf = RandomForestClassifier(max_depth=3, random_state=1)\n",
    "clf.fit(X, y)"
   ]
  },
  {
   "cell_type": "code",
   "execution_count": null,
   "metadata": {},
   "outputs": [],
   "source": [
    "a=clf.predict(X)"
   ]
  },
  {
   "cell_type": "markdown",
   "metadata": {},
   "source": [
    "# Play around with pointpats"
   ]
  },
  {
   "cell_type": "code",
   "execution_count": null,
   "metadata": {},
   "outputs": [],
   "source": [
    "pp = pointpats.PointPattern(vxs)\n",
    "print(pp.summary())\n",
    "pp.plot(window= True, title= \"Point pattern\")"
   ]
  },
  {
   "cell_type": "code",
   "execution_count": null,
   "metadata": {},
   "outputs": [],
   "source": [
    "g_test.support\n"
   ]
  },
  {
   "cell_type": "code",
   "execution_count": null,
   "metadata": {},
   "outputs": [],
   "source": [
    "g_test = pointpats.g_test(vxs, support=10,  keep_simulations=True)\n",
    "\n",
    "# grab the middle 95% of simulations using numpy:\n",
    "middle_95pct = np.percentile(g_test.simulations, q=(2.5, 97.5), axis=0)\n",
    "# use the fill_between function to color between the 2.5% and 97.5% envelope\n",
    "plt.fill_between(g_test.support, *middle_95pct, \n",
    "                 color='lightgrey', label='simulated')\n",
    "\n",
    "# plot the line for the observed value of G(d)\n",
    "plt.plot(g_test.support, g_test.statistic, \n",
    "         color='orangered', label='observed')\n",
    "# and plot the support points depending on whether their p-value is smaller than .05\n",
    "plt.scatter(g_test.support, g_test.statistic, \n",
    "            cmap='viridis', c=g_test.pvalue < .01)\n",
    "plt.legend()\n",
    "plt.xlabel('Distance')\n",
    "plt.ylabel('G Function')\n",
    "plt.title('G Function Plot')\n",
    "plt.show()"
   ]
  },
  {
   "cell_type": "code",
   "execution_count": null,
   "metadata": {},
   "outputs": [],
   "source": [
    "k_test = pointpats.k_test(vxs*16, keep_simulations=True)\n",
    "plt.plot(k_test.support, k_test.simulations.T, color='k', alpha=.01)\n",
    "plt.plot(k_test.support, k_test.statistic, color='orangered')\n",
    "\n",
    "plt.scatter(k_test.support, k_test.statistic, \n",
    "            cmap='viridis', c=k_test.pvalue < .05,\n",
    "            zorder=4 # make sure they plot on top\n",
    "           )\n",
    "\n",
    "plt.xlabel('Distance')\n",
    "plt.ylabel('K Function')\n",
    "plt.title('K Function Plot')\n",
    "plt.show()"
   ]
  },
  {
   "cell_type": "code",
   "execution_count": null,
   "metadata": {},
   "outputs": [],
   "source": [
    "#link_list = convertMatrix2List(links)\n",
    "#tri_list = getTrianglesFromList(link_list)\n",
    "#tri_cents = getTrianglesCentroid(tri_list, vxs)\n",
    "#k_test = pointpats.k_test(np.array(tri_cents)*16, keep_simulations=True,n_simulations=10)\n",
    "plot_ltest(np.array(tri_cents)*16, support=(1,300,20), title=\"Triangle Center\")"
   ]
  },
  {
   "cell_type": "code",
   "execution_count": null,
   "metadata": {},
   "outputs": [],
   "source": [
    "plot_ltest(np.array(vxs)*16, support=(1,300,20), title=\"Junctions\", n_simulations=100)"
   ]
  },
  {
   "cell_type": "code",
   "execution_count": null,
   "metadata": {},
   "outputs": [],
   "source": [
    "plot_ktest(np.array(vxs)*16, support=(1,300,20), title=\"Junctions\")"
   ]
  },
  {
   "cell_type": "code",
   "execution_count": null,
   "metadata": {},
   "outputs": [],
   "source": [
    "bin_centers, rdf = compute_rdf(vxs, max_distance, num_bins, box_length)\n",
    "\n",
    "plt.figure(figsize=(8, 5))\n",
    "plt.plot(bin_centers, rdf)\n",
    "plt.xlabel('Distance')\n",
    "plt.ylabel('g(r)')\n",
    "plt.title('Radial Distribution Function')\n",
    "plt.grid(True)\n",
    "plt.show()"
   ]
  }
 ],
 "metadata": {
  "kernelspec": {
   "display_name": "jupyter",
   "language": "python",
   "name": "python3"
  },
  "language_info": {
   "codemirror_mode": {
    "name": "ipython",
    "version": 3
   },
   "file_extension": ".py",
   "mimetype": "text/x-python",
   "name": "python",
   "nbconvert_exporter": "python",
   "pygments_lexer": "ipython3",
   "version": "3.12.3"
  }
 },
 "nbformat": 4,
 "nbformat_minor": 2
}
